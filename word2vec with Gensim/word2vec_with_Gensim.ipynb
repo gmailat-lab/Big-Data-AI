{
  "nbformat": 4,
  "nbformat_minor": 0,
  "metadata": {
    "colab": {
      "provenance": []
    },
    "kernelspec": {
      "name": "python3",
      "display_name": "Python 3"
    },
    "language_info": {
      "name": "python"
    }
  },
  "cells": [
    {
      "cell_type": "markdown",
      "source": [
        "1. Instalación y cargar el modelo"
      ],
      "metadata": {
        "id": "nJQBkJB_hknQ"
      }
    },
    {
      "cell_type": "code",
      "source": [
        "!pip install --upgrade gensim"
      ],
      "metadata": {
        "colab": {
          "base_uri": "https://localhost:8080/"
        },
        "id": "N4ONd9schigA",
        "outputId": "3b30b867-1180-4468-9cad-63b9b73a778b"
      },
      "execution_count": null,
      "outputs": [
        {
          "output_type": "stream",
          "name": "stdout",
          "text": [
            "Requirement already satisfied: gensim in /usr/local/lib/python3.10/dist-packages (4.3.2)\n",
            "Requirement already satisfied: numpy>=1.18.5 in /usr/local/lib/python3.10/dist-packages (from gensim) (1.25.2)\n",
            "Requirement already satisfied: scipy>=1.7.0 in /usr/local/lib/python3.10/dist-packages (from gensim) (1.11.4)\n",
            "Requirement already satisfied: smart-open>=1.8.1 in /usr/local/lib/python3.10/dist-packages (from gensim) (6.4.0)\n"
          ]
        }
      ]
    },
    {
      "cell_type": "code",
      "source": [
        "import gensim.downloader as api"
      ],
      "metadata": {
        "id": "nDXdcpEohqxf"
      },
      "execution_count": null,
      "outputs": []
    },
    {
      "cell_type": "code",
      "source": [
        "model = api.load(\"word2vec-google-news-300\")"
      ],
      "metadata": {
        "colab": {
          "base_uri": "https://localhost:8080/"
        },
        "id": "FAEkGnGqh2gv",
        "outputId": "4c92398f-b7cd-4a09-f515-98bb19583d19"
      },
      "execution_count": null,
      "outputs": [
        {
          "output_type": "stream",
          "name": "stdout",
          "text": [
            "[==================================================] 100.0% 1662.8/1662.8MB downloaded\n"
          ]
        }
      ]
    },
    {
      "cell_type": "markdown",
      "source": [
        "2.Similitud de palabras. Vamos a analizar lo bien que están relacionadas las palabras de un modelo ya entrenado."
      ],
      "metadata": {
        "id": "9WiVe-SwiNeh"
      }
    },
    {
      "cell_type": "code",
      "source": [
        "model.similarity(\"king\", \"queen\")"
      ],
      "metadata": {
        "colab": {
          "base_uri": "https://localhost:8080/"
        },
        "id": "QLTQOpkQh8S_",
        "outputId": "1d9a908f-743f-4714-ca9e-36f7aa979990"
      },
      "execution_count": null,
      "outputs": [
        {
          "output_type": "execute_result",
          "data": {
            "text/plain": [
              "0.6510957"
            ]
          },
          "metadata": {},
          "execution_count": 6
        }
      ]
    },
    {
      "cell_type": "code",
      "source": [
        "#king y man\n",
        "#king y potato\n",
        "\n",
        "a=model.similarity(\"king\", \"man\")\n",
        "b=model.similarity(\"king\",\"potato\")\n",
        "print (a)\n",
        "print (b)"
      ],
      "metadata": {
        "colab": {
          "base_uri": "https://localhost:8080/"
        },
        "id": "AfdKD8w3irfg",
        "outputId": "71f45a8d-48ae-4934-fe16-55d1ec7c02dd"
      },
      "execution_count": null,
      "outputs": [
        {
          "output_type": "stream",
          "name": "stdout",
          "text": [
            "0.22942673\n",
            "0.09978465\n"
          ]
        }
      ]
    },
    {
      "cell_type": "markdown",
      "source": [
        "Ahora vamos a encontrar las palabras con mayor similitud al conjunto de palabras especificado"
      ],
      "metadata": {
        "id": "bnE-7xTFiz2x"
      }
    },
    {
      "cell_type": "code",
      "source": [
        "model.most_similar([\"king\", \"queen\"],topn=7)"
      ],
      "metadata": {
        "colab": {
          "base_uri": "https://localhost:8080/"
        },
        "id": "e6hfALUgivCF",
        "outputId": "c232fba7-8bd3-4bea-9bee-1720999045b7"
      },
      "execution_count": null,
      "outputs": [
        {
          "output_type": "execute_result",
          "data": {
            "text/plain": [
              "[('monarch', 0.7042067050933838),\n",
              " ('kings', 0.6780861616134644),\n",
              " ('princess', 0.6731551885604858),\n",
              " ('queens', 0.6679497957229614),\n",
              " ('prince', 0.6435247659683228),\n",
              " ('royal', 0.5985592603683472),\n",
              " ('princes', 0.5942344665527344)]"
            ]
          },
          "metadata": {},
          "execution_count": 9
        }
      ]
    },
    {
      "cell_type": "code",
      "source": [
        "#tomato, carrot"
      ],
      "metadata": {
        "id": "eg1YZ_mNjEhJ"
      },
      "execution_count": null,
      "outputs": []
    },
    {
      "cell_type": "code",
      "source": [
        "model.most_similar([\"tomato\",\"carrot\"], topn=5)"
      ],
      "metadata": {
        "colab": {
          "base_uri": "https://localhost:8080/"
        },
        "id": "tdEjHTVUlYKs",
        "outputId": "3095a170-5074-4c81-c4d1-ac1122e173b4"
      },
      "execution_count": null,
      "outputs": [
        {
          "output_type": "execute_result",
          "data": {
            "text/plain": [
              "[('carrots', 0.7536594867706299),\n",
              " ('tomatoes', 0.7129638195037842),\n",
              " ('celery', 0.7025030851364136),\n",
              " ('broccoli', 0.6796350479125977),\n",
              " ('cherry_tomatoes', 0.662927508354187)]"
            ]
          },
          "metadata": {},
          "execution_count": 20
        }
      ]
    },
    {
      "cell_type": "markdown",
      "source": [
        "Además, se puede hacer cosas interesantes como qué palabras no tienen relación"
      ],
      "metadata": {
        "id": "N14AhSayjGt_"
      }
    },
    {
      "cell_type": "code",
      "source": [
        "model.doesnt_match([\"summer\",\"fall\",\"spring\",\"water\"])"
      ],
      "metadata": {
        "colab": {
          "base_uri": "https://localhost:8080/",
          "height": 35
        },
        "id": "0f_wh5SbjL7e",
        "outputId": "e89f3cdf-e03a-40b3-b4bc-40e2b1a17339"
      },
      "execution_count": null,
      "outputs": [
        {
          "output_type": "execute_result",
          "data": {
            "text/plain": [
              "'water'"
            ],
            "application/vnd.google.colaboratory.intrinsic+json": {
              "type": "string"
            }
          },
          "metadata": {},
          "execution_count": 11
        }
      ]
    },
    {
      "cell_type": "markdown",
      "source": [
        "Ejercicio 1. Usando el modelo word2vec, muestra la similitud con las palabras \"man\" y \"woman\" de esta lista."
      ],
      "metadata": {
        "id": "jpGEDARqjXUT"
      }
    },
    {
      "cell_type": "code",
      "source": [
        "words=[\n",
        "    \"wife\",\n",
        "    \"husband\", \"child\", \"president\"\n",
        "]"
      ],
      "metadata": {
        "id": "7zT3AxQljrCR"
      },
      "execution_count": null,
      "outputs": []
    },
    {
      "cell_type": "markdown",
      "source": [
        "Ejercicio 2. Ahora vamos a sumar y restar los vectores.\n",
        "\n",
        "French is to France as Spanish is to Spain."
      ],
      "metadata": {
        "id": "rAkn1i_Mj17e"
      }
    },
    {
      "cell_type": "code",
      "source": [
        "#Ejemplo con word2vec\n",
        "#USA is to burger as Italy is to pizza\n",
        "\n",
        "model.most_similar(positive=[\"Mexico\",\"burger\"],negative=[\"USA\"], topn=1 )"
      ],
      "metadata": {
        "colab": {
          "base_uri": "https://localhost:8080/"
        },
        "id": "hLLtyALikGqf",
        "outputId": "dc4ae247-cfa4-4dae-b791-d4a9c995da79"
      },
      "execution_count": null,
      "outputs": [
        {
          "output_type": "execute_result",
          "data": {
            "text/plain": [
              "[('taco', 0.6266060471534729)]"
            ]
          },
          "metadata": {},
          "execution_count": 14
        }
      ]
    },
    {
      "cell_type": "code",
      "source": [
        "#nurse is to hospital as teacher is to___\n",
        "\n",
        "model.most_similar(positive=[\"nurse\", \"teacher\"], negative=[\"hospital\"], topn=1)"
      ],
      "metadata": {
        "colab": {
          "base_uri": "https://localhost:8080/"
        },
        "id": "sWEAst0Bk6HM",
        "outputId": "2eb7a22a-dd2b-4e76-9354-a3321d36461c"
      },
      "execution_count": null,
      "outputs": [
        {
          "output_type": "execute_result",
          "data": {
            "text/plain": [
              "[('guidance_counselor', 0.6577334403991699)]"
            ]
          },
          "metadata": {},
          "execution_count": 21
        }
      ]
    },
    {
      "cell_type": "code",
      "source": [],
      "metadata": {
        "id": "jVKDWy_aovmz"
      },
      "execution_count": null,
      "outputs": []
    }
  ]
}