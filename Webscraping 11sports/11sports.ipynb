{
  "nbformat": 4,
  "nbformat_minor": 0,
  "metadata": {
    "colab": {
      "provenance": []
    },
    "kernelspec": {
      "name": "python3",
      "display_name": "Python 3"
    },
    "language_info": {
      "name": "python"
    }
  },
  "cells": [
    {
      "cell_type": "code",
      "execution_count": 2,
      "metadata": {
        "id": "ywCR3moYbKwK"
      },
      "outputs": [],
      "source": [
        "import requests\n",
        "import csv\n",
        "import time\n",
        "import sys\n",
        "from bs4 import BeautifulSoup\n",
        "\n",
        "url = \"https://11teamsports.es/c/football-camisetas-de-entrenamiento/page-1\"\n",
        "page = requests.get(url)\n",
        "soup = BeautifulSoup(page.text, \"html\")"
      ]
    },
    {
      "cell_type": "code",
      "source": [
        "import requests\n",
        "from bs4 import BeautifulSoup\n",
        "import csv\n",
        "\n",
        "lista = []\n",
        "\n",
        "url_base = \"https://11teamsports.es/c/football-camisetas-de-entrenamiento/page-\"\n",
        "\n",
        "num_pagina_max = 10\n",
        "\n",
        "for num_pagina in range(1, num_pagina_max + 1):\n",
        "    url_pagina = f\"{url_base}{num_pagina}\"\n",
        "    page = requests.get(url_pagina)\n",
        "    soup = BeautifulSoup(page.text, 'html.parser')\n",
        "\n",
        "    productos = soup.find_all('a', class_='product-box-item')\n",
        "\n",
        "    for product in productos:\n",
        "        id_product = product['data-id']\n",
        "        nombre = product['data-name']\n",
        "        precio = product['data-price']\n",
        "        marca = product['data-brand']\n",
        "        categoria = product['data-category'].split('>')[-1].strip()\n",
        "        imagen_url = product.find('source')['srcset']\n",
        "\n",
        "        producto = {\n",
        "            'id_producto': id_product,\n",
        "            'nombre': nombre,\n",
        "            'precio': precio,\n",
        "            'marca': marca,\n",
        "            'categoria': categoria,\n",
        "            'imagen_url': imagen_url\n",
        "        }\n",
        "\n",
        "        lista.append(producto)\n",
        "\n",
        "\n",
        "\n",
        "from datetime import datetime\n",
        "\n",
        "fecha_actual = datetime.now().strftime(\"%Y%m%d\")\n",
        "\n",
        "csv_file_path = f\"productos_{fecha_actual}.csv\"\n",
        "\n",
        "\n",
        "\n",
        "import smtplib\n",
        "from email.mime.text import MIMEText\n",
        "from email.mime.multipart import MIMEMultipart\n",
        "\n",
        "def enviar_correo(subject, body):\n",
        "    email_from = \"hectorpruebaficheropy@gmail.com\"  # Coloca tu dirección de correo\n",
        "    email_to = \"gabriel.mailat.mg@gmail.com\"  # Coloca la dirección del destinatario\n",
        "    smtp_server = \"smtp.gmail.com\"  # Cambia esto según el servidor SMTP que estés utilizando\n",
        "    smtp_port = 587  # Puerto del servidor SMTP\n",
        "\n",
        "    smtp_username = \"hectorpruebaficheropy@gmail.com\"  # Coloca tu dirección de correo\n",
        "    smtp_password = \"nlkr vvkw qbxi fyhd\"  # Coloca tu contraseña\n",
        "\n",
        "    message = MIMEMultipart()\n",
        "    message.attach(MIMEText(body, 'plain'))\n",
        "    message['Subject'] = subject\n",
        "    message['From'] = email_from\n",
        "    message['To'] = email_to\n",
        "\n",
        "    try:\n",
        "        server = smtplib.SMTP(smtp_server, smtp_port)\n",
        "        server.starttls()\n",
        "        server.login(smtp_username, smtp_password)\n",
        "        server.sendmail(email_from, email_to, message.as_string())\n",
        "        server.quit()\n",
        "        print(\"Correo electrónico de confirmación enviado exitosamente.\")\n",
        "    except Exception as e:\n",
        "        print(\"Error al enviar el correo electrónico de confirmación:\", str(e))\n",
        "\n",
        "\n",
        "try:\n",
        "    with open(csv_file_path, mode='w', newline='', encoding='utf-8') as file:\n",
        "        fieldnames = ['id_producto', 'nombre', 'precio', 'marca', 'categoria', 'imagen_url']\n",
        "        writer = csv.DictWriter(file, fieldnames=fieldnames)\n",
        "\n",
        "        writer.writeheader()\n",
        "\n",
        "        for producto in lista:\n",
        "            writer.writerow(producto)\n",
        "\n",
        "    print(f\"La información se ha almacenado en el archivo CSV: {csv_file_path}\")\n",
        "    enviar_correo(\"Script ejecutado exitosamente\", \"El script se ha ejecutado correctamente y la información se ha almacenado en el archivo CSV.\")\n",
        "\n",
        "except Exception as e:\n",
        "    print(\"Error al ejecutar el script:\", str(e))\n",
        "    enviar_correo(\"Error en la ejecución del script\", f\"Hubo un error al ejecutar el script: {str(e)}\")\n"
      ],
      "metadata": {
        "colab": {
          "base_uri": "https://localhost:8080/"
        },
        "id": "JjJUopU4df9h",
        "outputId": "0ec59258-1bfb-4c85-9b2e-37ffb2159bb7"
      },
      "execution_count": 3,
      "outputs": [
        {
          "output_type": "stream",
          "name": "stdout",
          "text": [
            "La información se ha almacenado en el archivo CSV: productos_20240804.csv\n",
            "Correo electrónico de confirmación enviado exitosamente.\n"
          ]
        }
      ]
    }
  ]
}