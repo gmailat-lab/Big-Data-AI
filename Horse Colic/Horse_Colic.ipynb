{
  "nbformat": 4,
  "nbformat_minor": 0,
  "metadata": {
    "colab": {
      "provenance": [],
      "toc_visible": true
    },
    "kernelspec": {
      "name": "python3",
      "display_name": "Python 3"
    },
    "language_info": {
      "name": "python"
    }
  },
  "cells": [
    {
      "cell_type": "markdown",
      "metadata": {
        "id": "5pagTDWmwIA6"
      },
      "source": [
        "# Horse Colic Dataset:\n",
        "## Can you predict the life or death of a horse?\n",
        "https://www.kaggle.com/uciml/horse-colic\n"
      ]
    },
    {
      "cell_type": "code",
      "metadata": {
        "id": "HL7fwWBJT0D-",
        "colab": {
          "base_uri": "https://localhost:8080/",
          "height": 226
        },
        "outputId": "3a9ca028-d0d4-4f08-ccd5-ad9b6980d683"
      },
      "source": [
        "import numpy as np\n",
        "import pandas as pd\n",
        "import seaborn as sns\n",
        "\n",
        "dataset = pd.read_csv('horse.csv', header = 0)\n",
        "dataset.head()"
      ],
      "execution_count": null,
      "outputs": [
        {
          "output_type": "execute_result",
          "data": {
            "text/html": [
              "<div>\n",
              "<style scoped>\n",
              "    .dataframe tbody tr th:only-of-type {\n",
              "        vertical-align: middle;\n",
              "    }\n",
              "\n",
              "    .dataframe tbody tr th {\n",
              "        vertical-align: top;\n",
              "    }\n",
              "\n",
              "    .dataframe thead th {\n",
              "        text-align: right;\n",
              "    }\n",
              "</style>\n",
              "<table border=\"1\" class=\"dataframe\">\n",
              "  <thead>\n",
              "    <tr style=\"text-align: right;\">\n",
              "      <th></th>\n",
              "      <th>surgery</th>\n",
              "      <th>age</th>\n",
              "      <th>hospital_number</th>\n",
              "      <th>rectal_temp</th>\n",
              "      <th>pulse</th>\n",
              "      <th>respiratory_rate</th>\n",
              "      <th>temp_of_extremities</th>\n",
              "      <th>peripheral_pulse</th>\n",
              "      <th>mucous_membrane</th>\n",
              "      <th>capillary_refill_time</th>\n",
              "      <th>pain</th>\n",
              "      <th>peristalsis</th>\n",
              "      <th>abdominal_distention</th>\n",
              "      <th>nasogastric_tube</th>\n",
              "      <th>nasogastric_reflux</th>\n",
              "      <th>nasogastric_reflux_ph</th>\n",
              "      <th>rectal_exam_feces</th>\n",
              "      <th>abdomen</th>\n",
              "      <th>packed_cell_volume</th>\n",
              "      <th>total_protein</th>\n",
              "      <th>abdomo_appearance</th>\n",
              "      <th>abdomo_protein</th>\n",
              "      <th>outcome</th>\n",
              "      <th>surgical_lesion</th>\n",
              "      <th>lesion_1</th>\n",
              "      <th>lesion_2</th>\n",
              "      <th>lesion_3</th>\n",
              "      <th>cp_data</th>\n",
              "    </tr>\n",
              "  </thead>\n",
              "  <tbody>\n",
              "    <tr>\n",
              "      <th>0</th>\n",
              "      <td>no</td>\n",
              "      <td>adult</td>\n",
              "      <td>530101</td>\n",
              "      <td>38.5</td>\n",
              "      <td>66.0</td>\n",
              "      <td>28.0</td>\n",
              "      <td>cool</td>\n",
              "      <td>reduced</td>\n",
              "      <td>NaN</td>\n",
              "      <td>more_3_sec</td>\n",
              "      <td>extreme_pain</td>\n",
              "      <td>absent</td>\n",
              "      <td>severe</td>\n",
              "      <td>NaN</td>\n",
              "      <td>NaN</td>\n",
              "      <td>NaN</td>\n",
              "      <td>decreased</td>\n",
              "      <td>distend_large</td>\n",
              "      <td>45.0</td>\n",
              "      <td>8.4</td>\n",
              "      <td>NaN</td>\n",
              "      <td>NaN</td>\n",
              "      <td>died</td>\n",
              "      <td>no</td>\n",
              "      <td>11300</td>\n",
              "      <td>0</td>\n",
              "      <td>0</td>\n",
              "      <td>no</td>\n",
              "    </tr>\n",
              "    <tr>\n",
              "      <th>1</th>\n",
              "      <td>yes</td>\n",
              "      <td>adult</td>\n",
              "      <td>534817</td>\n",
              "      <td>39.2</td>\n",
              "      <td>88.0</td>\n",
              "      <td>20.0</td>\n",
              "      <td>NaN</td>\n",
              "      <td>NaN</td>\n",
              "      <td>pale_cyanotic</td>\n",
              "      <td>less_3_sec</td>\n",
              "      <td>mild_pain</td>\n",
              "      <td>absent</td>\n",
              "      <td>slight</td>\n",
              "      <td>NaN</td>\n",
              "      <td>NaN</td>\n",
              "      <td>NaN</td>\n",
              "      <td>absent</td>\n",
              "      <td>other</td>\n",
              "      <td>50.0</td>\n",
              "      <td>85.0</td>\n",
              "      <td>cloudy</td>\n",
              "      <td>2.0</td>\n",
              "      <td>euthanized</td>\n",
              "      <td>no</td>\n",
              "      <td>2208</td>\n",
              "      <td>0</td>\n",
              "      <td>0</td>\n",
              "      <td>no</td>\n",
              "    </tr>\n",
              "    <tr>\n",
              "      <th>2</th>\n",
              "      <td>no</td>\n",
              "      <td>adult</td>\n",
              "      <td>530334</td>\n",
              "      <td>38.3</td>\n",
              "      <td>40.0</td>\n",
              "      <td>24.0</td>\n",
              "      <td>normal</td>\n",
              "      <td>normal</td>\n",
              "      <td>pale_pink</td>\n",
              "      <td>less_3_sec</td>\n",
              "      <td>mild_pain</td>\n",
              "      <td>hypomotile</td>\n",
              "      <td>none</td>\n",
              "      <td>NaN</td>\n",
              "      <td>NaN</td>\n",
              "      <td>NaN</td>\n",
              "      <td>normal</td>\n",
              "      <td>normal</td>\n",
              "      <td>33.0</td>\n",
              "      <td>6.7</td>\n",
              "      <td>NaN</td>\n",
              "      <td>NaN</td>\n",
              "      <td>lived</td>\n",
              "      <td>no</td>\n",
              "      <td>0</td>\n",
              "      <td>0</td>\n",
              "      <td>0</td>\n",
              "      <td>yes</td>\n",
              "    </tr>\n",
              "    <tr>\n",
              "      <th>3</th>\n",
              "      <td>yes</td>\n",
              "      <td>young</td>\n",
              "      <td>5290409</td>\n",
              "      <td>39.1</td>\n",
              "      <td>164.0</td>\n",
              "      <td>84.0</td>\n",
              "      <td>cold</td>\n",
              "      <td>normal</td>\n",
              "      <td>dark_cyanotic</td>\n",
              "      <td>more_3_sec</td>\n",
              "      <td>depressed</td>\n",
              "      <td>absent</td>\n",
              "      <td>severe</td>\n",
              "      <td>none</td>\n",
              "      <td>less_1_liter</td>\n",
              "      <td>5.0</td>\n",
              "      <td>decreased</td>\n",
              "      <td>NaN</td>\n",
              "      <td>48.0</td>\n",
              "      <td>7.2</td>\n",
              "      <td>serosanguious</td>\n",
              "      <td>5.3</td>\n",
              "      <td>died</td>\n",
              "      <td>yes</td>\n",
              "      <td>2208</td>\n",
              "      <td>0</td>\n",
              "      <td>0</td>\n",
              "      <td>yes</td>\n",
              "    </tr>\n",
              "    <tr>\n",
              "      <th>4</th>\n",
              "      <td>no</td>\n",
              "      <td>adult</td>\n",
              "      <td>530255</td>\n",
              "      <td>37.3</td>\n",
              "      <td>104.0</td>\n",
              "      <td>35.0</td>\n",
              "      <td>NaN</td>\n",
              "      <td>NaN</td>\n",
              "      <td>dark_cyanotic</td>\n",
              "      <td>more_3_sec</td>\n",
              "      <td>NaN</td>\n",
              "      <td>NaN</td>\n",
              "      <td>NaN</td>\n",
              "      <td>NaN</td>\n",
              "      <td>NaN</td>\n",
              "      <td>NaN</td>\n",
              "      <td>NaN</td>\n",
              "      <td>NaN</td>\n",
              "      <td>74.0</td>\n",
              "      <td>7.4</td>\n",
              "      <td>NaN</td>\n",
              "      <td>NaN</td>\n",
              "      <td>died</td>\n",
              "      <td>no</td>\n",
              "      <td>4300</td>\n",
              "      <td>0</td>\n",
              "      <td>0</td>\n",
              "      <td>no</td>\n",
              "    </tr>\n",
              "  </tbody>\n",
              "</table>\n",
              "</div>"
            ],
            "text/plain": [
              "  surgery    age  hospital_number  ...  lesion_2  lesion_3  cp_data\n",
              "0      no  adult           530101  ...         0         0       no\n",
              "1     yes  adult           534817  ...         0         0       no\n",
              "2      no  adult           530334  ...         0         0      yes\n",
              "3     yes  young          5290409  ...         0         0      yes\n",
              "4      no  adult           530255  ...         0         0       no\n",
              "\n",
              "[5 rows x 28 columns]"
            ]
          },
          "metadata": {},
          "execution_count": 4
        }
      ]
    },
    {
      "cell_type": "markdown",
      "metadata": {
        "id": "MC-xW-kRmLjo"
      },
      "source": [
        "# **Comprensión de los datos**"
      ]
    },
    {
      "cell_type": "code",
      "metadata": {
        "colab": {
          "base_uri": "https://localhost:8080/"
        },
        "id": "xRMqLeShmmTp",
        "outputId": "febed7c0-9a46-4793-ce12-460ad3b10a21"
      },
      "source": [
        "dataset.shape"
      ],
      "execution_count": null,
      "outputs": [
        {
          "output_type": "execute_result",
          "data": {
            "text/plain": [
              "(299, 28)"
            ]
          },
          "metadata": {},
          "execution_count": 5
        }
      ]
    },
    {
      "cell_type": "code",
      "metadata": {
        "colab": {
          "base_uri": "https://localhost:8080/"
        },
        "id": "sYToxeQdmX7S",
        "outputId": "ebb88e69-d2d6-4974-a7e4-66065cbd0552"
      },
      "source": [
        "dataset.info()"
      ],
      "execution_count": null,
      "outputs": [
        {
          "output_type": "stream",
          "name": "stdout",
          "text": [
            "<class 'pandas.core.frame.DataFrame'>\n",
            "RangeIndex: 299 entries, 0 to 298\n",
            "Data columns (total 28 columns):\n",
            " #   Column                 Non-Null Count  Dtype  \n",
            "---  ------                 --------------  -----  \n",
            " 0   surgery                299 non-null    object \n",
            " 1   age                    299 non-null    object \n",
            " 2   hospital_number        299 non-null    int64  \n",
            " 3   rectal_temp            239 non-null    float64\n",
            " 4   pulse                  275 non-null    float64\n",
            " 5   respiratory_rate       241 non-null    float64\n",
            " 6   temp_of_extremities    243 non-null    object \n",
            " 7   peripheral_pulse       230 non-null    object \n",
            " 8   mucous_membrane        252 non-null    object \n",
            " 9   capillary_refill_time  267 non-null    object \n",
            " 10  pain                   244 non-null    object \n",
            " 11  peristalsis            255 non-null    object \n",
            " 12  abdominal_distention   243 non-null    object \n",
            " 13  nasogastric_tube       195 non-null    object \n",
            " 14  nasogastric_reflux     193 non-null    object \n",
            " 15  nasogastric_reflux_ph  53 non-null     float64\n",
            " 16  rectal_exam_feces      197 non-null    object \n",
            " 17  abdomen                181 non-null    object \n",
            " 18  packed_cell_volume     270 non-null    float64\n",
            " 19  total_protein          266 non-null    float64\n",
            " 20  abdomo_appearance      134 non-null    object \n",
            " 21  abdomo_protein         101 non-null    float64\n",
            " 22  outcome                299 non-null    object \n",
            " 23  surgical_lesion        299 non-null    object \n",
            " 24  lesion_1               299 non-null    int64  \n",
            " 25  lesion_2               299 non-null    int64  \n",
            " 26  lesion_3               299 non-null    int64  \n",
            " 27  cp_data                299 non-null    object \n",
            "dtypes: float64(7), int64(4), object(17)\n",
            "memory usage: 65.5+ KB\n"
          ]
        }
      ]
    },
    {
      "cell_type": "code",
      "source": [
        "dataset.isnull() # Otra forma de detectar missing values"
      ],
      "metadata": {
        "colab": {
          "base_uri": "https://localhost:8080/",
          "height": 444
        },
        "id": "6vOcO3ovXvpw",
        "outputId": "2bd6e3d0-3cb9-4c15-d7ae-66c63ef49f89"
      },
      "execution_count": null,
      "outputs": [
        {
          "output_type": "execute_result",
          "data": {
            "text/html": [
              "<div>\n",
              "<style scoped>\n",
              "    .dataframe tbody tr th:only-of-type {\n",
              "        vertical-align: middle;\n",
              "    }\n",
              "\n",
              "    .dataframe tbody tr th {\n",
              "        vertical-align: top;\n",
              "    }\n",
              "\n",
              "    .dataframe thead th {\n",
              "        text-align: right;\n",
              "    }\n",
              "</style>\n",
              "<table border=\"1\" class=\"dataframe\">\n",
              "  <thead>\n",
              "    <tr style=\"text-align: right;\">\n",
              "      <th></th>\n",
              "      <th>surgery</th>\n",
              "      <th>age</th>\n",
              "      <th>hospital_number</th>\n",
              "      <th>rectal_temp</th>\n",
              "      <th>pulse</th>\n",
              "      <th>respiratory_rate</th>\n",
              "      <th>temp_of_extremities</th>\n",
              "      <th>peripheral_pulse</th>\n",
              "      <th>mucous_membrane</th>\n",
              "      <th>capillary_refill_time</th>\n",
              "      <th>pain</th>\n",
              "      <th>peristalsis</th>\n",
              "      <th>abdominal_distention</th>\n",
              "      <th>nasogastric_tube</th>\n",
              "      <th>nasogastric_reflux</th>\n",
              "      <th>nasogastric_reflux_ph</th>\n",
              "      <th>rectal_exam_feces</th>\n",
              "      <th>abdomen</th>\n",
              "      <th>packed_cell_volume</th>\n",
              "      <th>total_protein</th>\n",
              "      <th>abdomo_appearance</th>\n",
              "      <th>abdomo_protein</th>\n",
              "      <th>outcome</th>\n",
              "      <th>surgical_lesion</th>\n",
              "      <th>lesion_1</th>\n",
              "      <th>lesion_2</th>\n",
              "      <th>lesion_3</th>\n",
              "      <th>cp_data</th>\n",
              "    </tr>\n",
              "  </thead>\n",
              "  <tbody>\n",
              "    <tr>\n",
              "      <th>0</th>\n",
              "      <td>False</td>\n",
              "      <td>False</td>\n",
              "      <td>False</td>\n",
              "      <td>False</td>\n",
              "      <td>False</td>\n",
              "      <td>False</td>\n",
              "      <td>False</td>\n",
              "      <td>False</td>\n",
              "      <td>True</td>\n",
              "      <td>False</td>\n",
              "      <td>False</td>\n",
              "      <td>False</td>\n",
              "      <td>False</td>\n",
              "      <td>True</td>\n",
              "      <td>True</td>\n",
              "      <td>True</td>\n",
              "      <td>False</td>\n",
              "      <td>False</td>\n",
              "      <td>False</td>\n",
              "      <td>False</td>\n",
              "      <td>True</td>\n",
              "      <td>True</td>\n",
              "      <td>False</td>\n",
              "      <td>False</td>\n",
              "      <td>False</td>\n",
              "      <td>False</td>\n",
              "      <td>False</td>\n",
              "      <td>False</td>\n",
              "    </tr>\n",
              "    <tr>\n",
              "      <th>1</th>\n",
              "      <td>False</td>\n",
              "      <td>False</td>\n",
              "      <td>False</td>\n",
              "      <td>False</td>\n",
              "      <td>False</td>\n",
              "      <td>False</td>\n",
              "      <td>True</td>\n",
              "      <td>True</td>\n",
              "      <td>False</td>\n",
              "      <td>False</td>\n",
              "      <td>False</td>\n",
              "      <td>False</td>\n",
              "      <td>False</td>\n",
              "      <td>True</td>\n",
              "      <td>True</td>\n",
              "      <td>True</td>\n",
              "      <td>False</td>\n",
              "      <td>False</td>\n",
              "      <td>False</td>\n",
              "      <td>False</td>\n",
              "      <td>False</td>\n",
              "      <td>False</td>\n",
              "      <td>False</td>\n",
              "      <td>False</td>\n",
              "      <td>False</td>\n",
              "      <td>False</td>\n",
              "      <td>False</td>\n",
              "      <td>False</td>\n",
              "    </tr>\n",
              "    <tr>\n",
              "      <th>2</th>\n",
              "      <td>False</td>\n",
              "      <td>False</td>\n",
              "      <td>False</td>\n",
              "      <td>False</td>\n",
              "      <td>False</td>\n",
              "      <td>False</td>\n",
              "      <td>False</td>\n",
              "      <td>False</td>\n",
              "      <td>False</td>\n",
              "      <td>False</td>\n",
              "      <td>False</td>\n",
              "      <td>False</td>\n",
              "      <td>False</td>\n",
              "      <td>True</td>\n",
              "      <td>True</td>\n",
              "      <td>True</td>\n",
              "      <td>False</td>\n",
              "      <td>False</td>\n",
              "      <td>False</td>\n",
              "      <td>False</td>\n",
              "      <td>True</td>\n",
              "      <td>True</td>\n",
              "      <td>False</td>\n",
              "      <td>False</td>\n",
              "      <td>False</td>\n",
              "      <td>False</td>\n",
              "      <td>False</td>\n",
              "      <td>False</td>\n",
              "    </tr>\n",
              "    <tr>\n",
              "      <th>3</th>\n",
              "      <td>False</td>\n",
              "      <td>False</td>\n",
              "      <td>False</td>\n",
              "      <td>False</td>\n",
              "      <td>False</td>\n",
              "      <td>False</td>\n",
              "      <td>False</td>\n",
              "      <td>False</td>\n",
              "      <td>False</td>\n",
              "      <td>False</td>\n",
              "      <td>False</td>\n",
              "      <td>False</td>\n",
              "      <td>False</td>\n",
              "      <td>False</td>\n",
              "      <td>False</td>\n",
              "      <td>False</td>\n",
              "      <td>False</td>\n",
              "      <td>True</td>\n",
              "      <td>False</td>\n",
              "      <td>False</td>\n",
              "      <td>False</td>\n",
              "      <td>False</td>\n",
              "      <td>False</td>\n",
              "      <td>False</td>\n",
              "      <td>False</td>\n",
              "      <td>False</td>\n",
              "      <td>False</td>\n",
              "      <td>False</td>\n",
              "    </tr>\n",
              "    <tr>\n",
              "      <th>4</th>\n",
              "      <td>False</td>\n",
              "      <td>False</td>\n",
              "      <td>False</td>\n",
              "      <td>False</td>\n",
              "      <td>False</td>\n",
              "      <td>False</td>\n",
              "      <td>True</td>\n",
              "      <td>True</td>\n",
              "      <td>False</td>\n",
              "      <td>False</td>\n",
              "      <td>True</td>\n",
              "      <td>True</td>\n",
              "      <td>True</td>\n",
              "      <td>True</td>\n",
              "      <td>True</td>\n",
              "      <td>True</td>\n",
              "      <td>True</td>\n",
              "      <td>True</td>\n",
              "      <td>False</td>\n",
              "      <td>False</td>\n",
              "      <td>True</td>\n",
              "      <td>True</td>\n",
              "      <td>False</td>\n",
              "      <td>False</td>\n",
              "      <td>False</td>\n",
              "      <td>False</td>\n",
              "      <td>False</td>\n",
              "      <td>False</td>\n",
              "    </tr>\n",
              "    <tr>\n",
              "      <th>...</th>\n",
              "      <td>...</td>\n",
              "      <td>...</td>\n",
              "      <td>...</td>\n",
              "      <td>...</td>\n",
              "      <td>...</td>\n",
              "      <td>...</td>\n",
              "      <td>...</td>\n",
              "      <td>...</td>\n",
              "      <td>...</td>\n",
              "      <td>...</td>\n",
              "      <td>...</td>\n",
              "      <td>...</td>\n",
              "      <td>...</td>\n",
              "      <td>...</td>\n",
              "      <td>...</td>\n",
              "      <td>...</td>\n",
              "      <td>...</td>\n",
              "      <td>...</td>\n",
              "      <td>...</td>\n",
              "      <td>...</td>\n",
              "      <td>...</td>\n",
              "      <td>...</td>\n",
              "      <td>...</td>\n",
              "      <td>...</td>\n",
              "      <td>...</td>\n",
              "      <td>...</td>\n",
              "      <td>...</td>\n",
              "      <td>...</td>\n",
              "    </tr>\n",
              "    <tr>\n",
              "      <th>294</th>\n",
              "      <td>False</td>\n",
              "      <td>False</td>\n",
              "      <td>False</td>\n",
              "      <td>True</td>\n",
              "      <td>False</td>\n",
              "      <td>False</td>\n",
              "      <td>False</td>\n",
              "      <td>True</td>\n",
              "      <td>False</td>\n",
              "      <td>False</td>\n",
              "      <td>False</td>\n",
              "      <td>False</td>\n",
              "      <td>True</td>\n",
              "      <td>True</td>\n",
              "      <td>True</td>\n",
              "      <td>True</td>\n",
              "      <td>True</td>\n",
              "      <td>False</td>\n",
              "      <td>False</td>\n",
              "      <td>False</td>\n",
              "      <td>True</td>\n",
              "      <td>True</td>\n",
              "      <td>False</td>\n",
              "      <td>False</td>\n",
              "      <td>False</td>\n",
              "      <td>False</td>\n",
              "      <td>False</td>\n",
              "      <td>False</td>\n",
              "    </tr>\n",
              "    <tr>\n",
              "      <th>295</th>\n",
              "      <td>False</td>\n",
              "      <td>False</td>\n",
              "      <td>False</td>\n",
              "      <td>False</td>\n",
              "      <td>False</td>\n",
              "      <td>False</td>\n",
              "      <td>False</td>\n",
              "      <td>False</td>\n",
              "      <td>False</td>\n",
              "      <td>False</td>\n",
              "      <td>False</td>\n",
              "      <td>False</td>\n",
              "      <td>False</td>\n",
              "      <td>False</td>\n",
              "      <td>False</td>\n",
              "      <td>True</td>\n",
              "      <td>False</td>\n",
              "      <td>False</td>\n",
              "      <td>False</td>\n",
              "      <td>True</td>\n",
              "      <td>False</td>\n",
              "      <td>False</td>\n",
              "      <td>False</td>\n",
              "      <td>False</td>\n",
              "      <td>False</td>\n",
              "      <td>False</td>\n",
              "      <td>False</td>\n",
              "      <td>False</td>\n",
              "    </tr>\n",
              "    <tr>\n",
              "      <th>296</th>\n",
              "      <td>False</td>\n",
              "      <td>False</td>\n",
              "      <td>False</td>\n",
              "      <td>False</td>\n",
              "      <td>False</td>\n",
              "      <td>False</td>\n",
              "      <td>False</td>\n",
              "      <td>False</td>\n",
              "      <td>False</td>\n",
              "      <td>False</td>\n",
              "      <td>False</td>\n",
              "      <td>False</td>\n",
              "      <td>False</td>\n",
              "      <td>False</td>\n",
              "      <td>False</td>\n",
              "      <td>True</td>\n",
              "      <td>False</td>\n",
              "      <td>False</td>\n",
              "      <td>False</td>\n",
              "      <td>False</td>\n",
              "      <td>True</td>\n",
              "      <td>True</td>\n",
              "      <td>False</td>\n",
              "      <td>False</td>\n",
              "      <td>False</td>\n",
              "      <td>False</td>\n",
              "      <td>False</td>\n",
              "      <td>False</td>\n",
              "    </tr>\n",
              "    <tr>\n",
              "      <th>297</th>\n",
              "      <td>False</td>\n",
              "      <td>False</td>\n",
              "      <td>False</td>\n",
              "      <td>False</td>\n",
              "      <td>False</td>\n",
              "      <td>False</td>\n",
              "      <td>False</td>\n",
              "      <td>False</td>\n",
              "      <td>False</td>\n",
              "      <td>False</td>\n",
              "      <td>False</td>\n",
              "      <td>False</td>\n",
              "      <td>False</td>\n",
              "      <td>False</td>\n",
              "      <td>False</td>\n",
              "      <td>True</td>\n",
              "      <td>False</td>\n",
              "      <td>False</td>\n",
              "      <td>False</td>\n",
              "      <td>False</td>\n",
              "      <td>False</td>\n",
              "      <td>False</td>\n",
              "      <td>False</td>\n",
              "      <td>False</td>\n",
              "      <td>False</td>\n",
              "      <td>False</td>\n",
              "      <td>False</td>\n",
              "      <td>False</td>\n",
              "    </tr>\n",
              "    <tr>\n",
              "      <th>298</th>\n",
              "      <td>False</td>\n",
              "      <td>False</td>\n",
              "      <td>False</td>\n",
              "      <td>False</td>\n",
              "      <td>False</td>\n",
              "      <td>False</td>\n",
              "      <td>True</td>\n",
              "      <td>True</td>\n",
              "      <td>True</td>\n",
              "      <td>True</td>\n",
              "      <td>True</td>\n",
              "      <td>True</td>\n",
              "      <td>True</td>\n",
              "      <td>True</td>\n",
              "      <td>True</td>\n",
              "      <td>True</td>\n",
              "      <td>False</td>\n",
              "      <td>False</td>\n",
              "      <td>False</td>\n",
              "      <td>False</td>\n",
              "      <td>False</td>\n",
              "      <td>False</td>\n",
              "      <td>False</td>\n",
              "      <td>False</td>\n",
              "      <td>False</td>\n",
              "      <td>False</td>\n",
              "      <td>False</td>\n",
              "      <td>False</td>\n",
              "    </tr>\n",
              "  </tbody>\n",
              "</table>\n",
              "<p>299 rows × 28 columns</p>\n",
              "</div>"
            ],
            "text/plain": [
              "     surgery    age  hospital_number  ...  lesion_2  lesion_3  cp_data\n",
              "0      False  False            False  ...     False     False    False\n",
              "1      False  False            False  ...     False     False    False\n",
              "2      False  False            False  ...     False     False    False\n",
              "3      False  False            False  ...     False     False    False\n",
              "4      False  False            False  ...     False     False    False\n",
              "..       ...    ...              ...  ...       ...       ...      ...\n",
              "294    False  False            False  ...     False     False    False\n",
              "295    False  False            False  ...     False     False    False\n",
              "296    False  False            False  ...     False     False    False\n",
              "297    False  False            False  ...     False     False    False\n",
              "298    False  False            False  ...     False     False    False\n",
              "\n",
              "[299 rows x 28 columns]"
            ]
          },
          "metadata": {},
          "execution_count": 7
        }
      ]
    },
    {
      "cell_type": "code",
      "source": [
        "sns.heatmap(dataset.isnull(), cbar=False) # Otra forma de detectar missing values"
      ],
      "metadata": {
        "colab": {
          "base_uri": "https://localhost:8080/",
          "height": 181
        },
        "id": "dv_dv2hKYjd8",
        "outputId": "1f940ec2-ee21-40c0-8ad5-b990aa7cd6c2"
      },
      "execution_count": null,
      "outputs": [
        {
          "output_type": "error",
          "ename": "NameError",
          "evalue": "ignored",
          "traceback": [
            "\u001b[0;31m---------------------------------------------------------------------------\u001b[0m",
            "\u001b[0;31mNameError\u001b[0m                                 Traceback (most recent call last)",
            "\u001b[0;32m<ipython-input-1-6636bbfaca9c>\u001b[0m in \u001b[0;36m<cell line: 1>\u001b[0;34m()\u001b[0m\n\u001b[0;32m----> 1\u001b[0;31m \u001b[0msns\u001b[0m\u001b[0;34m.\u001b[0m\u001b[0mheatmap\u001b[0m\u001b[0;34m(\u001b[0m\u001b[0mdataset\u001b[0m\u001b[0;34m.\u001b[0m\u001b[0misnull\u001b[0m\u001b[0;34m(\u001b[0m\u001b[0;34m)\u001b[0m\u001b[0;34m,\u001b[0m \u001b[0mcbar\u001b[0m\u001b[0;34m=\u001b[0m\u001b[0;32mFalse\u001b[0m\u001b[0;34m)\u001b[0m \u001b[0;31m# Otra forma de detectar missing values\u001b[0m\u001b[0;34m\u001b[0m\u001b[0;34m\u001b[0m\u001b[0m\n\u001b[0m",
            "\u001b[0;31mNameError\u001b[0m: name 'sns' is not defined"
          ]
        }
      ]
    },
    {
      "cell_type": "code",
      "source": [
        "import missingno as msno\n",
        "\n",
        "msno.bar(dataset)"
      ],
      "metadata": {
        "colab": {
          "base_uri": "https://localhost:8080/",
          "height": 773
        },
        "id": "gOl6aaMLZRn4",
        "outputId": "2c088b8e-f950-4775-c1de-30ac5f3cb7f9"
      },
      "execution_count": null,
      "outputs": [
        {
          "output_type": "execute_result",
          "data": {
            "text/plain": [
              "<matplotlib.axes._subplots.AxesSubplot at 0x7f234c884fd0>"
            ]
          },
          "metadata": {},
          "execution_count": 9
        },
        {
          "output_type": "display_data",
          "data": {
            "image/png": "[encoded data removed]",
            "text/plain": [
              "<Figure size 1800x720 with 3 Axes>"
            ]
          },
          "metadata": {
            "needs_background": "light"
          }
        }
      ]
    },
    {
      "cell_type": "markdown",
      "metadata": {
        "id": "ESqLQ7V7VW4-"
      },
      "source": [
        "# **Limpieza de datos**"
      ]
    },
    {
      "cell_type": "markdown",
      "metadata": {
        "id": "FrG4t9INvvbm"
      },
      "source": [
        "##**SURGERY**\n",
        "\n",
        "**1 = Yes, it had surgery**\n",
        "\n",
        "**2 = It was treated without surgery**"
      ]
    },
    {
      "cell_type": "code",
      "metadata": {
        "colab": {
          "base_uri": "https://localhost:8080/"
        },
        "id": "PlVy5i3kokUX",
        "outputId": "9f8e8694-952e-4984-c171-e8375b9ab1d4"
      },
      "source": [
        "dataset['surgery'].value_counts()"
      ],
      "execution_count": null,
      "outputs": [
        {
          "output_type": "execute_result",
          "data": {
            "text/plain": [
              "yes    180\n",
              "no     119\n",
              "Name: surgery, dtype: int64"
            ]
          },
          "metadata": {},
          "execution_count": 10
        }
      ]
    },
    {
      "cell_type": "code",
      "metadata": {
        "id": "xoD1MUxVVzlG"
      },
      "source": [
        "dataset['surgery'] = dataset['surgery'].map({'yes': 1, 'no':0})"
      ],
      "execution_count": null,
      "outputs": []
    },
    {
      "cell_type": "code",
      "metadata": {
        "id": "3oXwZuVegqe5",
        "colab": {
          "base_uri": "https://localhost:8080/"
        },
        "outputId": "8b881e6c-8304-4949-d12c-8bf7bfe12a15"
      },
      "source": [
        "dataset.head()"
      ],
      "execution_count": null,
      "outputs": [
        {
          "output_type": "execute_result",
          "data": {
            "text/html": [
              "<div>\n",
              "<style scoped>\n",
              "    .dataframe tbody tr th:only-of-type {\n",
              "        vertical-align: middle;\n",
              "    }\n",
              "\n",
              "    .dataframe tbody tr th {\n",
              "        vertical-align: top;\n",
              "    }\n",
              "\n",
              "    .dataframe thead th {\n",
              "        text-align: right;\n",
              "    }\n",
              "</style>\n",
              "<table border=\"1\" class=\"dataframe\">\n",
              "  <thead>\n",
              "    <tr style=\"text-align: right;\">\n",
              "      <th></th>\n",
              "      <th>surgery</th>\n",
              "      <th>age</th>\n",
              "      <th>hospital_number</th>\n",
              "      <th>rectal_temp</th>\n",
              "      <th>pulse</th>\n",
              "      <th>respiratory_rate</th>\n",
              "      <th>temp_of_extremities</th>\n",
              "      <th>peripheral_pulse</th>\n",
              "      <th>mucous_membrane</th>\n",
              "      <th>capillary_refill_time</th>\n",
              "      <th>pain</th>\n",
              "      <th>peristalsis</th>\n",
              "      <th>abdominal_distention</th>\n",
              "      <th>nasogastric_tube</th>\n",
              "      <th>nasogastric_reflux</th>\n",
              "      <th>nasogastric_reflux_ph</th>\n",
              "      <th>rectal_exam_feces</th>\n",
              "      <th>abdomen</th>\n",
              "      <th>packed_cell_volume</th>\n",
              "      <th>total_protein</th>\n",
              "      <th>abdomo_appearance</th>\n",
              "      <th>abdomo_protein</th>\n",
              "      <th>outcome</th>\n",
              "      <th>surgical_lesion</th>\n",
              "      <th>lesion_1</th>\n",
              "      <th>lesion_2</th>\n",
              "      <th>lesion_3</th>\n",
              "      <th>cp_data</th>\n",
              "    </tr>\n",
              "  </thead>\n",
              "  <tbody>\n",
              "    <tr>\n",
              "      <th>0</th>\n",
              "      <td>0</td>\n",
              "      <td>adult</td>\n",
              "      <td>530101</td>\n",
              "      <td>38.5</td>\n",
              "      <td>66.0</td>\n",
              "      <td>28.0</td>\n",
              "      <td>cool</td>\n",
              "      <td>reduced</td>\n",
              "      <td>NaN</td>\n",
              "      <td>more_3_sec</td>\n",
              "      <td>extreme_pain</td>\n",
              "      <td>absent</td>\n",
              "      <td>severe</td>\n",
              "      <td>NaN</td>\n",
              "      <td>NaN</td>\n",
              "      <td>NaN</td>\n",
              "      <td>decreased</td>\n",
              "      <td>distend_large</td>\n",
              "      <td>45.0</td>\n",
              "      <td>8.4</td>\n",
              "      <td>NaN</td>\n",
              "      <td>NaN</td>\n",
              "      <td>died</td>\n",
              "      <td>no</td>\n",
              "      <td>11300</td>\n",
              "      <td>0</td>\n",
              "      <td>0</td>\n",
              "      <td>no</td>\n",
              "    </tr>\n",
              "    <tr>\n",
              "      <th>1</th>\n",
              "      <td>1</td>\n",
              "      <td>adult</td>\n",
              "      <td>534817</td>\n",
              "      <td>39.2</td>\n",
              "      <td>88.0</td>\n",
              "      <td>20.0</td>\n",
              "      <td>NaN</td>\n",
              "      <td>NaN</td>\n",
              "      <td>pale_cyanotic</td>\n",
              "      <td>less_3_sec</td>\n",
              "      <td>mild_pain</td>\n",
              "      <td>absent</td>\n",
              "      <td>slight</td>\n",
              "      <td>NaN</td>\n",
              "      <td>NaN</td>\n",
              "      <td>NaN</td>\n",
              "      <td>absent</td>\n",
              "      <td>other</td>\n",
              "      <td>50.0</td>\n",
              "      <td>85.0</td>\n",
              "      <td>cloudy</td>\n",
              "      <td>2.0</td>\n",
              "      <td>euthanized</td>\n",
              "      <td>no</td>\n",
              "      <td>2208</td>\n",
              "      <td>0</td>\n",
              "      <td>0</td>\n",
              "      <td>no</td>\n",
              "    </tr>\n",
              "    <tr>\n",
              "      <th>2</th>\n",
              "      <td>0</td>\n",
              "      <td>adult</td>\n",
              "      <td>530334</td>\n",
              "      <td>38.3</td>\n",
              "      <td>40.0</td>\n",
              "      <td>24.0</td>\n",
              "      <td>normal</td>\n",
              "      <td>normal</td>\n",
              "      <td>pale_pink</td>\n",
              "      <td>less_3_sec</td>\n",
              "      <td>mild_pain</td>\n",
              "      <td>hypomotile</td>\n",
              "      <td>none</td>\n",
              "      <td>NaN</td>\n",
              "      <td>NaN</td>\n",
              "      <td>NaN</td>\n",
              "      <td>normal</td>\n",
              "      <td>normal</td>\n",
              "      <td>33.0</td>\n",
              "      <td>6.7</td>\n",
              "      <td>NaN</td>\n",
              "      <td>NaN</td>\n",
              "      <td>lived</td>\n",
              "      <td>no</td>\n",
              "      <td>0</td>\n",
              "      <td>0</td>\n",
              "      <td>0</td>\n",
              "      <td>yes</td>\n",
              "    </tr>\n",
              "    <tr>\n",
              "      <th>3</th>\n",
              "      <td>1</td>\n",
              "      <td>young</td>\n",
              "      <td>5290409</td>\n",
              "      <td>39.1</td>\n",
              "      <td>164.0</td>\n",
              "      <td>84.0</td>\n",
              "      <td>cold</td>\n",
              "      <td>normal</td>\n",
              "      <td>dark_cyanotic</td>\n",
              "      <td>more_3_sec</td>\n",
              "      <td>depressed</td>\n",
              "      <td>absent</td>\n",
              "      <td>severe</td>\n",
              "      <td>none</td>\n",
              "      <td>less_1_liter</td>\n",
              "      <td>5.0</td>\n",
              "      <td>decreased</td>\n",
              "      <td>NaN</td>\n",
              "      <td>48.0</td>\n",
              "      <td>7.2</td>\n",
              "      <td>serosanguious</td>\n",
              "      <td>5.3</td>\n",
              "      <td>died</td>\n",
              "      <td>yes</td>\n",
              "      <td>2208</td>\n",
              "      <td>0</td>\n",
              "      <td>0</td>\n",
              "      <td>yes</td>\n",
              "    </tr>\n",
              "    <tr>\n",
              "      <th>4</th>\n",
              "      <td>0</td>\n",
              "      <td>adult</td>\n",
              "      <td>530255</td>\n",
              "      <td>37.3</td>\n",
              "      <td>104.0</td>\n",
              "      <td>35.0</td>\n",
              "      <td>NaN</td>\n",
              "      <td>NaN</td>\n",
              "      <td>dark_cyanotic</td>\n",
              "      <td>more_3_sec</td>\n",
              "      <td>NaN</td>\n",
              "      <td>NaN</td>\n",
              "      <td>NaN</td>\n",
              "      <td>NaN</td>\n",
              "      <td>NaN</td>\n",
              "      <td>NaN</td>\n",
              "      <td>NaN</td>\n",
              "      <td>NaN</td>\n",
              "      <td>74.0</td>\n",
              "      <td>7.4</td>\n",
              "      <td>NaN</td>\n",
              "      <td>NaN</td>\n",
              "      <td>died</td>\n",
              "      <td>no</td>\n",
              "      <td>4300</td>\n",
              "      <td>0</td>\n",
              "      <td>0</td>\n",
              "      <td>no</td>\n",
              "    </tr>\n",
              "  </tbody>\n",
              "</table>\n",
              "</div>"
            ],
            "text/plain": [
              "   surgery    age  hospital_number  ...  lesion_2  lesion_3  cp_data\n",
              "0        0  adult           530101  ...         0         0       no\n",
              "1        1  adult           534817  ...         0         0       no\n",
              "2        0  adult           530334  ...         0         0      yes\n",
              "3        1  young          5290409  ...         0         0      yes\n",
              "4        0  adult           530255  ...         0         0       no\n",
              "\n",
              "[5 rows x 28 columns]"
            ]
          },
          "metadata": {},
          "execution_count": 12
        }
      ]
    },
    {
      "cell_type": "markdown",
      "metadata": {
        "id": "eFfXcuxfWAcV"
      },
      "source": [
        "##**AGE**\n",
        "\n",
        "**1 = Adult horse**\n",
        "\n",
        "**2 = Young (< 6 months)**"
      ]
    },
    {
      "cell_type": "code",
      "metadata": {
        "colab": {
          "base_uri": "https://localhost:8080/"
        },
        "id": "KDlEjJcrb0Wq",
        "outputId": "1e81cd88-b96c-45ca-bd4f-65c6a2dfac53"
      },
      "source": [
        "dataset['age'].value_counts()"
      ],
      "execution_count": null,
      "outputs": [
        {
          "output_type": "execute_result",
          "data": {
            "text/plain": [
              "adult    275\n",
              "young     24\n",
              "Name: age, dtype: int64"
            ]
          },
          "metadata": {},
          "execution_count": 13
        }
      ]
    },
    {
      "cell_type": "code",
      "metadata": {
        "colab": {
          "base_uri": "https://localhost:8080/"
        },
        "id": "zan-825R__Ag",
        "outputId": "80283be4-236e-4bc6-aec1-5427f654650a"
      },
      "source": [
        "dataset['age'] = dataset['age'].map({'adult': 1, 'young':0})\n",
        "dataset['age'].value_counts()"
      ],
      "execution_count": null,
      "outputs": [
        {
          "output_type": "execute_result",
          "data": {
            "text/plain": [
              "1    275\n",
              "0     24\n",
              "Name: age, dtype: int64"
            ]
          },
          "metadata": {},
          "execution_count": 14
        }
      ]
    },
    {
      "cell_type": "markdown",
      "source": [
        "##**Hospital Number: The case number assigned to the horse (may not be unique if the horse is treated > 1 time)**\n",
        "\n"
      ],
      "metadata": {
        "id": "d5cLtAKHBHGs"
      }
    },
    {
      "cell_type": "code",
      "source": [
        "dataset['hospital_number'].value_counts()"
      ],
      "metadata": {
        "colab": {
          "base_uri": "https://localhost:8080/"
        },
        "id": "F-SlNFI8Bc4I",
        "outputId": "31487b0f-3b69-480a-b387-92b9e287d9d7"
      },
      "execution_count": null,
      "outputs": [
        {
          "output_type": "execute_result",
          "data": {
            "text/plain": [
              "529796    2\n",
              "528931    2\n",
              "528890    2\n",
              "527544    2\n",
              "528151    2\n",
              "         ..\n",
              "527698    1\n",
              "530255    1\n",
              "530254    1\n",
              "533836    1\n",
              "535043    1\n",
              "Name: hospital_number, Length: 283, dtype: int64"
            ]
          },
          "metadata": {},
          "execution_count": 15
        }
      ]
    },
    {
      "cell_type": "code",
      "source": [
        "# No nos aporta mucha información\n",
        "# En todo caso puede ser interesante el número de hospitalizaciones (NH)\n",
        "\n",
        "dataset['NH'] = dataset['hospital_number'].map(lambda x: (dataset['hospital_number'] == x).sum())\n",
        "dataset = dataset.drop(['hospital_number'], axis=1)"
      ],
      "metadata": {
        "id": "0TOum4fhZ-WJ"
      },
      "execution_count": null,
      "outputs": []
    },
    {
      "cell_type": "code",
      "source": [
        "dataset['NH'].value_counts()"
      ],
      "metadata": {
        "colab": {
          "base_uri": "https://localhost:8080/"
        },
        "id": "J2uvSAjwbOt5",
        "outputId": "5ebdb330-e3a9-4d86-917b-960839caf98e"
      },
      "execution_count": null,
      "outputs": [
        {
          "output_type": "execute_result",
          "data": {
            "text/plain": [
              "1    267\n",
              "2     32\n",
              "Name: NH, dtype: int64"
            ]
          },
          "metadata": {},
          "execution_count": 17
        }
      ]
    },
    {
      "cell_type": "markdown",
      "source": [
        "##**Pulse**"
      ],
      "metadata": {
        "id": "W80nLztaxfr2"
      }
    },
    {
      "cell_type": "code",
      "source": [
        "nan_per=dataset['pulse'].isna().sum()/len(dataset)*100\n",
        "print (round(nan_per,2), ' % valores nulos')"
      ],
      "metadata": {
        "colab": {
          "base_uri": "https://localhost:8080/"
        },
        "id": "Dy63AWJIRU2h",
        "outputId": "e28a5e7b-fcab-4e04-8f93-12e1a47ee7e4"
      },
      "execution_count": null,
      "outputs": [
        {
          "output_type": "stream",
          "name": "stdout",
          "text": [
            "8.03  % valores nulos\n"
          ]
        }
      ]
    },
    {
      "cell_type": "code",
      "source": [
        "sns.boxplot('outcome', 'pulse', data = dataset)"
      ],
      "metadata": {
        "colab": {
          "base_uri": "https://localhost:8080/",
          "height": 351
        },
        "id": "jupMPTNFgjXL",
        "outputId": "db6a038a-c724-44a9-9c20-c8f1f01a8b79"
      },
      "execution_count": null,
      "outputs": [
        {
          "output_type": "stream",
          "name": "stderr",
          "text": [
            "/usr/local/lib/python3.7/dist-packages/seaborn/_decorators.py:43: FutureWarning: Pass the following variables as keyword args: x, y. From version 0.12, the only valid positional argument will be `data`, and passing other arguments without an explicit keyword will result in an error or misinterpretation.\n",
            "  FutureWarning\n"
          ]
        },
        {
          "output_type": "execute_result",
          "data": {
            "text/plain": [
              "<matplotlib.axes._subplots.AxesSubplot at 0x7f234b35db50>"
            ]
          },
          "metadata": {},
          "execution_count": 19
        },
        {
          "output_type": "display_data",
          "data": {
            "image/png": "[encoded data removed]",
            "text/plain": [
              "<Figure size 432x288 with 1 Axes>"
            ]
          },
          "metadata": {
            "needs_background": "light"
          }
        }
      ]
    },
    {
      "cell_type": "code",
      "source": [
        "dataset.pulse.describe()"
      ],
      "metadata": {
        "colab": {
          "base_uri": "https://localhost:8080/"
        },
        "id": "IoJ7IEtq6x27",
        "outputId": "0ced5967-e0fc-4ec5-92a9-ca08813ebe15"
      },
      "execution_count": null,
      "outputs": [
        {
          "output_type": "execute_result",
          "data": {
            "text/plain": [
              "count    275.000000\n",
              "mean      72.000000\n",
              "std       28.646219\n",
              "min       30.000000\n",
              "25%       48.000000\n",
              "50%       64.000000\n",
              "75%       88.000000\n",
              "max      184.000000\n",
              "Name: pulse, dtype: float64"
            ]
          },
          "metadata": {},
          "execution_count": 20
        }
      ]
    },
    {
      "cell_type": "code",
      "source": [
        "# Simplemente consideramos la media:\n",
        "dataset['pulse']=dataset['pulse'].fillna(dataset['pulse'].mean())"
      ],
      "metadata": {
        "id": "ffHcvHnSx1pW"
      },
      "execution_count": null,
      "outputs": []
    },
    {
      "cell_type": "code",
      "source": [
        "# Podemos considerar normal 1 (48-88), alto 2 (> 88), bajo 3 (< 48)\n",
        "dataset.pulse.describe()\n"
      ],
      "metadata": {
        "colab": {
          "base_uri": "https://localhost:8080/"
        },
        "id": "Vf_T8Bs8zIXg",
        "outputId": "210eb7f9-860c-448c-8401-3d56994de2ec"
      },
      "execution_count": null,
      "outputs": [
        {
          "output_type": "execute_result",
          "data": {
            "text/plain": [
              "count    299.000000\n",
              "mean      72.000000\n",
              "std       27.468469\n",
              "min       30.000000\n",
              "25%       48.500000\n",
              "50%       68.000000\n",
              "75%       88.000000\n",
              "max      184.000000\n",
              "Name: pulse, dtype: float64"
            ]
          },
          "metadata": {},
          "execution_count": 22
        }
      ]
    },
    {
      "cell_type": "markdown",
      "source": [
        "##**Respiratory Rate**"
      ],
      "metadata": {
        "id": "5xcDmA_j41B8"
      }
    },
    {
      "cell_type": "code",
      "source": [
        "nan_per=dataset['respiratory_rate'].isna().sum()/len(dataset)*100\n",
        "print (round(nan_per,2), ' % valores nulos')"
      ],
      "metadata": {
        "colab": {
          "base_uri": "https://localhost:8080/"
        },
        "id": "1f2Lx-xyRbfn",
        "outputId": "644c3010-cd6f-4d3b-e637-52c1edde8af0"
      },
      "execution_count": null,
      "outputs": [
        {
          "output_type": "stream",
          "name": "stdout",
          "text": [
            "19.4  % valores nulos\n"
          ]
        }
      ]
    },
    {
      "cell_type": "code",
      "source": [
        "sns.boxplot('outcome', 'respiratory_rate', data = dataset)"
      ],
      "metadata": {
        "colab": {
          "base_uri": "https://localhost:8080/",
          "height": 354
        },
        "id": "lpjxWWrziltn",
        "outputId": "a293960e-6d0b-46b0-a029-9ee47a48a022"
      },
      "execution_count": null,
      "outputs": [
        {
          "output_type": "stream",
          "name": "stderr",
          "text": [
            "/usr/local/lib/python3.7/dist-packages/seaborn/_decorators.py:43: FutureWarning: Pass the following variables as keyword args: x, y. From version 0.12, the only valid positional argument will be `data`, and passing other arguments without an explicit keyword will result in an error or misinterpretation.\n",
            "  FutureWarning\n"
          ]
        },
        {
          "output_type": "execute_result",
          "data": {
            "text/plain": [
              "<matplotlib.axes._subplots.AxesSubplot at 0x7f2349a823d0>"
            ]
          },
          "metadata": {},
          "execution_count": 24
        },
        {
          "output_type": "display_data",
          "data": {
            "image/png": "[encoded data removed]",
            "text/plain": [
              "<Figure size 432x288 with 1 Axes>"
            ]
          },
          "metadata": {
            "needs_background": "light"
          }
        }
      ]
    },
    {
      "cell_type": "code",
      "source": [
        "dataset.respiratory_rate.describe()"
      ],
      "metadata": {
        "colab": {
          "base_uri": "https://localhost:8080/"
        },
        "id": "Ba5wgKFT7Rgx",
        "outputId": "6bfe22e1-3fd5-4f73-88d1-8b9f6d850fb0"
      },
      "execution_count": null,
      "outputs": [
        {
          "output_type": "execute_result",
          "data": {
            "text/plain": [
              "count    241.000000\n",
              "mean      30.460581\n",
              "std       17.666102\n",
              "min        8.000000\n",
              "25%       18.000000\n",
              "50%       25.000000\n",
              "75%       36.000000\n",
              "max       96.000000\n",
              "Name: respiratory_rate, dtype: float64"
            ]
          },
          "metadata": {},
          "execution_count": 25
        }
      ]
    },
    {
      "cell_type": "code",
      "source": [
        "# Simplemente consideramos la media:\n",
        "dataset['respiratory_rate']=dataset['respiratory_rate'].fillna(dataset['respiratory_rate'].mean())"
      ],
      "metadata": {
        "id": "QWUtpfN45c5L"
      },
      "execution_count": null,
      "outputs": []
    },
    {
      "cell_type": "code",
      "source": [
        "dataset.respiratory_rate.describe()"
      ],
      "metadata": {
        "colab": {
          "base_uri": "https://localhost:8080/"
        },
        "id": "ZAE0-nOE7amN",
        "outputId": "b9fdb656-b3cd-4203-948f-40bb8ef32c85"
      },
      "execution_count": null,
      "outputs": [
        {
          "output_type": "execute_result",
          "data": {
            "text/plain": [
              "count    299.000000\n",
              "mean      30.460581\n",
              "std       15.853977\n",
              "min        8.000000\n",
              "25%       20.000000\n",
              "50%       30.000000\n",
              "75%       34.500000\n",
              "max       96.000000\n",
              "Name: respiratory_rate, dtype: float64"
            ]
          },
          "metadata": {},
          "execution_count": 27
        }
      ]
    },
    {
      "cell_type": "markdown",
      "source": [
        "##**Temperature of Extremities**"
      ],
      "metadata": {
        "id": "2-WeKWnw6Mvi"
      }
    },
    {
      "cell_type": "code",
      "source": [
        "nan_per=dataset['temp_of_extremities'].isna().sum()/len(dataset)*100\n",
        "print (round(nan_per,2), ' % valores nulos')"
      ],
      "metadata": {
        "colab": {
          "base_uri": "https://localhost:8080/"
        },
        "id": "A4XtWc037oq5",
        "outputId": "783518a4-a0d1-4b1e-82e3-b89fd961d19d"
      },
      "execution_count": null,
      "outputs": [
        {
          "output_type": "stream",
          "name": "stdout",
          "text": [
            "18.73  % valores nulos\n"
          ]
        }
      ]
    },
    {
      "cell_type": "code",
      "source": [
        "dataset.temp_of_extremities.value_counts()"
      ],
      "metadata": {
        "colab": {
          "base_uri": "https://localhost:8080/"
        },
        "id": "Na8txsgX8PrS",
        "outputId": "95d35d75-cef3-4e9e-f6f1-3cf1f8bbea2e"
      },
      "execution_count": null,
      "outputs": [
        {
          "output_type": "execute_result",
          "data": {
            "text/plain": [
              "cool      108\n",
              "normal     78\n",
              "warm       30\n",
              "cold       27\n",
              "Name: temp_of_extremities, dtype: int64"
            ]
          },
          "metadata": {},
          "execution_count": 29
        }
      ]
    },
    {
      "cell_type": "code",
      "source": [
        "# El valor mas repetido es cool asi que introducimos ese valor en todas las ocurencias que están a NaN\n",
        "dataset['temp_of_extremities'].fillna('cool' , inplace=True)\n",
        "dataset['temp_of_extremities']=dataset['temp_of_extremities'].astype('category').cat.codes\n",
        "dataset['temp_of_extremities'].unique()"
      ],
      "metadata": {
        "colab": {
          "base_uri": "https://localhost:8080/"
        },
        "id": "h5QsveIQ8d76",
        "outputId": "0ce03775-581f-44f4-d4b7-641694507e80"
      },
      "execution_count": null,
      "outputs": [
        {
          "output_type": "execute_result",
          "data": {
            "text/plain": [
              "array([1, 2, 0, 3], dtype=int8)"
            ]
          },
          "metadata": {},
          "execution_count": 30
        }
      ]
    },
    {
      "cell_type": "markdown",
      "source": [
        "##**Rectal Temperature**"
      ],
      "metadata": {
        "id": "1_VBI_8jBsxB"
      }
    },
    {
      "cell_type": "code",
      "source": [
        "# Vemos que relación tienen con cp_data, la variable objetivo\n",
        "\n",
        "sns.boxplot('outcome', 'rectal_temp', data = dataset)"
      ],
      "metadata": {
        "colab": {
          "base_uri": "https://localhost:8080/",
          "height": 353
        },
        "id": "XS_30E6gfzFI",
        "outputId": "3b962542-5df1-4197-f020-867bf75d51c5"
      },
      "execution_count": null,
      "outputs": [
        {
          "output_type": "stream",
          "name": "stderr",
          "text": [
            "/usr/local/lib/python3.7/dist-packages/seaborn/_decorators.py:43: FutureWarning: Pass the following variables as keyword args: x, y. From version 0.12, the only valid positional argument will be `data`, and passing other arguments without an explicit keyword will result in an error or misinterpretation.\n",
            "  FutureWarning\n"
          ]
        },
        {
          "output_type": "execute_result",
          "data": {
            "text/plain": [
              "<matplotlib.axes._subplots.AxesSubplot at 0x7f2349a28cd0>"
            ]
          },
          "metadata": {},
          "execution_count": 31
        },
        {
          "output_type": "display_data",
          "data": {
            "image/png": "[encoded data removed]",
            "text/plain": [
              "<Figure size 432x288 with 1 Axes>"
            ]
          },
          "metadata": {
            "needs_background": "light"
          }
        }
      ]
    },
    {
      "cell_type": "code",
      "source": [
        "# Y el total y el porcentaje de valores nulos\n",
        "\n",
        "dataset['rectal_temp'].isna().value_counts()"
      ],
      "metadata": {
        "colab": {
          "base_uri": "https://localhost:8080/"
        },
        "id": "AdHrvfkzC8mm",
        "outputId": "8bdcb69b-a2c6-4045-dd1b-bdc121393341"
      },
      "execution_count": null,
      "outputs": [
        {
          "output_type": "execute_result",
          "data": {
            "text/plain": [
              "False    239\n",
              "True      60\n",
              "Name: rectal_temp, dtype: int64"
            ]
          },
          "metadata": {},
          "execution_count": 32
        }
      ]
    },
    {
      "cell_type": "code",
      "source": [
        "nan_per=dataset['rectal_temp'].isna().sum()/len(dataset)*100\n",
        "print (round(nan_per,2), ' % valores nulos')"
      ],
      "metadata": {
        "colab": {
          "base_uri": "https://localhost:8080/"
        },
        "id": "DP0YBJjsD6Kp",
        "outputId": "0ff7678a-873c-42e2-fa51-4040ef82ae99"
      },
      "execution_count": null,
      "outputs": [
        {
          "output_type": "stream",
          "name": "stdout",
          "text": [
            "20.07  % valores nulos\n"
          ]
        }
      ]
    },
    {
      "cell_type": "markdown",
      "source": [
        "Para rellenar los valores nulos tenemos varias posibilidades:"
      ],
      "metadata": {
        "id": "hNQqjHNuDvo6"
      }
    },
    {
      "cell_type": "code",
      "source": [
        "# Vamos a usar RandomForestRegressor\n",
        "\n",
        "from sklearn.ensemble import RandomForestRegressor\n",
        "\n",
        "# Consideramos que influyen los siguientes campos:\n",
        "dataset_sub = dataset[['rectal_temp', 'pulse','respiratory_rate','temp_of_extremities']]\n",
        "\n",
        "# Dividimos la base de datos en dos grupos:\n",
        "# por un lado la temperatura, que lo ponemos en y,\n",
        "# y lo que nos sirve para predecir la temperatura, que lo ponemos en X (en X ponemos las variable y en y el target).\n",
        "# Y en ambos casos se ejecuta dropna para eliminar los valores nulos.\n",
        "X_train  = dataset_sub.dropna(subset=['rectal_temp']).drop('rectal_temp', axis=1)\n",
        "y_train  = dataset['rectal_temp'].dropna()\n",
        "X_test = dataset_sub.loc[np.isnan(dataset_sub.rectal_temp)].drop('rectal_temp', axis=1)\n",
        "\n",
        "#Aplicamos el algortimo\n",
        "regressor = RandomForestRegressor(n_estimators = 300)\n",
        "regressor.fit(X_train, y_train)\n",
        "#Predecimos los valores que nos faltan\n",
        "y_pred = np.round(regressor.predict(X_test),1)\n",
        "dataset.rectal_temp.loc[np.isnan(dataset.rectal_temp)] = y_pred\n"
      ],
      "metadata": {
        "colab": {
          "base_uri": "https://localhost:8080/"
        },
        "id": "aFmC1Q0uM8Hz",
        "outputId": "a3e0f1e1-6b30-4f08-a188-d2a09e421574"
      },
      "execution_count": null,
      "outputs": [
        {
          "output_type": "stream",
          "name": "stderr",
          "text": [
            "/usr/local/lib/python3.7/dist-packages/pandas/core/indexing.py:670: SettingWithCopyWarning: \n",
            "A value is trying to be set on a copy of a slice from a DataFrame\n",
            "\n",
            "See the caveats in the documentation: https://pandas.pydata.org/pandas-docs/stable/user_guide/indexing.html#returning-a-view-versus-a-copy\n",
            "  iloc._setitem_with_indexer(indexer, value)\n"
          ]
        }
      ]
    },
    {
      "cell_type": "code",
      "source": [
        "dataset['rectal_temp'].unique()"
      ],
      "metadata": {
        "colab": {
          "base_uri": "https://localhost:8080/"
        },
        "id": "rTdifLhtMLHW",
        "outputId": "dbe49052-de36-4fd5-a5a0-2db070353f1c"
      },
      "execution_count": null,
      "outputs": [
        {
          "output_type": "execute_result",
          "data": {
            "text/plain": [
              "array([38.5, 39.2, 38.3, 39.1, 37.3, 37.7, 37.9, 38.1, 37.2, 38. , 38.2,\n",
              "       37.6, 38.8, 37.5, 39.4, 39.9, 38.4, 38.6, 37.8, 38.7, 37.4, 37.1,\n",
              "       39. , 35.4, 38.9, 40.3, 37. , 39.7, 36.4, 39.6, 36.8, 39.5, 36.5,\n",
              "       36. , 39.3, 36.1, 36.6, 40.8, 36.9, 40. ])"
            ]
          },
          "metadata": {},
          "execution_count": 35
        }
      ]
    },
    {
      "cell_type": "code",
      "source": [
        "dataset.info()"
      ],
      "metadata": {
        "colab": {
          "base_uri": "https://localhost:8080/"
        },
        "id": "qo6wpG2d_fnW",
        "outputId": "66f1473f-f490-408a-d4c9-52c0ce67e548"
      },
      "execution_count": null,
      "outputs": [
        {
          "output_type": "stream",
          "name": "stdout",
          "text": [
            "<class 'pandas.core.frame.DataFrame'>\n",
            "RangeIndex: 299 entries, 0 to 298\n",
            "Data columns (total 28 columns):\n",
            " #   Column                 Non-Null Count  Dtype  \n",
            "---  ------                 --------------  -----  \n",
            " 0   surgery                299 non-null    int64  \n",
            " 1   age                    299 non-null    int64  \n",
            " 2   rectal_temp            299 non-null    float64\n",
            " 3   pulse                  299 non-null    float64\n",
            " 4   respiratory_rate       299 non-null    float64\n",
            " 5   temp_of_extremities    299 non-null    int8   \n",
            " 6   peripheral_pulse       230 non-null    object \n",
            " 7   mucous_membrane        252 non-null    object \n",
            " 8   capillary_refill_time  267 non-null    object \n",
            " 9   pain                   244 non-null    object \n",
            " 10  peristalsis            255 non-null    object \n",
            " 11  abdominal_distention   243 non-null    object \n",
            " 12  nasogastric_tube       195 non-null    object \n",
            " 13  nasogastric_reflux     193 non-null    object \n",
            " 14  nasogastric_reflux_ph  53 non-null     float64\n",
            " 15  rectal_exam_feces      197 non-null    object \n",
            " 16  abdomen                181 non-null    object \n",
            " 17  packed_cell_volume     270 non-null    float64\n",
            " 18  total_protein          266 non-null    float64\n",
            " 19  abdomo_appearance      134 non-null    object \n",
            " 20  abdomo_protein         101 non-null    float64\n",
            " 21  outcome                299 non-null    object \n",
            " 22  surgical_lesion        299 non-null    object \n",
            " 23  lesion_1               299 non-null    int64  \n",
            " 24  lesion_2               299 non-null    int64  \n",
            " 25  lesion_3               299 non-null    int64  \n",
            " 26  cp_data                299 non-null    object \n",
            " 27  NH                     299 non-null    int64  \n",
            "dtypes: float64(7), int64(6), int8(1), object(14)\n",
            "memory usage: 63.5+ KB\n"
          ]
        }
      ]
    },
    {
      "cell_type": "markdown",
      "source": [
        "##**Peripheral pulse**"
      ],
      "metadata": {
        "id": "Z36B0Y-4_kEl"
      }
    },
    {
      "cell_type": "code",
      "source": [
        "nan_per=dataset['peripheral_pulse'].isna().sum()/len(dataset)*100\n",
        "print (round(nan_per,2), ' % valores nulos')"
      ],
      "metadata": {
        "colab": {
          "base_uri": "https://localhost:8080/"
        },
        "id": "WVuddHENCtah",
        "outputId": "7de1ebd2-a617-4a4d-82a9-e29707d1abb4"
      },
      "execution_count": null,
      "outputs": [
        {
          "output_type": "stream",
          "name": "stdout",
          "text": [
            "23.08  % valores nulos\n"
          ]
        }
      ]
    },
    {
      "cell_type": "code",
      "source": [
        "dataset.peripheral_pulse.value_counts()"
      ],
      "metadata": {
        "colab": {
          "base_uri": "https://localhost:8080/"
        },
        "id": "i7ux0LGbC-n-",
        "outputId": "3c9e2bd1-2c4c-41c6-c9eb-3da63772aacd"
      },
      "execution_count": null,
      "outputs": [
        {
          "output_type": "execute_result",
          "data": {
            "text/plain": [
              "normal       114\n",
              "reduced      103\n",
              "absent         8\n",
              "increased      5\n",
              "Name: peripheral_pulse, dtype: int64"
            ]
          },
          "metadata": {},
          "execution_count": 38
        }
      ]
    },
    {
      "cell_type": "code",
      "source": [
        "# El valor mas repetido es normal asi que introducimos ese valor en todas las ocurencias que están a NaN\n",
        "dataset['peripheral_pulse'].fillna('normal' , inplace=True)\n",
        "dataset['peripheral_pulse']=dataset['peripheral_pulse'].astype('category').cat.codes\n",
        "dataset['peripheral_pulse'].unique()"
      ],
      "metadata": {
        "colab": {
          "base_uri": "https://localhost:8080/"
        },
        "id": "L25NyMD8DEh4",
        "outputId": "3fb9214a-b1e8-4c93-f65e-0d76dca941a0"
      },
      "execution_count": null,
      "outputs": [
        {
          "output_type": "execute_result",
          "data": {
            "text/plain": [
              "array([3, 2, 0, 1], dtype=int8)"
            ]
          },
          "metadata": {},
          "execution_count": 39
        }
      ]
    },
    {
      "cell_type": "markdown",
      "source": [
        "##**Mucuos membranes**"
      ],
      "metadata": {
        "id": "pjeknNtODaWb"
      }
    },
    {
      "cell_type": "code",
      "source": [
        "nan_per=dataset['mucous_membrane'].isna().sum()/len(dataset)*100\n",
        "print (round(nan_per,2), ' % valores nulos')"
      ],
      "metadata": {
        "colab": {
          "base_uri": "https://localhost:8080/"
        },
        "id": "AOWBqLywDgxt",
        "outputId": "7f8f7725-283d-4749-9442-c0fe10a0c615"
      },
      "execution_count": null,
      "outputs": [
        {
          "output_type": "stream",
          "name": "stdout",
          "text": [
            "15.72  % valores nulos\n"
          ]
        }
      ]
    },
    {
      "cell_type": "code",
      "source": [
        "dataset.mucous_membrane.value_counts()"
      ],
      "metadata": {
        "colab": {
          "base_uri": "https://localhost:8080/"
        },
        "id": "HMId_M_bDtaG",
        "outputId": "c9d80ced-7796-4391-b6be-eadfca14559d"
      },
      "execution_count": null,
      "outputs": [
        {
          "output_type": "execute_result",
          "data": {
            "text/plain": [
              "normal_pink      79\n",
              "pale_pink        57\n",
              "pale_cyanotic    41\n",
              "bright_pink      30\n",
              "bright_red       25\n",
              "dark_cyanotic    20\n",
              "Name: mucous_membrane, dtype: int64"
            ]
          },
          "metadata": {},
          "execution_count": 41
        }
      ]
    },
    {
      "cell_type": "code",
      "source": [
        "dataset['mucous_membrane'].fillna('normal_pink' , inplace=True)\n",
        "dataset['mucous_membrane']=dataset['mucous_membrane'].astype('category').cat.codes\n",
        "dataset['mucous_membrane'].unique()"
      ],
      "metadata": {
        "colab": {
          "base_uri": "https://localhost:8080/"
        },
        "id": "jDA3BH-LD17s",
        "outputId": "ea04f5e1-9ee3-436c-f378-4fa4f0cbc0a8"
      },
      "execution_count": null,
      "outputs": [
        {
          "output_type": "execute_result",
          "data": {
            "text/plain": [
              "array([3, 4, 5, 2, 1, 0], dtype=int8)"
            ]
          },
          "metadata": {},
          "execution_count": 42
        }
      ]
    },
    {
      "cell_type": "markdown",
      "source": [
        "##**Capillary refill time (a clinical judgement, the longer the refill, the poorer the circulation)**"
      ],
      "metadata": {
        "id": "H7VRWMFfEEqY"
      }
    },
    {
      "cell_type": "code",
      "source": [
        "nan_per=dataset['capillary_refill_time'].isna().sum()/len(dataset)*100\n",
        "print (round(nan_per,2), ' % valores nulos')"
      ],
      "metadata": {
        "colab": {
          "base_uri": "https://localhost:8080/"
        },
        "id": "2OHpVnGzEolR",
        "outputId": "08e32218-909b-4bb5-e434-7a9ff4de90e8"
      },
      "execution_count": null,
      "outputs": [
        {
          "output_type": "stream",
          "name": "stdout",
          "text": [
            "10.7  % valores nulos\n"
          ]
        }
      ]
    },
    {
      "cell_type": "code",
      "source": [
        "dataset.capillary_refill_time.value_counts()"
      ],
      "metadata": {
        "colab": {
          "base_uri": "https://localhost:8080/"
        },
        "id": "aKJ3kQjMEztp",
        "outputId": "4d5de099-b131-4e65-c4eb-a93de1409a89"
      },
      "execution_count": null,
      "outputs": [
        {
          "output_type": "execute_result",
          "data": {
            "text/plain": [
              "less_3_sec    187\n",
              "more_3_sec     78\n",
              "3               2\n",
              "Name: capillary_refill_time, dtype: int64"
            ]
          },
          "metadata": {},
          "execution_count": 44
        }
      ]
    },
    {
      "cell_type": "code",
      "source": [
        "dataset['capillary_refill_time'].fillna('less_3_sec' , inplace=True)\n",
        "dataset['capillary_refill_time']=dataset['capillary_refill_time'].astype('category').cat.codes\n",
        "dataset['capillary_refill_time'].unique()"
      ],
      "metadata": {
        "colab": {
          "base_uri": "https://localhost:8080/"
        },
        "id": "2WereFAOE8R7",
        "outputId": "0ca7a37b-c55b-4f1a-910d-e5900b3679b3"
      },
      "execution_count": null,
      "outputs": [
        {
          "output_type": "execute_result",
          "data": {
            "text/plain": [
              "array([2, 1, 0], dtype=int8)"
            ]
          },
          "metadata": {},
          "execution_count": 45
        }
      ]
    },
    {
      "cell_type": "markdown",
      "source": [
        "##**Pain**"
      ],
      "metadata": {
        "id": "FJAfzhLgFFig"
      }
    },
    {
      "cell_type": "code",
      "source": [
        "nan_per=dataset['pain'].isna().sum()/len(dataset)*100\n",
        "print (round(nan_per,2), ' % valores nulos')"
      ],
      "metadata": {
        "colab": {
          "base_uri": "https://localhost:8080/"
        },
        "id": "mZ6JroiyFMMV",
        "outputId": "25d8eb7f-09e2-45dd-a460-b1eef50f3391"
      },
      "execution_count": null,
      "outputs": [
        {
          "output_type": "stream",
          "name": "stdout",
          "text": [
            "18.39  % valores nulos\n"
          ]
        }
      ]
    },
    {
      "cell_type": "code",
      "source": [
        "dataset.pain.value_counts()"
      ],
      "metadata": {
        "colab": {
          "base_uri": "https://localhost:8080/"
        },
        "id": "E5KYN57VFPII",
        "outputId": "cc3969bd-6ece-4e9b-a699-d33ca382f080"
      },
      "execution_count": null,
      "outputs": [
        {
          "output_type": "execute_result",
          "data": {
            "text/plain": [
              "mild_pain       67\n",
              "depressed       59\n",
              "extreme_pain    42\n",
              "alert           38\n",
              "severe_pain     38\n",
              "Name: pain, dtype: int64"
            ]
          },
          "metadata": {},
          "execution_count": 47
        }
      ]
    },
    {
      "cell_type": "code",
      "source": [
        "dataset['pain'].fillna('mild_pain' , inplace=True)\n",
        "dataset['pain']=dataset['pain'].astype('category').cat.codes\n",
        "dataset['pain'].unique()"
      ],
      "metadata": {
        "colab": {
          "base_uri": "https://localhost:8080/"
        },
        "id": "63AWp9LpFZCn",
        "outputId": "78584a0b-ad5e-4159-c85e-c970a3c697eb"
      },
      "execution_count": null,
      "outputs": [
        {
          "output_type": "execute_result",
          "data": {
            "text/plain": [
              "array([2, 3, 1, 4, 0], dtype=int8)"
            ]
          },
          "metadata": {},
          "execution_count": 48
        }
      ]
    },
    {
      "cell_type": "markdown",
      "source": [
        "##**Peristalsis (an indication of the activity in the horse's gut)**"
      ],
      "metadata": {
        "id": "adnZCruoFq80"
      }
    },
    {
      "cell_type": "code",
      "source": [
        "nan_per=dataset['peristalsis'].isna().sum()/len(dataset)*100\n",
        "print (round(nan_per,2), ' % valores nulos')"
      ],
      "metadata": {
        "colab": {
          "base_uri": "https://localhost:8080/"
        },
        "id": "MB1qxKF4GHuZ",
        "outputId": "c5ebd28f-955a-4f30-f758-1a2ee017829d"
      },
      "execution_count": null,
      "outputs": [
        {
          "output_type": "stream",
          "name": "stdout",
          "text": [
            "14.72  % valores nulos\n"
          ]
        }
      ]
    },
    {
      "cell_type": "code",
      "source": [
        "dataset.peristalsis.value_counts()"
      ],
      "metadata": {
        "colab": {
          "base_uri": "https://localhost:8080/"
        },
        "id": "au-xpsANGO6F",
        "outputId": "f084a7f5-ee1f-4e0d-8f45-a8554d4dfe53"
      },
      "execution_count": null,
      "outputs": [
        {
          "output_type": "execute_result",
          "data": {
            "text/plain": [
              "hypomotile     127\n",
              "absent          73\n",
              "hypermotile     39\n",
              "normal          16\n",
              "Name: peristalsis, dtype: int64"
            ]
          },
          "metadata": {},
          "execution_count": 50
        }
      ]
    },
    {
      "cell_type": "code",
      "source": [
        "dataset['peristalsis'].fillna('hypomotile' , inplace=True)\n",
        "dataset['peristalsis']=dataset['peristalsis'].astype('category').cat.codes\n",
        "dataset['peristalsis'].unique()"
      ],
      "metadata": {
        "colab": {
          "base_uri": "https://localhost:8080/"
        },
        "id": "uBPpOCOWHsYH",
        "outputId": "a2586c77-5dd6-45e2-9538-5b922c1b59a0"
      },
      "execution_count": null,
      "outputs": [
        {
          "output_type": "execute_result",
          "data": {
            "text/plain": [
              "array([0, 2, 1, 3], dtype=int8)"
            ]
          },
          "metadata": {},
          "execution_count": 51
        }
      ]
    },
    {
      "cell_type": "markdown",
      "source": [
        "##**Abdominal distension**"
      ],
      "metadata": {
        "id": "D0neTpJQH9Lj"
      }
    },
    {
      "cell_type": "code",
      "source": [
        "nan_per=dataset['abdominal_distention'].isna().sum()/len(dataset)*100\n",
        "print (round(nan_per,2), ' % valores nulos')"
      ],
      "metadata": {
        "colab": {
          "base_uri": "https://localhost:8080/"
        },
        "id": "SfnwmiHpIEGP",
        "outputId": "b8acbb86-f7ba-4962-87aa-8d4fc18f73d9"
      },
      "execution_count": null,
      "outputs": [
        {
          "output_type": "stream",
          "name": "stdout",
          "text": [
            "18.73  % valores nulos\n"
          ]
        }
      ]
    },
    {
      "cell_type": "code",
      "source": [
        "dataset.abdominal_distention.value_counts()"
      ],
      "metadata": {
        "colab": {
          "base_uri": "https://localhost:8080/"
        },
        "id": "BDM5PslTILWL",
        "outputId": "332e494d-d81a-40f6-c87a-e3d8dabcec02"
      },
      "execution_count": null,
      "outputs": [
        {
          "output_type": "execute_result",
          "data": {
            "text/plain": [
              "none        75\n",
              "moderate    65\n",
              "slight      65\n",
              "severe      38\n",
              "Name: abdominal_distention, dtype: int64"
            ]
          },
          "metadata": {},
          "execution_count": 53
        }
      ]
    },
    {
      "cell_type": "code",
      "source": [
        "dataset['abdominal_distention'].fillna('none' , inplace=True)\n",
        "dataset['abdominal_distention']=dataset['abdominal_distention'].astype('category').cat.codes\n",
        "dataset['abdominal_distention'].unique()"
      ],
      "metadata": {
        "colab": {
          "base_uri": "https://localhost:8080/"
        },
        "id": "gGO-rr0TIUlG",
        "outputId": "169011ef-bdb1-443a-af24-bc52b45e3f2c"
      },
      "execution_count": null,
      "outputs": [
        {
          "output_type": "execute_result",
          "data": {
            "text/plain": [
              "array([2, 3, 1, 0], dtype=int8)"
            ]
          },
          "metadata": {},
          "execution_count": 54
        }
      ]
    },
    {
      "cell_type": "markdown",
      "source": [
        "##**Nasogastric tube (refers to any gas coming out of the tube)**"
      ],
      "metadata": {
        "id": "J6eJpkUJIeR5"
      }
    },
    {
      "cell_type": "code",
      "source": [
        "nan_per=dataset['nasogastric_tube'].isna().sum()/len(dataset)*100\n",
        "print (round(nan_per,2), ' % valores nulos')"
      ],
      "metadata": {
        "colab": {
          "base_uri": "https://localhost:8080/"
        },
        "outputId": "02c0c79d-bcf6-4343-eb52-bc658f5b6034",
        "id": "aK-GRjUKI1PF"
      },
      "execution_count": null,
      "outputs": [
        {
          "output_type": "stream",
          "name": "stdout",
          "text": [
            "34.78  % valores nulos\n"
          ]
        }
      ]
    },
    {
      "cell_type": "code",
      "source": [
        "dataset.nasogastric_tube.value_counts()"
      ],
      "metadata": {
        "colab": {
          "base_uri": "https://localhost:8080/"
        },
        "outputId": "201e8ea7-0744-444a-d0c0-561a3f0ec550",
        "id": "laB_oh1VI1PG"
      },
      "execution_count": null,
      "outputs": [
        {
          "output_type": "execute_result",
          "data": {
            "text/plain": [
              "slight         101\n",
              "none            71\n",
              "significant     23\n",
              "Name: nasogastric_tube, dtype: int64"
            ]
          },
          "metadata": {},
          "execution_count": 56
        }
      ]
    },
    {
      "cell_type": "code",
      "source": [
        "dataset['nasogastric_tube'].fillna('slight' , inplace=True)\n",
        "dataset['nasogastric_tube']=dataset['nasogastric_tube'].astype('category').cat.codes\n",
        "dataset['nasogastric_tube'].unique()"
      ],
      "metadata": {
        "colab": {
          "base_uri": "https://localhost:8080/"
        },
        "outputId": "0517b4ed-06f0-409f-930f-d2431e322a5a",
        "id": "_RS1PNyCI1PG"
      },
      "execution_count": null,
      "outputs": [
        {
          "output_type": "execute_result",
          "data": {
            "text/plain": [
              "array([2, 0, 1], dtype=int8)"
            ]
          },
          "metadata": {},
          "execution_count": 57
        }
      ]
    },
    {
      "cell_type": "markdown",
      "source": [
        "##**Nasogastric reflux**"
      ],
      "metadata": {
        "id": "2Fp-AOIuJWpo"
      }
    },
    {
      "cell_type": "code",
      "source": [
        "nan_per=dataset['nasogastric_reflux'].isna().sum()/len(dataset)*100\n",
        "print (round(nan_per,2), ' % valores nulos')"
      ],
      "metadata": {
        "colab": {
          "base_uri": "https://localhost:8080/"
        },
        "outputId": "87c0d938-8d48-46c7-e5ad-dd996d2a0ace",
        "id": "ca1dr_NVJWpo"
      },
      "execution_count": null,
      "outputs": [
        {
          "output_type": "stream",
          "name": "stdout",
          "text": [
            "35.45  % valores nulos\n"
          ]
        }
      ]
    },
    {
      "cell_type": "code",
      "source": [
        "dataset.nasogastric_reflux.value_counts()"
      ],
      "metadata": {
        "colab": {
          "base_uri": "https://localhost:8080/"
        },
        "outputId": "9c17de0e-7001-4045-f641-b1f55c879598",
        "id": "IvmSRNddJWpp"
      },
      "execution_count": null,
      "outputs": [
        {
          "output_type": "execute_result",
          "data": {
            "text/plain": [
              "none            119\n",
              "more_1_liter     39\n",
              "less_1_liter     35\n",
              "Name: nasogastric_reflux, dtype: int64"
            ]
          },
          "metadata": {},
          "execution_count": 59
        }
      ]
    },
    {
      "cell_type": "code",
      "source": [
        "dataset['nasogastric_reflux'].fillna('none' , inplace=True)\n",
        "dataset['nasogastric_reflux']=dataset['nasogastric_reflux'].astype('category').cat.codes\n",
        "dataset['nasogastric_reflux'].unique()"
      ],
      "metadata": {
        "colab": {
          "base_uri": "https://localhost:8080/"
        },
        "outputId": "4114a7dc-61ab-4e9b-c4c0-ab820461b0fd",
        "id": "VLnlqWJEJWpp"
      },
      "execution_count": null,
      "outputs": [
        {
          "output_type": "execute_result",
          "data": {
            "text/plain": [
              "array([2, 0, 1], dtype=int8)"
            ]
          },
          "metadata": {},
          "execution_count": 60
        }
      ]
    },
    {
      "cell_type": "markdown",
      "source": [
        "##**Nasogastric reflux PH**"
      ],
      "metadata": {
        "id": "TRc7jQ3PJ2-6"
      }
    },
    {
      "cell_type": "code",
      "source": [
        "nan_per=dataset['nasogastric_reflux_ph'].isna().sum()/len(dataset)*100\n",
        "print (round(nan_per,2), ' % valores nulos')"
      ],
      "metadata": {
        "colab": {
          "base_uri": "https://localhost:8080/"
        },
        "outputId": "ed6baca1-013b-4c2d-8916-0168d2da7a47",
        "id": "YApLr_IcJ2_B"
      },
      "execution_count": null,
      "outputs": [
        {
          "output_type": "stream",
          "name": "stdout",
          "text": [
            "82.27  % valores nulos\n"
          ]
        }
      ]
    },
    {
      "cell_type": "code",
      "source": [
        "# Eliminamos la columna\n",
        "dataset = dataset.drop(['nasogastric_reflux_ph'], axis=1)"
      ],
      "metadata": {
        "id": "CQZcK0NgKGJL"
      },
      "execution_count": null,
      "outputs": []
    },
    {
      "cell_type": "markdown",
      "source": [
        "##**Rectal examination - feces**"
      ],
      "metadata": {
        "id": "f4ZVyH1DKzc9"
      }
    },
    {
      "cell_type": "code",
      "source": [
        "nan_per=dataset['rectal_exam_feces'].isna().sum()/len(dataset)*100\n",
        "print (round(nan_per,2), ' % valores nulos')"
      ],
      "metadata": {
        "colab": {
          "base_uri": "https://localhost:8080/"
        },
        "outputId": "93f88b9b-d4d0-493b-e5fb-1e0c7d620066",
        "id": "N75Z1lPbLAcB"
      },
      "execution_count": null,
      "outputs": [
        {
          "output_type": "stream",
          "name": "stdout",
          "text": [
            "34.11  % valores nulos\n"
          ]
        }
      ]
    },
    {
      "cell_type": "code",
      "source": [
        "dataset.rectal_exam_feces.value_counts()"
      ],
      "metadata": {
        "colab": {
          "base_uri": "https://localhost:8080/"
        },
        "outputId": "c14f5cb0-fdb3-4476-b8bd-898cee126fcd",
        "id": "q4Aq1JhzLAcL"
      },
      "execution_count": null,
      "outputs": [
        {
          "output_type": "execute_result",
          "data": {
            "text/plain": [
              "absent       79\n",
              "normal       57\n",
              "decreased    48\n",
              "increased    13\n",
              "Name: rectal_exam_feces, dtype: int64"
            ]
          },
          "metadata": {},
          "execution_count": 64
        }
      ]
    },
    {
      "cell_type": "code",
      "source": [
        "dataset['rectal_exam_feces'].fillna('absent' , inplace=True)\n",
        "dataset['rectal_exam_feces']=dataset['rectal_exam_feces'].astype('category').cat.codes\n",
        "dataset['rectal_exam_feces'].unique()"
      ],
      "metadata": {
        "colab": {
          "base_uri": "https://localhost:8080/"
        },
        "outputId": "b598d087-cd10-4b9f-f09d-3f67f690d424",
        "id": "FoMJyvVCLAcL"
      },
      "execution_count": null,
      "outputs": [
        {
          "output_type": "execute_result",
          "data": {
            "text/plain": [
              "array([1, 0, 3, 2], dtype=int8)"
            ]
          },
          "metadata": {},
          "execution_count": 65
        }
      ]
    },
    {
      "cell_type": "markdown",
      "source": [
        "##**Abdomen**"
      ],
      "metadata": {
        "id": "NCHBTCq9LqA5"
      }
    },
    {
      "cell_type": "code",
      "source": [
        "nan_per=dataset['abdomen'].isna().sum()/len(dataset)*100\n",
        "print (round(nan_per,2), ' % valores nulos')"
      ],
      "metadata": {
        "colab": {
          "base_uri": "https://localhost:8080/"
        },
        "outputId": "99f9acb5-5200-42bb-d7bd-e287ecd295ec",
        "id": "uPCrmcbJLuuv"
      },
      "execution_count": null,
      "outputs": [
        {
          "output_type": "stream",
          "name": "stdout",
          "text": [
            "39.46  % valores nulos\n"
          ]
        }
      ]
    },
    {
      "cell_type": "code",
      "source": [
        "dataset.abdomen.value_counts()"
      ],
      "metadata": {
        "colab": {
          "base_uri": "https://localhost:8080/"
        },
        "outputId": "aa614449-c0cb-4c17-cc47-219e209bdf8c",
        "id": "1Jvgm4FlLuuw"
      },
      "execution_count": null,
      "outputs": [
        {
          "output_type": "execute_result",
          "data": {
            "text/plain": [
              "distend_large    78\n",
              "distend_small    43\n",
              "normal           28\n",
              "other            19\n",
              "firm             13\n",
              "Name: abdomen, dtype: int64"
            ]
          },
          "metadata": {},
          "execution_count": 67
        }
      ]
    },
    {
      "cell_type": "code",
      "source": [
        "dataset['abdomen'].fillna('distend_large' , inplace=True)\n",
        "dataset['abdomen']=dataset['abdomen'].astype('category').cat.codes\n",
        "dataset['abdomen'].unique()"
      ],
      "metadata": {
        "colab": {
          "base_uri": "https://localhost:8080/"
        },
        "outputId": "02802a19-8486-47e3-e7b3-481df35cf96b",
        "id": "d8DxoHnELuuw"
      },
      "execution_count": null,
      "outputs": [
        {
          "output_type": "execute_result",
          "data": {
            "text/plain": [
              "array([0, 4, 3, 2, 1], dtype=int8)"
            ]
          },
          "metadata": {},
          "execution_count": 68
        }
      ]
    },
    {
      "cell_type": "markdown",
      "source": [
        "##**Packed_cell_volume (red cells by volume in the blood)**"
      ],
      "metadata": {
        "id": "Vy8jqK9GNcSF"
      }
    },
    {
      "cell_type": "code",
      "source": [
        "nan_per=dataset['packed_cell_volume'].isna().sum()/len(dataset)*100\n",
        "print (round(nan_per,2), ' % valores nulos')"
      ],
      "metadata": {
        "colab": {
          "base_uri": "https://localhost:8080/"
        },
        "id": "w_OB6r8xNqdC",
        "outputId": "f03d3256-481e-4f88-8d78-717cb1d0d325"
      },
      "execution_count": null,
      "outputs": [
        {
          "output_type": "stream",
          "name": "stdout",
          "text": [
            "9.7  % valores nulos\n"
          ]
        }
      ]
    },
    {
      "cell_type": "code",
      "source": [
        "# Simplemente consideramos la media:\n",
        "dataset['packed_cell_volume']=dataset['packed_cell_volume'].fillna(dataset['packed_cell_volume'].mean())"
      ],
      "metadata": {
        "id": "jhBxWq1dN_hA"
      },
      "execution_count": null,
      "outputs": []
    },
    {
      "cell_type": "code",
      "source": [
        "dataset.packed_cell_volume.describe()"
      ],
      "metadata": {
        "colab": {
          "base_uri": "https://localhost:8080/"
        },
        "id": "dsOx9LhLOKRw",
        "outputId": "d2106169-d5d2-4c04-ce67-a6d240b01c50"
      },
      "execution_count": null,
      "outputs": [
        {
          "output_type": "execute_result",
          "data": {
            "text/plain": [
              "count    299.000000\n",
              "mean      46.307407\n",
              "std        9.915919\n",
              "min       23.000000\n",
              "25%       39.000000\n",
              "50%       46.000000\n",
              "75%       50.000000\n",
              "max       75.000000\n",
              "Name: packed_cell_volume, dtype: float64"
            ]
          },
          "metadata": {},
          "execution_count": 71
        }
      ]
    },
    {
      "cell_type": "markdown",
      "source": [
        "##**Total protein**"
      ],
      "metadata": {
        "id": "_Yib5VNoPAbq"
      }
    },
    {
      "cell_type": "code",
      "source": [
        "nan_per=dataset['total_protein'].isna().sum()/len(dataset)*100\n",
        "print (round(nan_per,2), ' % valores nulos')"
      ],
      "metadata": {
        "colab": {
          "base_uri": "https://localhost:8080/"
        },
        "outputId": "06dafb29-cc03-4219-fb4a-4100c9cb47bb",
        "id": "PkDQ3kaXPIK3"
      },
      "execution_count": null,
      "outputs": [
        {
          "output_type": "stream",
          "name": "stdout",
          "text": [
            "11.04  % valores nulos\n"
          ]
        }
      ]
    },
    {
      "cell_type": "code",
      "source": [
        "# Simplemente consideramos la media:\n",
        "dataset['total_protein']=dataset['total_protein'].fillna(dataset['total_protein'].mean())"
      ],
      "metadata": {
        "id": "QrWVrM0EPIK4"
      },
      "execution_count": null,
      "outputs": []
    },
    {
      "cell_type": "code",
      "source": [
        "dataset.packed_cell_volume.describe()"
      ],
      "metadata": {
        "colab": {
          "base_uri": "https://localhost:8080/"
        },
        "outputId": "6065ab9e-ebcc-4544-b400-0cb2d072cbda",
        "id": "tqqbYnPLPIK4"
      },
      "execution_count": null,
      "outputs": [
        {
          "output_type": "execute_result",
          "data": {
            "text/plain": [
              "count    299.000000\n",
              "mean      46.307407\n",
              "std        9.915919\n",
              "min       23.000000\n",
              "25%       39.000000\n",
              "50%       46.000000\n",
              "75%       50.000000\n",
              "max       75.000000\n",
              "Name: packed_cell_volume, dtype: float64"
            ]
          },
          "metadata": {},
          "execution_count": 74
        }
      ]
    },
    {
      "cell_type": "markdown",
      "source": [
        "##**Abdominocentesis appearance (a needle is put in the horse's abdomen and fluid is obtained from the abdominal cavity)**"
      ],
      "metadata": {
        "id": "mU2L2HndPbdN"
      }
    },
    {
      "cell_type": "code",
      "source": [
        "nan_per=dataset['abdomo_appearance'].isna().sum()/len(dataset)*100\n",
        "print (round(nan_per,2), ' % valores nulos')"
      ],
      "metadata": {
        "colab": {
          "base_uri": "https://localhost:8080/"
        },
        "id": "9medk5H8Pw7B",
        "outputId": "0c3cff17-c0bc-4956-ae9f-549c235c81e6"
      },
      "execution_count": null,
      "outputs": [
        {
          "output_type": "stream",
          "name": "stdout",
          "text": [
            "55.18  % valores nulos\n"
          ]
        }
      ]
    },
    {
      "cell_type": "code",
      "source": [
        "# Eliminamos la columna\n",
        "dataset = dataset.drop(['abdomo_appearance'], axis=1)"
      ],
      "metadata": {
        "id": "TvaLH-ojP_2Y"
      },
      "execution_count": null,
      "outputs": []
    },
    {
      "cell_type": "code",
      "source": [
        "dataset.info()"
      ],
      "metadata": {
        "colab": {
          "base_uri": "https://localhost:8080/"
        },
        "id": "t3OLl0kaQwEs",
        "outputId": "47ab21bd-bb54-41bb-b058-e90ca63ca4c1"
      },
      "execution_count": null,
      "outputs": [
        {
          "output_type": "stream",
          "name": "stdout",
          "text": [
            "<class 'pandas.core.frame.DataFrame'>\n",
            "RangeIndex: 299 entries, 0 to 298\n",
            "Data columns (total 26 columns):\n",
            " #   Column                 Non-Null Count  Dtype  \n",
            "---  ------                 --------------  -----  \n",
            " 0   surgery                299 non-null    int64  \n",
            " 1   age                    299 non-null    int64  \n",
            " 2   rectal_temp            299 non-null    float64\n",
            " 3   pulse                  299 non-null    float64\n",
            " 4   respiratory_rate       299 non-null    float64\n",
            " 5   temp_of_extremities    299 non-null    int8   \n",
            " 6   peripheral_pulse       299 non-null    int8   \n",
            " 7   mucous_membrane        299 non-null    int8   \n",
            " 8   capillary_refill_time  299 non-null    int8   \n",
            " 9   pain                   299 non-null    int8   \n",
            " 10  peristalsis            299 non-null    int8   \n",
            " 11  abdominal_distention   299 non-null    int8   \n",
            " 12  nasogastric_tube       299 non-null    int8   \n",
            " 13  nasogastric_reflux     299 non-null    int8   \n",
            " 14  rectal_exam_feces      299 non-null    int8   \n",
            " 15  abdomen                299 non-null    int8   \n",
            " 16  packed_cell_volume     299 non-null    float64\n",
            " 17  total_protein          299 non-null    float64\n",
            " 18  abdomo_protein         101 non-null    float64\n",
            " 19  outcome                299 non-null    object \n",
            " 20  surgical_lesion        299 non-null    object \n",
            " 21  lesion_1               299 non-null    int64  \n",
            " 22  lesion_2               299 non-null    int64  \n",
            " 23  lesion_3               299 non-null    int64  \n",
            " 24  cp_data                299 non-null    object \n",
            " 25  NH                     299 non-null    int64  \n",
            "dtypes: float64(6), int64(6), int8(11), object(3)\n",
            "memory usage: 38.4+ KB\n"
          ]
        }
      ]
    },
    {
      "cell_type": "markdown",
      "source": [
        "##**Abdomcentesis total protein**"
      ],
      "metadata": {
        "id": "kYU-EaybQ9lx"
      }
    },
    {
      "cell_type": "code",
      "metadata": {
        "id": "NS2ja4WJdIht",
        "colab": {
          "base_uri": "https://localhost:8080/"
        },
        "outputId": "bdd8b0a3-bac7-458c-a982-cb8dbee94cbe"
      },
      "source": [
        "nan_per=dataset['abdomo_protein'].isna().sum()/len(dataset)*100\n",
        "print (round(nan_per,2), ' % valores nulos')"
      ],
      "execution_count": null,
      "outputs": [
        {
          "output_type": "stream",
          "name": "stdout",
          "text": [
            "66.22  % valores nulos\n"
          ]
        }
      ]
    },
    {
      "cell_type": "code",
      "metadata": {
        "id": "HQmlMfs8V28i",
        "colab": {
          "base_uri": "https://localhost:8080/"
        },
        "outputId": "75867cdb-82a7-4a7c-d241-94d32ccf491a"
      },
      "source": [
        "# Eliminamos la columna\n",
        "dataset = dataset.drop(['abdomo_protein'], axis=1)\n",
        "dataset.info()"
      ],
      "execution_count": null,
      "outputs": [
        {
          "output_type": "stream",
          "name": "stdout",
          "text": [
            "<class 'pandas.core.frame.DataFrame'>\n",
            "RangeIndex: 299 entries, 0 to 298\n",
            "Data columns (total 25 columns):\n",
            " #   Column                 Non-Null Count  Dtype  \n",
            "---  ------                 --------------  -----  \n",
            " 0   surgery                299 non-null    int64  \n",
            " 1   age                    299 non-null    int64  \n",
            " 2   rectal_temp            299 non-null    float64\n",
            " 3   pulse                  299 non-null    float64\n",
            " 4   respiratory_rate       299 non-null    float64\n",
            " 5   temp_of_extremities    299 non-null    int8   \n",
            " 6   peripheral_pulse       299 non-null    int8   \n",
            " 7   mucous_membrane        299 non-null    int8   \n",
            " 8   capillary_refill_time  299 non-null    int8   \n",
            " 9   pain                   299 non-null    int8   \n",
            " 10  peristalsis            299 non-null    int8   \n",
            " 11  abdominal_distention   299 non-null    int8   \n",
            " 12  nasogastric_tube       299 non-null    int8   \n",
            " 13  nasogastric_reflux     299 non-null    int8   \n",
            " 14  rectal_exam_feces      299 non-null    int8   \n",
            " 15  abdomen                299 non-null    int8   \n",
            " 16  packed_cell_volume     299 non-null    float64\n",
            " 17  total_protein          299 non-null    float64\n",
            " 18  outcome                299 non-null    object \n",
            " 19  surgical_lesion        299 non-null    object \n",
            " 20  lesion_1               299 non-null    int64  \n",
            " 21  lesion_2               299 non-null    int64  \n",
            " 22  lesion_3               299 non-null    int64  \n",
            " 23  cp_data                299 non-null    object \n",
            " 24  NH                     299 non-null    int64  \n",
            "dtypes: float64(5), int64(6), int8(11), object(3)\n",
            "memory usage: 36.0+ KB\n"
          ]
        }
      ]
    },
    {
      "cell_type": "markdown",
      "source": [
        "##**Outcome (what eventually happened to the horse?)**"
      ],
      "metadata": {
        "id": "nXVqfDXmSVSc"
      }
    },
    {
      "cell_type": "code",
      "metadata": {
        "id": "bkgKKL_yxsYT",
        "colab": {
          "base_uri": "https://localhost:8080/"
        },
        "outputId": "82e38f5b-3907-4278-84f1-7e1b907de4d7"
      },
      "source": [
        "nan_per=dataset['outcome'].isna().sum()/len(dataset)*100\n",
        "print (round(nan_per,2), ' % valores nulos')"
      ],
      "execution_count": null,
      "outputs": [
        {
          "output_type": "stream",
          "name": "stdout",
          "text": [
            "0.0  % valores nulos\n"
          ]
        }
      ]
    },
    {
      "cell_type": "code",
      "source": [
        "dataset.outcome.value_counts()"
      ],
      "metadata": {
        "colab": {
          "base_uri": "https://localhost:8080/"
        },
        "outputId": "c0eb62b7-b0d3-463b-c57a-6aa3485a1a24",
        "id": "CJydguW-VUAr"
      },
      "execution_count": null,
      "outputs": [
        {
          "output_type": "execute_result",
          "data": {
            "text/plain": [
              "lived         178\n",
              "died           77\n",
              "euthanized     44\n",
              "Name: outcome, dtype: int64"
            ]
          },
          "metadata": {},
          "execution_count": 81
        }
      ]
    },
    {
      "cell_type": "code",
      "source": [
        "dataset['outcome']=dataset['outcome'].astype('category').cat.codes\n",
        "dataset['outcome'].unique()"
      ],
      "metadata": {
        "colab": {
          "base_uri": "https://localhost:8080/"
        },
        "outputId": "54f3a454-1079-45da-9f94-85ec9db6b7db",
        "id": "oEk8-2ZeVUAs"
      },
      "execution_count": null,
      "outputs": [
        {
          "output_type": "execute_result",
          "data": {
            "text/plain": [
              "array([0, 1, 2], dtype=int8)"
            ]
          },
          "metadata": {},
          "execution_count": 82
        }
      ]
    },
    {
      "cell_type": "markdown",
      "source": [
        "##**Surgical lesion?**"
      ],
      "metadata": {
        "id": "6OF5Oi5USnql"
      }
    },
    {
      "cell_type": "code",
      "metadata": {
        "id": "dElt3UrEV25O",
        "colab": {
          "base_uri": "https://localhost:8080/"
        },
        "outputId": "1c1469c9-fa8d-4750-ae77-335ba03b12b3"
      },
      "source": [
        "nan_per=dataset['surgical_lesion'].isna().sum()/len(dataset)*100\n",
        "print (round(nan_per,2), ' % valores nulos')"
      ],
      "execution_count": null,
      "outputs": [
        {
          "output_type": "stream",
          "name": "stdout",
          "text": [
            "0.0  % valores nulos\n"
          ]
        }
      ]
    },
    {
      "cell_type": "code",
      "metadata": {
        "colab": {
          "base_uri": "https://localhost:8080/"
        },
        "outputId": "80b12920-a3ec-46a6-cd83-c358c55ac75a",
        "id": "CKvOIcNdTKbX"
      },
      "source": [
        "dataset['surgical_lesion'].value_counts()"
      ],
      "execution_count": null,
      "outputs": [
        {
          "output_type": "execute_result",
          "data": {
            "text/plain": [
              "yes    190\n",
              "no     109\n",
              "Name: surgical_lesion, dtype: int64"
            ]
          },
          "metadata": {},
          "execution_count": 84
        }
      ]
    },
    {
      "cell_type": "code",
      "metadata": {
        "colab": {
          "base_uri": "https://localhost:8080/"
        },
        "outputId": "e94520a1-99b9-4867-a7ae-56f8745b2baf",
        "id": "3ujtFV9FTKbX"
      },
      "source": [
        "dataset['surgical_lesion'] = dataset['surgical_lesion'].map({'yes': 1, 'no':0})\n",
        "dataset['surgical_lesion'].value_counts()"
      ],
      "execution_count": null,
      "outputs": [
        {
          "output_type": "execute_result",
          "data": {
            "text/plain": [
              "1    190\n",
              "0    109\n",
              "Name: surgical_lesion, dtype: int64"
            ]
          },
          "metadata": {},
          "execution_count": 85
        }
      ]
    },
    {
      "cell_type": "markdown",
      "source": [
        "##**Lesion**"
      ],
      "metadata": {
        "id": "t7AXEIVZqOau"
      }
    },
    {
      "cell_type": "code",
      "source": [
        "dataset['lesion_1'].value_counts()"
      ],
      "metadata": {
        "colab": {
          "base_uri": "https://localhost:8080/"
        },
        "id": "PJKfpxbUTs_8",
        "outputId": "c4a1943e-4722-4499-80aa-b1c047731655"
      },
      "execution_count": null,
      "outputs": [
        {
          "output_type": "execute_result",
          "data": {
            "text/plain": [
              "0        56\n",
              "3111     32\n",
              "3205     29\n",
              "2208     20\n",
              "2205     13\n",
              "         ..\n",
              "11400     1\n",
              "7400      1\n",
              "3113      1\n",
              "3300      1\n",
              "41110     1\n",
              "Name: lesion_1, Length: 61, dtype: int64"
            ]
          },
          "metadata": {},
          "execution_count": 86
        }
      ]
    },
    {
      "cell_type": "code",
      "metadata": {
        "id": "SlDixRn1Yjnz",
        "colab": {
          "base_uri": "https://localhost:8080/"
        },
        "outputId": "8282a205-4836-434a-fe55-87fbe8bfdda1"
      },
      "source": [
        "dataset['lesion_2'].value_counts()"
      ],
      "execution_count": null,
      "outputs": [
        {
          "output_type": "execute_result",
          "data": {
            "text/plain": [
              "0       292\n",
              "3111      3\n",
              "6112      1\n",
              "7111      1\n",
              "1400      1\n",
              "3112      1\n",
              "Name: lesion_2, dtype: int64"
            ]
          },
          "metadata": {},
          "execution_count": 87
        }
      ]
    },
    {
      "cell_type": "code",
      "metadata": {
        "id": "bHpgAVw6Yl8g",
        "colab": {
          "base_uri": "https://localhost:8080/"
        },
        "outputId": "bbf2cdd5-4b80-4dc4-ba77-3fe3108cbac9"
      },
      "source": [
        "dataset['lesion_3'].value_counts()"
      ],
      "execution_count": null,
      "outputs": [
        {
          "output_type": "execute_result",
          "data": {
            "text/plain": [
              "0       298\n",
              "2209      1\n",
              "Name: lesion_3, dtype: int64"
            ]
          },
          "metadata": {},
          "execution_count": 88
        }
      ]
    },
    {
      "cell_type": "code",
      "source": [
        "# lesion1, 2 and 3 son datos con formato, cada dígito tiene un significado por lo que no nos sirve\n",
        "# Se puede crear una nueva caracterísca simplemente con el total de lesiones\n",
        "dataset.loc[dataset['lesion_1'] > 0, 'lesion_1'] = 1\n",
        "dataset.loc[dataset['lesion_2'] > 0, 'lesion_2'] = 1\n",
        "dataset.loc[dataset['lesion_3'] > 0, 'lesion_3'] = 1\n",
        "\n",
        "dataset['TL'] = dataset['lesion_1'] + dataset['lesion_2'] + dataset['lesion_3']\n",
        "dataset = dataset.drop(columns = ['lesion_1','lesion_2', 'lesion_3'], axis = 1)\n",
        "dataset['TL'].value_counts()"
      ],
      "metadata": {
        "colab": {
          "base_uri": "https://localhost:8080/"
        },
        "id": "Bo2oJttMdZ1f",
        "outputId": "ef4a0335-c324-495d-e99c-784efccbff52"
      },
      "execution_count": null,
      "outputs": [
        {
          "output_type": "execute_result",
          "data": {
            "text/plain": [
              "1    236\n",
              "0     56\n",
              "2      6\n",
              "3      1\n",
              "Name: TL, dtype: int64"
            ]
          },
          "metadata": {},
          "execution_count": 89
        }
      ]
    },
    {
      "cell_type": "markdown",
      "source": [
        "##**CP Data (No es significativa)**"
      ],
      "metadata": {
        "id": "aUVJUCErULQO"
      }
    },
    {
      "cell_type": "code",
      "source": [
        "# Eliminamos la columna\n",
        "dataset = dataset.drop(['cp_data'], axis=1)\n",
        "dataset.info()"
      ],
      "metadata": {
        "colab": {
          "base_uri": "https://localhost:8080/"
        },
        "id": "WC1nZgSdU1Ww",
        "outputId": "3af94736-f52a-4842-9b00-980147ca1cf2"
      },
      "execution_count": null,
      "outputs": [
        {
          "output_type": "stream",
          "name": "stdout",
          "text": [
            "<class 'pandas.core.frame.DataFrame'>\n",
            "RangeIndex: 299 entries, 0 to 298\n",
            "Data columns (total 22 columns):\n",
            " #   Column                 Non-Null Count  Dtype  \n",
            "---  ------                 --------------  -----  \n",
            " 0   surgery                299 non-null    int64  \n",
            " 1   age                    299 non-null    int64  \n",
            " 2   rectal_temp            299 non-null    float64\n",
            " 3   pulse                  299 non-null    float64\n",
            " 4   respiratory_rate       299 non-null    float64\n",
            " 5   temp_of_extremities    299 non-null    int8   \n",
            " 6   peripheral_pulse       299 non-null    int8   \n",
            " 7   mucous_membrane        299 non-null    int8   \n",
            " 8   capillary_refill_time  299 non-null    int8   \n",
            " 9   pain                   299 non-null    int8   \n",
            " 10  peristalsis            299 non-null    int8   \n",
            " 11  abdominal_distention   299 non-null    int8   \n",
            " 12  nasogastric_tube       299 non-null    int8   \n",
            " 13  nasogastric_reflux     299 non-null    int8   \n",
            " 14  rectal_exam_feces      299 non-null    int8   \n",
            " 15  abdomen                299 non-null    int8   \n",
            " 16  packed_cell_volume     299 non-null    float64\n",
            " 17  total_protein          299 non-null    float64\n",
            " 18  outcome                299 non-null    int8   \n",
            " 19  surgical_lesion        299 non-null    int64  \n",
            " 20  NH                     299 non-null    int64  \n",
            " 21  TL                     299 non-null    int64  \n",
            "dtypes: float64(5), int64(5), int8(12)\n",
            "memory usage: 27.0 KB\n"
          ]
        }
      ]
    },
    {
      "cell_type": "markdown",
      "source": [
        "##**Otra posibilidad**"
      ],
      "metadata": {
        "id": "jqmrcoSShE_m"
      }
    },
    {
      "cell_type": "code",
      "source": [
        "# Como lo que hemos hecho para las columnas de tipo object que tienen valores nan que no superen el 40 %\n",
        "# es completar el dato con el valor más frecuente también se podría hacer de la siguiente forma:\n",
        "\n",
        "#obj=[]\n",
        "#for col in dataset.columns.values:\n",
        "#    if dataset[col].dtype=='object':\n",
        "#        obj.append(col)\n",
        "#ds_obj=dataset[obj]\n",
        "\n",
        "#for col in ds_obj.columns.values:\n",
        "#    if (pd.isna(ds_obj[col]).sum()) > 0:\n",
        "#        if pd.isna(ds_obj[col]).sum() > (40/100*len(ds_obj)):\n",
        "#            ds_obj=ds_obj.drop([col], axis=1)\n",
        "#        else:\n",
        "#            ds_obj[col]=ds_obj[col].fillna(ds_obj[col].mode()[0])\n",
        "#            ds_obj[col]=ds_obj[col].astype('category').cat.codes\n",
        "\n",
        "#ds_obj.info()"
      ],
      "metadata": {
        "id": "E8nfUmL2gs3z"
      },
      "execution_count": null,
      "outputs": []
    },
    {
      "cell_type": "markdown",
      "source": [
        "#**Normalización 1**"
      ],
      "metadata": {
        "id": "SyDJxWiTaLj4"
      }
    },
    {
      "cell_type": "code",
      "source": [
        "dataset.describe()"
      ],
      "metadata": {
        "colab": {
          "base_uri": "https://localhost:8080/",
          "height": 320
        },
        "id": "uins43cHapti",
        "outputId": "bd8f58ce-a8f0-43fb-a649-24e35a921c7d"
      },
      "execution_count": null,
      "outputs": [
        {
          "output_type": "execute_result",
          "data": {
            "text/html": [
              "<div>\n",
              "<style scoped>\n",
              "    .dataframe tbody tr th:only-of-type {\n",
              "        vertical-align: middle;\n",
              "    }\n",
              "\n",
              "    .dataframe tbody tr th {\n",
              "        vertical-align: top;\n",
              "    }\n",
              "\n",
              "    .dataframe thead th {\n",
              "        text-align: right;\n",
              "    }\n",
              "</style>\n",
              "<table border=\"1\" class=\"dataframe\">\n",
              "  <thead>\n",
              "    <tr style=\"text-align: right;\">\n",
              "      <th></th>\n",
              "      <th>surgery</th>\n",
              "      <th>age</th>\n",
              "      <th>rectal_temp</th>\n",
              "      <th>pulse</th>\n",
              "      <th>respiratory_rate</th>\n",
              "      <th>temp_of_extremities</th>\n",
              "      <th>peripheral_pulse</th>\n",
              "      <th>mucous_membrane</th>\n",
              "      <th>capillary_refill_time</th>\n",
              "      <th>pain</th>\n",
              "      <th>peristalsis</th>\n",
              "      <th>abdominal_distention</th>\n",
              "      <th>nasogastric_tube</th>\n",
              "      <th>nasogastric_reflux</th>\n",
              "      <th>rectal_exam_feces</th>\n",
              "      <th>abdomen</th>\n",
              "      <th>packed_cell_volume</th>\n",
              "      <th>total_protein</th>\n",
              "      <th>outcome</th>\n",
              "      <th>surgical_lesion</th>\n",
              "      <th>NH</th>\n",
              "      <th>TL</th>\n",
              "    </tr>\n",
              "  </thead>\n",
              "  <tbody>\n",
              "    <tr>\n",
              "      <th>count</th>\n",
              "      <td>299.000000</td>\n",
              "      <td>299.000000</td>\n",
              "      <td>299.000000</td>\n",
              "      <td>299.000000</td>\n",
              "      <td>299.000000</td>\n",
              "      <td>299.000000</td>\n",
              "      <td>299.000000</td>\n",
              "      <td>299.000000</td>\n",
              "      <td>299.000000</td>\n",
              "      <td>299.000000</td>\n",
              "      <td>299.000000</td>\n",
              "      <td>299.000000</td>\n",
              "      <td>299.000000</td>\n",
              "      <td>299.000000</td>\n",
              "      <td>299.000000</td>\n",
              "      <td>299.000000</td>\n",
              "      <td>299.000000</td>\n",
              "      <td>299.000000</td>\n",
              "      <td>299.000000</td>\n",
              "      <td>299.000000</td>\n",
              "      <td>299.000000</td>\n",
              "      <td>299.000000</td>\n",
              "    </tr>\n",
              "    <tr>\n",
              "      <th>mean</th>\n",
              "      <td>0.602007</td>\n",
              "      <td>0.919732</td>\n",
              "      <td>38.190635</td>\n",
              "      <td>72.000000</td>\n",
              "      <td>30.460581</td>\n",
              "      <td>1.371237</td>\n",
              "      <td>2.274247</td>\n",
              "      <td>2.983278</td>\n",
              "      <td>1.254181</td>\n",
              "      <td>2.210702</td>\n",
              "      <td>1.434783</td>\n",
              "      <td>1.344482</td>\n",
              "      <td>1.448161</td>\n",
              "      <td>1.635452</td>\n",
              "      <td>0.819398</td>\n",
              "      <td>0.765886</td>\n",
              "      <td>46.307407</td>\n",
              "      <td>24.274436</td>\n",
              "      <td>1.337793</td>\n",
              "      <td>0.635452</td>\n",
              "      <td>1.107023</td>\n",
              "      <td>0.839465</td>\n",
              "    </tr>\n",
              "    <tr>\n",
              "      <th>std</th>\n",
              "      <td>0.490305</td>\n",
              "      <td>0.272162</td>\n",
              "      <td>0.685159</td>\n",
              "      <td>27.468469</td>\n",
              "      <td>15.853977</td>\n",
              "      <td>0.785337</td>\n",
              "      <td>0.627961</td>\n",
              "      <td>1.486986</td>\n",
              "      <td>0.451256</td>\n",
              "      <td>1.258162</td>\n",
              "      <td>0.918633</td>\n",
              "      <td>1.048358</td>\n",
              "      <td>0.851265</td>\n",
              "      <td>0.683615</td>\n",
              "      <td>1.176172</td>\n",
              "      <td>1.263334</td>\n",
              "      <td>9.915919</td>\n",
              "      <td>25.804620</td>\n",
              "      <td>0.860940</td>\n",
              "      <td>0.482110</td>\n",
              "      <td>0.309661</td>\n",
              "      <td>0.442288</td>\n",
              "    </tr>\n",
              "    <tr>\n",
              "      <th>min</th>\n",
              "      <td>0.000000</td>\n",
              "      <td>0.000000</td>\n",
              "      <td>35.400000</td>\n",
              "      <td>30.000000</td>\n",
              "      <td>8.000000</td>\n",
              "      <td>0.000000</td>\n",
              "      <td>0.000000</td>\n",
              "      <td>0.000000</td>\n",
              "      <td>0.000000</td>\n",
              "      <td>0.000000</td>\n",
              "      <td>0.000000</td>\n",
              "      <td>0.000000</td>\n",
              "      <td>0.000000</td>\n",
              "      <td>0.000000</td>\n",
              "      <td>0.000000</td>\n",
              "      <td>0.000000</td>\n",
              "      <td>23.000000</td>\n",
              "      <td>3.300000</td>\n",
              "      <td>0.000000</td>\n",
              "      <td>0.000000</td>\n",
              "      <td>1.000000</td>\n",
              "      <td>0.000000</td>\n",
              "    </tr>\n",
              "    <tr>\n",
              "      <th>25%</th>\n",
              "      <td>0.000000</td>\n",
              "      <td>1.000000</td>\n",
              "      <td>37.800000</td>\n",
              "      <td>48.500000</td>\n",
              "      <td>20.000000</td>\n",
              "      <td>1.000000</td>\n",
              "      <td>2.000000</td>\n",
              "      <td>2.500000</td>\n",
              "      <td>1.000000</td>\n",
              "      <td>1.000000</td>\n",
              "      <td>1.000000</td>\n",
              "      <td>1.000000</td>\n",
              "      <td>1.000000</td>\n",
              "      <td>2.000000</td>\n",
              "      <td>0.000000</td>\n",
              "      <td>0.000000</td>\n",
              "      <td>39.000000</td>\n",
              "      <td>6.600000</td>\n",
              "      <td>0.000000</td>\n",
              "      <td>0.000000</td>\n",
              "      <td>1.000000</td>\n",
              "      <td>1.000000</td>\n",
              "    </tr>\n",
              "    <tr>\n",
              "      <th>50%</th>\n",
              "      <td>1.000000</td>\n",
              "      <td>1.000000</td>\n",
              "      <td>38.200000</td>\n",
              "      <td>68.000000</td>\n",
              "      <td>30.000000</td>\n",
              "      <td>1.000000</td>\n",
              "      <td>2.000000</td>\n",
              "      <td>3.000000</td>\n",
              "      <td>1.000000</td>\n",
              "      <td>3.000000</td>\n",
              "      <td>2.000000</td>\n",
              "      <td>1.000000</td>\n",
              "      <td>2.000000</td>\n",
              "      <td>2.000000</td>\n",
              "      <td>0.000000</td>\n",
              "      <td>0.000000</td>\n",
              "      <td>46.000000</td>\n",
              "      <td>7.700000</td>\n",
              "      <td>2.000000</td>\n",
              "      <td>1.000000</td>\n",
              "      <td>1.000000</td>\n",
              "      <td>1.000000</td>\n",
              "    </tr>\n",
              "    <tr>\n",
              "      <th>75%</th>\n",
              "      <td>1.000000</td>\n",
              "      <td>1.000000</td>\n",
              "      <td>38.600000</td>\n",
              "      <td>88.000000</td>\n",
              "      <td>34.500000</td>\n",
              "      <td>2.000000</td>\n",
              "      <td>3.000000</td>\n",
              "      <td>4.000000</td>\n",
              "      <td>2.000000</td>\n",
              "      <td>3.000000</td>\n",
              "      <td>2.000000</td>\n",
              "      <td>2.000000</td>\n",
              "      <td>2.000000</td>\n",
              "      <td>2.000000</td>\n",
              "      <td>1.000000</td>\n",
              "      <td>1.000000</td>\n",
              "      <td>50.000000</td>\n",
              "      <td>52.000000</td>\n",
              "      <td>2.000000</td>\n",
              "      <td>1.000000</td>\n",
              "      <td>1.000000</td>\n",
              "      <td>1.000000</td>\n",
              "    </tr>\n",
              "    <tr>\n",
              "      <th>max</th>\n",
              "      <td>1.000000</td>\n",
              "      <td>1.000000</td>\n",
              "      <td>40.800000</td>\n",
              "      <td>184.000000</td>\n",
              "      <td>96.000000</td>\n",
              "      <td>3.000000</td>\n",
              "      <td>3.000000</td>\n",
              "      <td>5.000000</td>\n",
              "      <td>2.000000</td>\n",
              "      <td>4.000000</td>\n",
              "      <td>3.000000</td>\n",
              "      <td>3.000000</td>\n",
              "      <td>2.000000</td>\n",
              "      <td>2.000000</td>\n",
              "      <td>3.000000</td>\n",
              "      <td>4.000000</td>\n",
              "      <td>75.000000</td>\n",
              "      <td>89.000000</td>\n",
              "      <td>2.000000</td>\n",
              "      <td>1.000000</td>\n",
              "      <td>2.000000</td>\n",
              "      <td>3.000000</td>\n",
              "    </tr>\n",
              "  </tbody>\n",
              "</table>\n",
              "</div>"
            ],
            "text/plain": [
              "          surgery         age  ...          NH          TL\n",
              "count  299.000000  299.000000  ...  299.000000  299.000000\n",
              "mean     0.602007    0.919732  ...    1.107023    0.839465\n",
              "std      0.490305    0.272162  ...    0.309661    0.442288\n",
              "min      0.000000    0.000000  ...    1.000000    0.000000\n",
              "25%      0.000000    1.000000  ...    1.000000    1.000000\n",
              "50%      1.000000    1.000000  ...    1.000000    1.000000\n",
              "75%      1.000000    1.000000  ...    1.000000    1.000000\n",
              "max      1.000000    1.000000  ...    2.000000    3.000000\n",
              "\n",
              "[8 rows x 22 columns]"
            ]
          },
          "metadata": {},
          "execution_count": 92
        }
      ]
    },
    {
      "cell_type": "code",
      "source": [
        "def normalize (horses):\n",
        "  result = horses.copy()\n",
        "\n",
        "  for feature_name in horses.columns:\n",
        "    max_value = horses[feature_name].max()\n",
        "    min_value = horses[feature_name].min()\n",
        "    result[feature_name] = (horses[feature_name] - min_value) / (max_value - min_value)\n",
        "  return result\n",
        "\n",
        "dataset_nor = normalize(dataset)\n",
        "dataset_nor.describe()"
      ],
      "metadata": {
        "colab": {
          "base_uri": "https://localhost:8080/",
          "height": 320
        },
        "id": "1xnl6G27aQVP",
        "outputId": "f499d0c6-e40b-4397-cc7d-2d091529db2f"
      },
      "execution_count": null,
      "outputs": [
        {
          "output_type": "execute_result",
          "data": {
            "text/html": [
              "<div>\n",
              "<style scoped>\n",
              "    .dataframe tbody tr th:only-of-type {\n",
              "        vertical-align: middle;\n",
              "    }\n",
              "\n",
              "    .dataframe tbody tr th {\n",
              "        vertical-align: top;\n",
              "    }\n",
              "\n",
              "    .dataframe thead th {\n",
              "        text-align: right;\n",
              "    }\n",
              "</style>\n",
              "<table border=\"1\" class=\"dataframe\">\n",
              "  <thead>\n",
              "    <tr style=\"text-align: right;\">\n",
              "      <th></th>\n",
              "      <th>surgery</th>\n",
              "      <th>age</th>\n",
              "      <th>rectal_temp</th>\n",
              "      <th>pulse</th>\n",
              "      <th>respiratory_rate</th>\n",
              "      <th>temp_of_extremities</th>\n",
              "      <th>peripheral_pulse</th>\n",
              "      <th>mucous_membrane</th>\n",
              "      <th>capillary_refill_time</th>\n",
              "      <th>pain</th>\n",
              "      <th>peristalsis</th>\n",
              "      <th>abdominal_distention</th>\n",
              "      <th>nasogastric_tube</th>\n",
              "      <th>nasogastric_reflux</th>\n",
              "      <th>rectal_exam_feces</th>\n",
              "      <th>abdomen</th>\n",
              "      <th>packed_cell_volume</th>\n",
              "      <th>total_protein</th>\n",
              "      <th>outcome</th>\n",
              "      <th>surgical_lesion</th>\n",
              "      <th>NH</th>\n",
              "      <th>TL</th>\n",
              "    </tr>\n",
              "  </thead>\n",
              "  <tbody>\n",
              "    <tr>\n",
              "      <th>count</th>\n",
              "      <td>299.000000</td>\n",
              "      <td>299.000000</td>\n",
              "      <td>299.000000</td>\n",
              "      <td>299.000000</td>\n",
              "      <td>299.000000</td>\n",
              "      <td>299.000000</td>\n",
              "      <td>299.000000</td>\n",
              "      <td>299.000000</td>\n",
              "      <td>299.000000</td>\n",
              "      <td>299.000000</td>\n",
              "      <td>299.000000</td>\n",
              "      <td>299.000000</td>\n",
              "      <td>299.000000</td>\n",
              "      <td>299.000000</td>\n",
              "      <td>299.000000</td>\n",
              "      <td>299.000000</td>\n",
              "      <td>299.000000</td>\n",
              "      <td>299.000000</td>\n",
              "      <td>299.000000</td>\n",
              "      <td>299.000000</td>\n",
              "      <td>299.000000</td>\n",
              "      <td>299.000000</td>\n",
              "    </tr>\n",
              "    <tr>\n",
              "      <th>mean</th>\n",
              "      <td>0.602007</td>\n",
              "      <td>0.919732</td>\n",
              "      <td>0.516784</td>\n",
              "      <td>0.272727</td>\n",
              "      <td>0.255234</td>\n",
              "      <td>0.457079</td>\n",
              "      <td>0.758082</td>\n",
              "      <td>0.596656</td>\n",
              "      <td>0.627090</td>\n",
              "      <td>0.552676</td>\n",
              "      <td>0.478261</td>\n",
              "      <td>0.448161</td>\n",
              "      <td>0.724080</td>\n",
              "      <td>0.817726</td>\n",
              "      <td>0.273133</td>\n",
              "      <td>0.191472</td>\n",
              "      <td>0.448219</td>\n",
              "      <td>0.244743</td>\n",
              "      <td>0.668896</td>\n",
              "      <td>0.635452</td>\n",
              "      <td>0.107023</td>\n",
              "      <td>0.279822</td>\n",
              "    </tr>\n",
              "    <tr>\n",
              "      <th>std</th>\n",
              "      <td>0.490305</td>\n",
              "      <td>0.272162</td>\n",
              "      <td>0.126881</td>\n",
              "      <td>0.178367</td>\n",
              "      <td>0.180159</td>\n",
              "      <td>0.261779</td>\n",
              "      <td>0.209320</td>\n",
              "      <td>0.297397</td>\n",
              "      <td>0.225628</td>\n",
              "      <td>0.314541</td>\n",
              "      <td>0.306211</td>\n",
              "      <td>0.349453</td>\n",
              "      <td>0.425633</td>\n",
              "      <td>0.341808</td>\n",
              "      <td>0.392057</td>\n",
              "      <td>0.315834</td>\n",
              "      <td>0.190691</td>\n",
              "      <td>0.301104</td>\n",
              "      <td>0.430470</td>\n",
              "      <td>0.482110</td>\n",
              "      <td>0.309661</td>\n",
              "      <td>0.147429</td>\n",
              "    </tr>\n",
              "    <tr>\n",
              "      <th>min</th>\n",
              "      <td>0.000000</td>\n",
              "      <td>0.000000</td>\n",
              "      <td>0.000000</td>\n",
              "      <td>0.000000</td>\n",
              "      <td>0.000000</td>\n",
              "      <td>0.000000</td>\n",
              "      <td>0.000000</td>\n",
              "      <td>0.000000</td>\n",
              "      <td>0.000000</td>\n",
              "      <td>0.000000</td>\n",
              "      <td>0.000000</td>\n",
              "      <td>0.000000</td>\n",
              "      <td>0.000000</td>\n",
              "      <td>0.000000</td>\n",
              "      <td>0.000000</td>\n",
              "      <td>0.000000</td>\n",
              "      <td>0.000000</td>\n",
              "      <td>0.000000</td>\n",
              "      <td>0.000000</td>\n",
              "      <td>0.000000</td>\n",
              "      <td>0.000000</td>\n",
              "      <td>0.000000</td>\n",
              "    </tr>\n",
              "    <tr>\n",
              "      <th>25%</th>\n",
              "      <td>0.000000</td>\n",
              "      <td>1.000000</td>\n",
              "      <td>0.444444</td>\n",
              "      <td>0.120130</td>\n",
              "      <td>0.136364</td>\n",
              "      <td>0.333333</td>\n",
              "      <td>0.666667</td>\n",
              "      <td>0.500000</td>\n",
              "      <td>0.500000</td>\n",
              "      <td>0.250000</td>\n",
              "      <td>0.333333</td>\n",
              "      <td>0.333333</td>\n",
              "      <td>0.500000</td>\n",
              "      <td>1.000000</td>\n",
              "      <td>0.000000</td>\n",
              "      <td>0.000000</td>\n",
              "      <td>0.307692</td>\n",
              "      <td>0.038506</td>\n",
              "      <td>0.000000</td>\n",
              "      <td>0.000000</td>\n",
              "      <td>0.000000</td>\n",
              "      <td>0.333333</td>\n",
              "    </tr>\n",
              "    <tr>\n",
              "      <th>50%</th>\n",
              "      <td>1.000000</td>\n",
              "      <td>1.000000</td>\n",
              "      <td>0.518519</td>\n",
              "      <td>0.246753</td>\n",
              "      <td>0.250000</td>\n",
              "      <td>0.333333</td>\n",
              "      <td>0.666667</td>\n",
              "      <td>0.600000</td>\n",
              "      <td>0.500000</td>\n",
              "      <td>0.750000</td>\n",
              "      <td>0.666667</td>\n",
              "      <td>0.333333</td>\n",
              "      <td>1.000000</td>\n",
              "      <td>1.000000</td>\n",
              "      <td>0.000000</td>\n",
              "      <td>0.000000</td>\n",
              "      <td>0.442308</td>\n",
              "      <td>0.051342</td>\n",
              "      <td>1.000000</td>\n",
              "      <td>1.000000</td>\n",
              "      <td>0.000000</td>\n",
              "      <td>0.333333</td>\n",
              "    </tr>\n",
              "    <tr>\n",
              "      <th>75%</th>\n",
              "      <td>1.000000</td>\n",
              "      <td>1.000000</td>\n",
              "      <td>0.592593</td>\n",
              "      <td>0.376623</td>\n",
              "      <td>0.301136</td>\n",
              "      <td>0.666667</td>\n",
              "      <td>1.000000</td>\n",
              "      <td>0.800000</td>\n",
              "      <td>1.000000</td>\n",
              "      <td>0.750000</td>\n",
              "      <td>0.666667</td>\n",
              "      <td>0.666667</td>\n",
              "      <td>1.000000</td>\n",
              "      <td>1.000000</td>\n",
              "      <td>0.333333</td>\n",
              "      <td>0.250000</td>\n",
              "      <td>0.519231</td>\n",
              "      <td>0.568261</td>\n",
              "      <td>1.000000</td>\n",
              "      <td>1.000000</td>\n",
              "      <td>0.000000</td>\n",
              "      <td>0.333333</td>\n",
              "    </tr>\n",
              "    <tr>\n",
              "      <th>max</th>\n",
              "      <td>1.000000</td>\n",
              "      <td>1.000000</td>\n",
              "      <td>1.000000</td>\n",
              "      <td>1.000000</td>\n",
              "      <td>1.000000</td>\n",
              "      <td>1.000000</td>\n",
              "      <td>1.000000</td>\n",
              "      <td>1.000000</td>\n",
              "      <td>1.000000</td>\n",
              "      <td>1.000000</td>\n",
              "      <td>1.000000</td>\n",
              "      <td>1.000000</td>\n",
              "      <td>1.000000</td>\n",
              "      <td>1.000000</td>\n",
              "      <td>1.000000</td>\n",
              "      <td>1.000000</td>\n",
              "      <td>1.000000</td>\n",
              "      <td>1.000000</td>\n",
              "      <td>1.000000</td>\n",
              "      <td>1.000000</td>\n",
              "      <td>1.000000</td>\n",
              "      <td>1.000000</td>\n",
              "    </tr>\n",
              "  </tbody>\n",
              "</table>\n",
              "</div>"
            ],
            "text/plain": [
              "          surgery         age  ...          NH          TL\n",
              "count  299.000000  299.000000  ...  299.000000  299.000000\n",
              "mean     0.602007    0.919732  ...    0.107023    0.279822\n",
              "std      0.490305    0.272162  ...    0.309661    0.147429\n",
              "min      0.000000    0.000000  ...    0.000000    0.000000\n",
              "25%      0.000000    1.000000  ...    0.000000    0.333333\n",
              "50%      1.000000    1.000000  ...    0.000000    0.333333\n",
              "75%      1.000000    1.000000  ...    0.000000    0.333333\n",
              "max      1.000000    1.000000  ...    1.000000    1.000000\n",
              "\n",
              "[8 rows x 22 columns]"
            ]
          },
          "metadata": {},
          "execution_count": 93
        }
      ]
    },
    {
      "cell_type": "markdown",
      "source": [
        "#**Normalización 2**"
      ],
      "metadata": {
        "id": "NBGlfePFLrDD"
      }
    },
    {
      "cell_type": "code",
      "source": [
        "from sklearn.preprocessing import StandardScaler\n",
        "\n",
        "target = dataset['outcome']\n",
        "dataset_nor = dataset.drop(columns = ['outcome'], axis = 1)\n",
        "features = dataset_nor.columns\n",
        "scaler = StandardScaler()\n",
        "scaledTrain = scaler.fit_transform(dataset_nor)\n",
        "dfTrain = pd.DataFrame(data=scaledTrain, columns=features)\n",
        "dfTrain.head()"
      ],
      "metadata": {
        "colab": {
          "base_uri": "https://localhost:8080/",
          "height": 226
        },
        "id": "sdoiiorjLv1B",
        "outputId": "310e00ef-1e36-41dc-e312-88870e8d3547"
      },
      "execution_count": null,
      "outputs": [
        {
          "output_type": "execute_result",
          "data": {
            "text/html": [
              "<div>\n",
              "<style scoped>\n",
              "    .dataframe tbody tr th:only-of-type {\n",
              "        vertical-align: middle;\n",
              "    }\n",
              "\n",
              "    .dataframe tbody tr th {\n",
              "        vertical-align: top;\n",
              "    }\n",
              "\n",
              "    .dataframe thead th {\n",
              "        text-align: right;\n",
              "    }\n",
              "</style>\n",
              "<table border=\"1\" class=\"dataframe\">\n",
              "  <thead>\n",
              "    <tr style=\"text-align: right;\">\n",
              "      <th></th>\n",
              "      <th>surgery</th>\n",
              "      <th>age</th>\n",
              "      <th>rectal_temp</th>\n",
              "      <th>pulse</th>\n",
              "      <th>respiratory_rate</th>\n",
              "      <th>temp_of_extremities</th>\n",
              "      <th>peripheral_pulse</th>\n",
              "      <th>mucous_membrane</th>\n",
              "      <th>capillary_refill_time</th>\n",
              "      <th>pain</th>\n",
              "      <th>peristalsis</th>\n",
              "      <th>abdominal_distention</th>\n",
              "      <th>nasogastric_tube</th>\n",
              "      <th>nasogastric_reflux</th>\n",
              "      <th>rectal_exam_feces</th>\n",
              "      <th>abdomen</th>\n",
              "      <th>packed_cell_volume</th>\n",
              "      <th>total_protein</th>\n",
              "      <th>surgical_lesion</th>\n",
              "      <th>NH</th>\n",
              "      <th>TL</th>\n",
              "    </tr>\n",
              "  </thead>\n",
              "  <tbody>\n",
              "    <tr>\n",
              "      <th>0</th>\n",
              "      <td>-1.229880</td>\n",
              "      <td>0.295420</td>\n",
              "      <td>0.452280</td>\n",
              "      <td>-0.218798</td>\n",
              "      <td>-0.155463</td>\n",
              "      <td>-0.473504</td>\n",
              "      <td>1.157667</td>\n",
              "      <td>0.011265</td>\n",
              "      <td>1.655535</td>\n",
              "      <td>-0.167749</td>\n",
              "      <td>-1.564485</td>\n",
              "      <td>0.626329</td>\n",
              "      <td>0.649345</td>\n",
              "      <td>0.534160</td>\n",
              "      <td>0.153808</td>\n",
              "      <td>-0.607258</td>\n",
              "      <td>-0.132070</td>\n",
              "      <td>-0.616209</td>\n",
              "      <td>-1.320272</td>\n",
              "      <td>-0.346194</td>\n",
              "      <td>0.363574</td>\n",
              "    </tr>\n",
              "    <tr>\n",
              "      <th>1</th>\n",
              "      <td>0.813087</td>\n",
              "      <td>0.295420</td>\n",
              "      <td>1.475654</td>\n",
              "      <td>0.583463</td>\n",
              "      <td>-0.660914</td>\n",
              "      <td>-0.473504</td>\n",
              "      <td>-0.437459</td>\n",
              "      <td>0.684893</td>\n",
              "      <td>-0.564218</td>\n",
              "      <td>0.628393</td>\n",
              "      <td>-1.564485</td>\n",
              "      <td>1.581801</td>\n",
              "      <td>0.649345</td>\n",
              "      <td>0.534160</td>\n",
              "      <td>-0.697833</td>\n",
              "      <td>2.564274</td>\n",
              "      <td>0.373015</td>\n",
              "      <td>2.357228</td>\n",
              "      <td>-1.320272</td>\n",
              "      <td>-0.346194</td>\n",
              "      <td>0.363574</td>\n",
              "    </tr>\n",
              "    <tr>\n",
              "      <th>2</th>\n",
              "      <td>-1.229880</td>\n",
              "      <td>0.295420</td>\n",
              "      <td>0.159887</td>\n",
              "      <td>-1.166925</td>\n",
              "      <td>-0.408189</td>\n",
              "      <td>0.801970</td>\n",
              "      <td>-0.437459</td>\n",
              "      <td>1.358522</td>\n",
              "      <td>-0.564218</td>\n",
              "      <td>0.628393</td>\n",
              "      <td>0.616312</td>\n",
              "      <td>-0.329142</td>\n",
              "      <td>0.649345</td>\n",
              "      <td>0.534160</td>\n",
              "      <td>1.857090</td>\n",
              "      <td>1.771391</td>\n",
              "      <td>-1.344274</td>\n",
              "      <td>-0.682199</td>\n",
              "      <td>-1.320272</td>\n",
              "      <td>-0.346194</td>\n",
              "      <td>-1.901188</td>\n",
              "    </tr>\n",
              "    <tr>\n",
              "      <th>3</th>\n",
              "      <td>0.813087</td>\n",
              "      <td>-3.385016</td>\n",
              "      <td>1.329457</td>\n",
              "      <td>3.354910</td>\n",
              "      <td>3.382695</td>\n",
              "      <td>-1.748977</td>\n",
              "      <td>-0.437459</td>\n",
              "      <td>-0.662364</td>\n",
              "      <td>1.655535</td>\n",
              "      <td>-0.963892</td>\n",
              "      <td>-1.564485</td>\n",
              "      <td>0.626329</td>\n",
              "      <td>-1.704038</td>\n",
              "      <td>-2.396368</td>\n",
              "      <td>0.153808</td>\n",
              "      <td>-0.607258</td>\n",
              "      <td>0.170981</td>\n",
              "      <td>-0.662791</td>\n",
              "      <td>0.757419</td>\n",
              "      <td>-0.346194</td>\n",
              "      <td>0.363574</td>\n",
              "    </tr>\n",
              "    <tr>\n",
              "      <th>4</th>\n",
              "      <td>-1.229880</td>\n",
              "      <td>0.295420</td>\n",
              "      <td>-1.302076</td>\n",
              "      <td>1.166925</td>\n",
              "      <td>0.286807</td>\n",
              "      <td>-0.473504</td>\n",
              "      <td>-0.437459</td>\n",
              "      <td>-0.662364</td>\n",
              "      <td>1.655535</td>\n",
              "      <td>0.628393</td>\n",
              "      <td>0.616312</td>\n",
              "      <td>-0.329142</td>\n",
              "      <td>0.649345</td>\n",
              "      <td>0.534160</td>\n",
              "      <td>-0.697833</td>\n",
              "      <td>-0.607258</td>\n",
              "      <td>2.797423</td>\n",
              "      <td>-0.655027</td>\n",
              "      <td>-1.320272</td>\n",
              "      <td>-0.346194</td>\n",
              "      <td>0.363574</td>\n",
              "    </tr>\n",
              "  </tbody>\n",
              "</table>\n",
              "</div>"
            ],
            "text/plain": [
              "    surgery       age  rectal_temp  ...  surgical_lesion        NH        TL\n",
              "0 -1.229880  0.295420     0.452280  ...        -1.320272 -0.346194  0.363574\n",
              "1  0.813087  0.295420     1.475654  ...        -1.320272 -0.346194  0.363574\n",
              "2 -1.229880  0.295420     0.159887  ...        -1.320272 -0.346194 -1.901188\n",
              "3  0.813087 -3.385016     1.329457  ...         0.757419 -0.346194  0.363574\n",
              "4 -1.229880  0.295420    -1.302076  ...        -1.320272 -0.346194  0.363574\n",
              "\n",
              "[5 rows x 21 columns]"
            ]
          },
          "metadata": {},
          "execution_count": 94
        }
      ]
    },
    {
      "cell_type": "markdown",
      "source": [
        "#**Reducción de dimensionalidad**"
      ],
      "metadata": {
        "id": "drd8B5l-V_UN"
      }
    },
    {
      "cell_type": "markdown",
      "source": [
        "##**Feature importance**"
      ],
      "metadata": {
        "id": "wp8DFaoz8onL"
      }
    },
    {
      "cell_type": "code",
      "source": [
        "import matplotlib.pyplot as plt\n",
        "from sklearn.ensemble import ExtraTreesClassifier\n",
        "\n",
        "# Feature_importances of tree based classifiers\n",
        "X = dataset.drop(\"outcome\",1)    # Independent columns\n",
        "y = dataset[\"outcome\"]              # Target feature\n",
        "model = ExtraTreesClassifier()\n",
        "model.fit(X,y)\n",
        "print(model.feature_importances_) # Use inbuilt class"
      ],
      "metadata": {
        "colab": {
          "base_uri": "https://localhost:8080/",
          "height": 253
        },
        "id": "vxPf2Lzs81p2",
        "outputId": "70ac748a-de35-49ba-82f5-e57fb3b49402"
      },
      "execution_count": null,
      "outputs": [
        {
          "output_type": "error",
          "ename": "NameError",
          "evalue": "ignored",
          "traceback": [
            "\u001b[0;31m---------------------------------------------------------------------------\u001b[0m",
            "\u001b[0;31mNameError\u001b[0m                                 Traceback (most recent call last)",
            "\u001b[0;32m<ipython-input-2-0371500faee1>\u001b[0m in \u001b[0;36m<cell line: 5>\u001b[0;34m()\u001b[0m\n\u001b[1;32m      3\u001b[0m \u001b[0;34m\u001b[0m\u001b[0m\n\u001b[1;32m      4\u001b[0m \u001b[0;31m# Feature_importances of tree based classifiers\u001b[0m\u001b[0;34m\u001b[0m\u001b[0;34m\u001b[0m\u001b[0m\n\u001b[0;32m----> 5\u001b[0;31m \u001b[0mX\u001b[0m \u001b[0;34m=\u001b[0m \u001b[0mdataset\u001b[0m\u001b[0;34m.\u001b[0m\u001b[0mdrop\u001b[0m\u001b[0;34m(\u001b[0m\u001b[0;34m\"outcome\"\u001b[0m\u001b[0;34m,\u001b[0m\u001b[0;36m1\u001b[0m\u001b[0;34m)\u001b[0m    \u001b[0;31m# Independent columns\u001b[0m\u001b[0;34m\u001b[0m\u001b[0;34m\u001b[0m\u001b[0m\n\u001b[0m\u001b[1;32m      6\u001b[0m \u001b[0my\u001b[0m \u001b[0;34m=\u001b[0m \u001b[0mdataset\u001b[0m\u001b[0;34m[\u001b[0m\u001b[0;34m\"outcome\"\u001b[0m\u001b[0;34m]\u001b[0m              \u001b[0;31m# Target feature\u001b[0m\u001b[0;34m\u001b[0m\u001b[0;34m\u001b[0m\u001b[0m\n\u001b[1;32m      7\u001b[0m \u001b[0mmodel\u001b[0m \u001b[0;34m=\u001b[0m \u001b[0mExtraTreesClassifier\u001b[0m\u001b[0;34m(\u001b[0m\u001b[0;34m)\u001b[0m\u001b[0;34m\u001b[0m\u001b[0;34m\u001b[0m\u001b[0m\n",
            "\u001b[0;31mNameError\u001b[0m: name 'dataset' is not defined"
          ]
        }
      ]
    },
    {
      "cell_type": "code",
      "source": [
        "# plot graph of feature importances for better visualization\n",
        "feat_importances = pd.Series(model.feature_importances_, index=X.columns)\n",
        "feat_importances.nlargest(5).plot(kind='barh')\n",
        "plt.show()"
      ],
      "metadata": {
        "id": "fyfRewLZ9Me3"
      },
      "execution_count": null,
      "outputs": []
    },
    {
      "cell_type": "markdown",
      "source": [
        "##**Varianza**\n",
        "Se calcula la varianza de cada una de las variables y se descantan aquellas que tengan una varianza baja en comparación con las otras variables de nuestro conjunto de datos, ya que las variables con una varianza baja no afectarán a la variable objetivo."
      ],
      "metadata": {
        "id": "py9BuWhuWgiM"
      }
    },
    {
      "cell_type": "code",
      "source": [
        "dataset.var()"
      ],
      "metadata": {
        "id": "MBJ19fpmXQrp"
      },
      "execution_count": null,
      "outputs": []
    },
    {
      "cell_type": "code",
      "source": [
        "# Vamos a quitar aquellas variables cuya varianza sea menor a 0.1\n",
        "\n",
        "dataset_var = dataset\n",
        "var = dataset.var()\n",
        "\n",
        "for col in range(len(var)):\n",
        "  if var[col] < 0.1:\n",
        "    dataset_var = dataset_var.drop([var.index[col]], axis=1)\n",
        "dataset_var.info()"
      ],
      "metadata": {
        "id": "ZF3_Lp5g4ZR5"
      },
      "execution_count": null,
      "outputs": []
    },
    {
      "cell_type": "markdown",
      "source": [
        "#**Correlation (Pearson)**"
      ],
      "metadata": {
        "id": "fDmqfcdYYfP0"
      }
    },
    {
      "cell_type": "code",
      "source": [
        "import matplotlib.pyplot as plt\n",
        "\n",
        "dataset.corr()"
      ],
      "metadata": {
        "colab": {
          "base_uri": "https://localhost:8080/",
          "height": 759
        },
        "id": "08poA-I8Yd3l",
        "outputId": "a5e05f34-3c44-48d9-b711-44733d1c335f"
      },
      "execution_count": null,
      "outputs": [
        {
          "output_type": "execute_result",
          "data": {
            "text/html": [
              "<div>\n",
              "<style scoped>\n",
              "    .dataframe tbody tr th:only-of-type {\n",
              "        vertical-align: middle;\n",
              "    }\n",
              "\n",
              "    .dataframe tbody tr th {\n",
              "        vertical-align: top;\n",
              "    }\n",
              "\n",
              "    .dataframe thead th {\n",
              "        text-align: right;\n",
              "    }\n",
              "</style>\n",
              "<table border=\"1\" class=\"dataframe\">\n",
              "  <thead>\n",
              "    <tr style=\"text-align: right;\">\n",
              "      <th></th>\n",
              "      <th>surgery</th>\n",
              "      <th>age</th>\n",
              "      <th>rectal_temp</th>\n",
              "      <th>pulse</th>\n",
              "      <th>respiratory_rate</th>\n",
              "      <th>temp_of_extremities</th>\n",
              "      <th>peripheral_pulse</th>\n",
              "      <th>mucous_membrane</th>\n",
              "      <th>capillary_refill_time</th>\n",
              "      <th>pain</th>\n",
              "      <th>peristalsis</th>\n",
              "      <th>abdominal_distention</th>\n",
              "      <th>nasogastric_tube</th>\n",
              "      <th>nasogastric_reflux</th>\n",
              "      <th>rectal_exam_feces</th>\n",
              "      <th>abdomen</th>\n",
              "      <th>packed_cell_volume</th>\n",
              "      <th>total_protein</th>\n",
              "      <th>outcome</th>\n",
              "      <th>surgical_lesion</th>\n",
              "      <th>NH</th>\n",
              "      <th>TL</th>\n",
              "    </tr>\n",
              "  </thead>\n",
              "  <tbody>\n",
              "    <tr>\n",
              "      <th>surgery</th>\n",
              "      <td>1.000000</td>\n",
              "      <td>-0.089319</td>\n",
              "      <td>-0.016126</td>\n",
              "      <td>0.179646</td>\n",
              "      <td>0.181173</td>\n",
              "      <td>-0.190183</td>\n",
              "      <td>0.115915</td>\n",
              "      <td>0.041470</td>\n",
              "      <td>0.079588</td>\n",
              "      <td>0.228871</td>\n",
              "      <td>-0.061546</td>\n",
              "      <td>-0.150197</td>\n",
              "      <td>0.066982</td>\n",
              "      <td>-0.083910</td>\n",
              "      <td>-0.171611</td>\n",
              "      <td>-0.297202</td>\n",
              "      <td>0.040038</td>\n",
              "      <td>0.042420</td>\n",
              "      <td>-0.189222</td>\n",
              "      <td>0.605023</td>\n",
              "      <td>-0.005840</td>\n",
              "      <td>0.447152</td>\n",
              "    </tr>\n",
              "    <tr>\n",
              "      <th>age</th>\n",
              "      <td>-0.089319</td>\n",
              "      <td>1.000000</td>\n",
              "      <td>-0.198396</td>\n",
              "      <td>-0.507224</td>\n",
              "      <td>-0.375469</td>\n",
              "      <td>0.014282</td>\n",
              "      <td>-0.027843</td>\n",
              "      <td>0.170800</td>\n",
              "      <td>0.030065</td>\n",
              "      <td>-0.058242</td>\n",
              "      <td>-0.021008</td>\n",
              "      <td>0.038430</td>\n",
              "      <td>-0.018020</td>\n",
              "      <td>-0.085657</td>\n",
              "      <td>-0.003506</td>\n",
              "      <td>0.111078</td>\n",
              "      <td>0.144326</td>\n",
              "      <td>0.112925</td>\n",
              "      <td>0.101782</td>\n",
              "      <td>-0.044734</td>\n",
              "      <td>0.102272</td>\n",
              "      <td>-0.051652</td>\n",
              "    </tr>\n",
              "    <tr>\n",
              "      <th>rectal_temp</th>\n",
              "      <td>-0.016126</td>\n",
              "      <td>-0.198396</td>\n",
              "      <td>1.000000</td>\n",
              "      <td>0.228174</td>\n",
              "      <td>0.243030</td>\n",
              "      <td>-0.067107</td>\n",
              "      <td>-0.008050</td>\n",
              "      <td>-0.149689</td>\n",
              "      <td>0.091296</td>\n",
              "      <td>-0.080619</td>\n",
              "      <td>-0.061753</td>\n",
              "      <td>-0.033802</td>\n",
              "      <td>-0.029027</td>\n",
              "      <td>-0.011612</td>\n",
              "      <td>-0.049160</td>\n",
              "      <td>-0.053715</td>\n",
              "      <td>0.049848</td>\n",
              "      <td>-0.050589</td>\n",
              "      <td>-0.008841</td>\n",
              "      <td>-0.007322</td>\n",
              "      <td>0.105964</td>\n",
              "      <td>-0.032661</td>\n",
              "    </tr>\n",
              "    <tr>\n",
              "      <th>pulse</th>\n",
              "      <td>0.179646</td>\n",
              "      <td>-0.507224</td>\n",
              "      <td>0.228174</td>\n",
              "      <td>1.000000</td>\n",
              "      <td>0.439825</td>\n",
              "      <td>-0.287472</td>\n",
              "      <td>0.247265</td>\n",
              "      <td>-0.047240</td>\n",
              "      <td>0.375765</td>\n",
              "      <td>0.125354</td>\n",
              "      <td>-0.277144</td>\n",
              "      <td>-0.073880</td>\n",
              "      <td>-0.030281</td>\n",
              "      <td>-0.108653</td>\n",
              "      <td>-0.208565</td>\n",
              "      <td>-0.208004</td>\n",
              "      <td>0.369850</td>\n",
              "      <td>-0.079947</td>\n",
              "      <td>-0.344670</td>\n",
              "      <td>0.259733</td>\n",
              "      <td>-0.012624</td>\n",
              "      <td>0.277042</td>\n",
              "    </tr>\n",
              "    <tr>\n",
              "      <th>respiratory_rate</th>\n",
              "      <td>0.181173</td>\n",
              "      <td>-0.375469</td>\n",
              "      <td>0.243030</td>\n",
              "      <td>0.439825</td>\n",
              "      <td>1.000000</td>\n",
              "      <td>-0.027365</td>\n",
              "      <td>0.132643</td>\n",
              "      <td>-0.080842</td>\n",
              "      <td>0.083410</td>\n",
              "      <td>0.097621</td>\n",
              "      <td>-0.057862</td>\n",
              "      <td>-0.034526</td>\n",
              "      <td>-0.031858</td>\n",
              "      <td>-0.165818</td>\n",
              "      <td>-0.026901</td>\n",
              "      <td>-0.164523</td>\n",
              "      <td>0.073790</td>\n",
              "      <td>-0.077715</td>\n",
              "      <td>-0.079408</td>\n",
              "      <td>0.218532</td>\n",
              "      <td>-0.045519</td>\n",
              "      <td>0.181100</td>\n",
              "    </tr>\n",
              "    <tr>\n",
              "      <th>temp_of_extremities</th>\n",
              "      <td>-0.190183</td>\n",
              "      <td>0.014282</td>\n",
              "      <td>-0.067107</td>\n",
              "      <td>-0.287472</td>\n",
              "      <td>-0.027365</td>\n",
              "      <td>1.000000</td>\n",
              "      <td>-0.193530</td>\n",
              "      <td>-0.089494</td>\n",
              "      <td>-0.257690</td>\n",
              "      <td>-0.188108</td>\n",
              "      <td>0.194146</td>\n",
              "      <td>0.043866</td>\n",
              "      <td>-0.058958</td>\n",
              "      <td>0.077912</td>\n",
              "      <td>0.269007</td>\n",
              "      <td>0.169069</td>\n",
              "      <td>-0.287791</td>\n",
              "      <td>0.030805</td>\n",
              "      <td>0.290367</td>\n",
              "      <td>-0.226318</td>\n",
              "      <td>-0.081131</td>\n",
              "      <td>-0.223948</td>\n",
              "    </tr>\n",
              "    <tr>\n",
              "      <th>peripheral_pulse</th>\n",
              "      <td>0.115915</td>\n",
              "      <td>-0.027843</td>\n",
              "      <td>-0.008050</td>\n",
              "      <td>0.247265</td>\n",
              "      <td>0.132643</td>\n",
              "      <td>-0.193530</td>\n",
              "      <td>1.000000</td>\n",
              "      <td>0.080396</td>\n",
              "      <td>0.226861</td>\n",
              "      <td>0.062531</td>\n",
              "      <td>-0.224845</td>\n",
              "      <td>-0.133792</td>\n",
              "      <td>-0.067478</td>\n",
              "      <td>-0.227529</td>\n",
              "      <td>-0.132625</td>\n",
              "      <td>-0.121833</td>\n",
              "      <td>0.239227</td>\n",
              "      <td>-0.038235</td>\n",
              "      <td>-0.165719</td>\n",
              "      <td>0.165077</td>\n",
              "      <td>0.038381</td>\n",
              "      <td>0.195295</td>\n",
              "    </tr>\n",
              "    <tr>\n",
              "      <th>mucous_membrane</th>\n",
              "      <td>0.041470</td>\n",
              "      <td>0.170800</td>\n",
              "      <td>-0.149689</td>\n",
              "      <td>-0.047240</td>\n",
              "      <td>-0.080842</td>\n",
              "      <td>-0.089494</td>\n",
              "      <td>0.080396</td>\n",
              "      <td>1.000000</td>\n",
              "      <td>-0.058657</td>\n",
              "      <td>0.154351</td>\n",
              "      <td>-0.173991</td>\n",
              "      <td>-0.007055</td>\n",
              "      <td>0.064263</td>\n",
              "      <td>-0.039029</td>\n",
              "      <td>-0.028594</td>\n",
              "      <td>0.017558</td>\n",
              "      <td>-0.132105</td>\n",
              "      <td>-0.011503</td>\n",
              "      <td>0.056852</td>\n",
              "      <td>0.075724</td>\n",
              "      <td>0.084064</td>\n",
              "      <td>0.108157</td>\n",
              "    </tr>\n",
              "    <tr>\n",
              "      <th>capillary_refill_time</th>\n",
              "      <td>0.079588</td>\n",
              "      <td>0.030065</td>\n",
              "      <td>0.091296</td>\n",
              "      <td>0.375765</td>\n",
              "      <td>0.083410</td>\n",
              "      <td>-0.257690</td>\n",
              "      <td>0.226861</td>\n",
              "      <td>-0.058657</td>\n",
              "      <td>1.000000</td>\n",
              "      <td>0.059026</td>\n",
              "      <td>-0.235108</td>\n",
              "      <td>0.034186</td>\n",
              "      <td>-0.026733</td>\n",
              "      <td>-0.166372</td>\n",
              "      <td>-0.172442</td>\n",
              "      <td>-0.142492</td>\n",
              "      <td>0.472536</td>\n",
              "      <td>-0.069844</td>\n",
              "      <td>-0.256294</td>\n",
              "      <td>0.165131</td>\n",
              "      <td>0.188904</td>\n",
              "      <td>0.205135</td>\n",
              "    </tr>\n",
              "    <tr>\n",
              "      <th>pain</th>\n",
              "      <td>0.228871</td>\n",
              "      <td>-0.058242</td>\n",
              "      <td>-0.080619</td>\n",
              "      <td>0.125354</td>\n",
              "      <td>0.097621</td>\n",
              "      <td>-0.188108</td>\n",
              "      <td>0.062531</td>\n",
              "      <td>0.154351</td>\n",
              "      <td>0.059026</td>\n",
              "      <td>1.000000</td>\n",
              "      <td>-0.024363</td>\n",
              "      <td>-0.065390</td>\n",
              "      <td>0.099528</td>\n",
              "      <td>-0.050850</td>\n",
              "      <td>-0.130667</td>\n",
              "      <td>-0.296097</td>\n",
              "      <td>0.025235</td>\n",
              "      <td>-0.075915</td>\n",
              "      <td>-0.161964</td>\n",
              "      <td>0.276427</td>\n",
              "      <td>-0.049461</td>\n",
              "      <td>0.272051</td>\n",
              "    </tr>\n",
              "    <tr>\n",
              "      <th>peristalsis</th>\n",
              "      <td>-0.061546</td>\n",
              "      <td>-0.021008</td>\n",
              "      <td>-0.061753</td>\n",
              "      <td>-0.277144</td>\n",
              "      <td>-0.057862</td>\n",
              "      <td>0.194146</td>\n",
              "      <td>-0.224845</td>\n",
              "      <td>-0.173991</td>\n",
              "      <td>-0.235108</td>\n",
              "      <td>-0.024363</td>\n",
              "      <td>1.000000</td>\n",
              "      <td>-0.027118</td>\n",
              "      <td>-0.018284</td>\n",
              "      <td>0.146367</td>\n",
              "      <td>0.113293</td>\n",
              "      <td>0.108243</td>\n",
              "      <td>-0.265939</td>\n",
              "      <td>-0.116132</td>\n",
              "      <td>0.165844</td>\n",
              "      <td>-0.148574</td>\n",
              "      <td>0.118991</td>\n",
              "      <td>-0.149742</td>\n",
              "    </tr>\n",
              "    <tr>\n",
              "      <th>abdominal_distention</th>\n",
              "      <td>-0.150197</td>\n",
              "      <td>0.038430</td>\n",
              "      <td>-0.033802</td>\n",
              "      <td>-0.073880</td>\n",
              "      <td>-0.034526</td>\n",
              "      <td>0.043866</td>\n",
              "      <td>-0.133792</td>\n",
              "      <td>-0.007055</td>\n",
              "      <td>0.034186</td>\n",
              "      <td>-0.065390</td>\n",
              "      <td>-0.027118</td>\n",
              "      <td>1.000000</td>\n",
              "      <td>-0.053246</td>\n",
              "      <td>0.058756</td>\n",
              "      <td>0.009803</td>\n",
              "      <td>0.114305</td>\n",
              "      <td>-0.057302</td>\n",
              "      <td>-0.012287</td>\n",
              "      <td>0.112309</td>\n",
              "      <td>-0.149064</td>\n",
              "      <td>-0.041589</td>\n",
              "      <td>-0.082973</td>\n",
              "    </tr>\n",
              "    <tr>\n",
              "      <th>nasogastric_tube</th>\n",
              "      <td>0.066982</td>\n",
              "      <td>-0.018020</td>\n",
              "      <td>-0.029027</td>\n",
              "      <td>-0.030281</td>\n",
              "      <td>-0.031858</td>\n",
              "      <td>-0.058958</td>\n",
              "      <td>-0.067478</td>\n",
              "      <td>0.064263</td>\n",
              "      <td>-0.026733</td>\n",
              "      <td>0.099528</td>\n",
              "      <td>-0.018284</td>\n",
              "      <td>-0.053246</td>\n",
              "      <td>1.000000</td>\n",
              "      <td>0.102928</td>\n",
              "      <td>-0.052953</td>\n",
              "      <td>0.060445</td>\n",
              "      <td>-0.021623</td>\n",
              "      <td>-0.026171</td>\n",
              "      <td>0.049156</td>\n",
              "      <td>0.023299</td>\n",
              "      <td>-0.055263</td>\n",
              "      <td>-0.013265</td>\n",
              "    </tr>\n",
              "    <tr>\n",
              "      <th>nasogastric_reflux</th>\n",
              "      <td>-0.083910</td>\n",
              "      <td>-0.085657</td>\n",
              "      <td>-0.011612</td>\n",
              "      <td>-0.108653</td>\n",
              "      <td>-0.165818</td>\n",
              "      <td>0.077912</td>\n",
              "      <td>-0.227529</td>\n",
              "      <td>-0.039029</td>\n",
              "      <td>-0.166372</td>\n",
              "      <td>-0.050850</td>\n",
              "      <td>0.146367</td>\n",
              "      <td>0.058756</td>\n",
              "      <td>0.102928</td>\n",
              "      <td>1.000000</td>\n",
              "      <td>0.072262</td>\n",
              "      <td>0.071811</td>\n",
              "      <td>-0.281882</td>\n",
              "      <td>0.108381</td>\n",
              "      <td>0.181422</td>\n",
              "      <td>-0.211128</td>\n",
              "      <td>-0.037006</td>\n",
              "      <td>-0.183108</td>\n",
              "    </tr>\n",
              "    <tr>\n",
              "      <th>rectal_exam_feces</th>\n",
              "      <td>-0.171611</td>\n",
              "      <td>-0.003506</td>\n",
              "      <td>-0.049160</td>\n",
              "      <td>-0.208565</td>\n",
              "      <td>-0.026901</td>\n",
              "      <td>0.269007</td>\n",
              "      <td>-0.132625</td>\n",
              "      <td>-0.028594</td>\n",
              "      <td>-0.172442</td>\n",
              "      <td>-0.130667</td>\n",
              "      <td>0.113293</td>\n",
              "      <td>0.009803</td>\n",
              "      <td>-0.052953</td>\n",
              "      <td>0.072262</td>\n",
              "      <td>1.000000</td>\n",
              "      <td>0.237937</td>\n",
              "      <td>-0.237598</td>\n",
              "      <td>-0.054706</td>\n",
              "      <td>0.193004</td>\n",
              "      <td>-0.199348</td>\n",
              "      <td>0.136169</td>\n",
              "      <td>-0.281696</td>\n",
              "    </tr>\n",
              "    <tr>\n",
              "      <th>abdomen</th>\n",
              "      <td>-0.297202</td>\n",
              "      <td>0.111078</td>\n",
              "      <td>-0.053715</td>\n",
              "      <td>-0.208004</td>\n",
              "      <td>-0.164523</td>\n",
              "      <td>0.169069</td>\n",
              "      <td>-0.121833</td>\n",
              "      <td>0.017558</td>\n",
              "      <td>-0.142492</td>\n",
              "      <td>-0.296097</td>\n",
              "      <td>0.108243</td>\n",
              "      <td>0.114305</td>\n",
              "      <td>0.060445</td>\n",
              "      <td>0.071811</td>\n",
              "      <td>0.237937</td>\n",
              "      <td>1.000000</td>\n",
              "      <td>-0.052250</td>\n",
              "      <td>-0.029447</td>\n",
              "      <td>0.214875</td>\n",
              "      <td>-0.316903</td>\n",
              "      <td>0.115729</td>\n",
              "      <td>-0.217630</td>\n",
              "    </tr>\n",
              "    <tr>\n",
              "      <th>packed_cell_volume</th>\n",
              "      <td>0.040038</td>\n",
              "      <td>0.144326</td>\n",
              "      <td>0.049848</td>\n",
              "      <td>0.369850</td>\n",
              "      <td>0.073790</td>\n",
              "      <td>-0.287791</td>\n",
              "      <td>0.239227</td>\n",
              "      <td>-0.132105</td>\n",
              "      <td>0.472536</td>\n",
              "      <td>0.025235</td>\n",
              "      <td>-0.265939</td>\n",
              "      <td>-0.057302</td>\n",
              "      <td>-0.021623</td>\n",
              "      <td>-0.281882</td>\n",
              "      <td>-0.237598</td>\n",
              "      <td>-0.052250</td>\n",
              "      <td>1.000000</td>\n",
              "      <td>-0.051740</td>\n",
              "      <td>-0.401140</td>\n",
              "      <td>0.163993</td>\n",
              "      <td>0.134179</td>\n",
              "      <td>0.204697</td>\n",
              "    </tr>\n",
              "    <tr>\n",
              "      <th>total_protein</th>\n",
              "      <td>0.042420</td>\n",
              "      <td>0.112925</td>\n",
              "      <td>-0.050589</td>\n",
              "      <td>-0.079947</td>\n",
              "      <td>-0.077715</td>\n",
              "      <td>0.030805</td>\n",
              "      <td>-0.038235</td>\n",
              "      <td>-0.011503</td>\n",
              "      <td>-0.069844</td>\n",
              "      <td>-0.075915</td>\n",
              "      <td>-0.116132</td>\n",
              "      <td>-0.012287</td>\n",
              "      <td>-0.026171</td>\n",
              "      <td>0.108381</td>\n",
              "      <td>-0.054706</td>\n",
              "      <td>-0.029447</td>\n",
              "      <td>-0.051740</td>\n",
              "      <td>1.000000</td>\n",
              "      <td>0.245657</td>\n",
              "      <td>-0.113224</td>\n",
              "      <td>-0.124887</td>\n",
              "      <td>-0.108678</td>\n",
              "    </tr>\n",
              "    <tr>\n",
              "      <th>outcome</th>\n",
              "      <td>-0.189222</td>\n",
              "      <td>0.101782</td>\n",
              "      <td>-0.008841</td>\n",
              "      <td>-0.344670</td>\n",
              "      <td>-0.079408</td>\n",
              "      <td>0.290367</td>\n",
              "      <td>-0.165719</td>\n",
              "      <td>0.056852</td>\n",
              "      <td>-0.256294</td>\n",
              "      <td>-0.161964</td>\n",
              "      <td>0.165844</td>\n",
              "      <td>0.112309</td>\n",
              "      <td>0.049156</td>\n",
              "      <td>0.181422</td>\n",
              "      <td>0.193004</td>\n",
              "      <td>0.214875</td>\n",
              "      <td>-0.401140</td>\n",
              "      <td>0.245657</td>\n",
              "      <td>1.000000</td>\n",
              "      <td>-0.332933</td>\n",
              "      <td>-0.098297</td>\n",
              "      <td>-0.271305</td>\n",
              "    </tr>\n",
              "    <tr>\n",
              "      <th>surgical_lesion</th>\n",
              "      <td>0.605023</td>\n",
              "      <td>-0.044734</td>\n",
              "      <td>-0.007322</td>\n",
              "      <td>0.259733</td>\n",
              "      <td>0.218532</td>\n",
              "      <td>-0.226318</td>\n",
              "      <td>0.165077</td>\n",
              "      <td>0.075724</td>\n",
              "      <td>0.165131</td>\n",
              "      <td>0.276427</td>\n",
              "      <td>-0.148574</td>\n",
              "      <td>-0.149064</td>\n",
              "      <td>0.023299</td>\n",
              "      <td>-0.211128</td>\n",
              "      <td>-0.199348</td>\n",
              "      <td>-0.316903</td>\n",
              "      <td>0.163993</td>\n",
              "      <td>-0.113224</td>\n",
              "      <td>-0.332933</td>\n",
              "      <td>1.000000</td>\n",
              "      <td>-0.007518</td>\n",
              "      <td>0.574441</td>\n",
              "    </tr>\n",
              "    <tr>\n",
              "      <th>NH</th>\n",
              "      <td>-0.005840</td>\n",
              "      <td>0.102272</td>\n",
              "      <td>0.105964</td>\n",
              "      <td>-0.012624</td>\n",
              "      <td>-0.045519</td>\n",
              "      <td>-0.081131</td>\n",
              "      <td>0.038381</td>\n",
              "      <td>0.084064</td>\n",
              "      <td>0.188904</td>\n",
              "      <td>-0.049461</td>\n",
              "      <td>0.118991</td>\n",
              "      <td>-0.041589</td>\n",
              "      <td>-0.055263</td>\n",
              "      <td>-0.037006</td>\n",
              "      <td>0.136169</td>\n",
              "      <td>0.115729</td>\n",
              "      <td>0.134179</td>\n",
              "      <td>-0.124887</td>\n",
              "      <td>-0.098297</td>\n",
              "      <td>-0.007518</td>\n",
              "      <td>1.000000</td>\n",
              "      <td>-0.045643</td>\n",
              "    </tr>\n",
              "    <tr>\n",
              "      <th>TL</th>\n",
              "      <td>0.447152</td>\n",
              "      <td>-0.051652</td>\n",
              "      <td>-0.032661</td>\n",
              "      <td>0.277042</td>\n",
              "      <td>0.181100</td>\n",
              "      <td>-0.223948</td>\n",
              "      <td>0.195295</td>\n",
              "      <td>0.108157</td>\n",
              "      <td>0.205135</td>\n",
              "      <td>0.272051</td>\n",
              "      <td>-0.149742</td>\n",
              "      <td>-0.082973</td>\n",
              "      <td>-0.013265</td>\n",
              "      <td>-0.183108</td>\n",
              "      <td>-0.281696</td>\n",
              "      <td>-0.217630</td>\n",
              "      <td>0.204697</td>\n",
              "      <td>-0.108678</td>\n",
              "      <td>-0.271305</td>\n",
              "      <td>0.574441</td>\n",
              "      <td>-0.045643</td>\n",
              "      <td>1.000000</td>\n",
              "    </tr>\n",
              "  </tbody>\n",
              "</table>\n",
              "</div>"
            ],
            "text/plain": [
              "                        surgery       age  ...        NH        TL\n",
              "surgery                1.000000 -0.089319  ... -0.005840  0.447152\n",
              "age                   -0.089319  1.000000  ...  0.102272 -0.051652\n",
              "rectal_temp           -0.016126 -0.198396  ...  0.105964 -0.032661\n",
              "pulse                  0.179646 -0.507224  ... -0.012624  0.277042\n",
              "respiratory_rate       0.181173 -0.375469  ... -0.045519  0.181100\n",
              "temp_of_extremities   -0.190183  0.014282  ... -0.081131 -0.223948\n",
              "peripheral_pulse       0.115915 -0.027843  ...  0.038381  0.195295\n",
              "mucous_membrane        0.041470  0.170800  ...  0.084064  0.108157\n",
              "capillary_refill_time  0.079588  0.030065  ...  0.188904  0.205135\n",
              "pain                   0.228871 -0.058242  ... -0.049461  0.272051\n",
              "peristalsis           -0.061546 -0.021008  ...  0.118991 -0.149742\n",
              "abdominal_distention  -0.150197  0.038430  ... -0.041589 -0.082973\n",
              "nasogastric_tube       0.066982 -0.018020  ... -0.055263 -0.013265\n",
              "nasogastric_reflux    -0.083910 -0.085657  ... -0.037006 -0.183108\n",
              "rectal_exam_feces     -0.171611 -0.003506  ...  0.136169 -0.281696\n",
              "abdomen               -0.297202  0.111078  ...  0.115729 -0.217630\n",
              "packed_cell_volume     0.040038  0.144326  ...  0.134179  0.204697\n",
              "total_protein          0.042420  0.112925  ... -0.124887 -0.108678\n",
              "outcome               -0.189222  0.101782  ... -0.098297 -0.271305\n",
              "surgical_lesion        0.605023 -0.044734  ... -0.007518  0.574441\n",
              "NH                    -0.005840  0.102272  ...  1.000000 -0.045643\n",
              "TL                     0.447152 -0.051652  ... -0.045643  1.000000\n",
              "\n",
              "[22 rows x 22 columns]"
            ]
          },
          "metadata": {},
          "execution_count": 96
        }
      ]
    },
    {
      "cell_type": "code",
      "source": [
        "plt.figure(figsize=(20,20))\n",
        "g=sns.heatmap(dataset.corr(), annot=True, cmap=\"RdYlGn\")"
      ],
      "metadata": {
        "colab": {
          "base_uri": "https://localhost:8080/",
          "height": 1000
        },
        "id": "aRBsnM9uY1rp",
        "outputId": "bda2880a-4a41-4562-f286-e072149c88c0"
      },
      "execution_count": null,
      "outputs": [
        {
          "output_type": "display_data",
          "data": {
            "image/png": "[encoded data removed]",
            "text/plain": [
              "<Figure size 1440x1440 with 2 Axes>"
            ]
          },
          "metadata": {
            "needs_background": "light"
          }
        }
      ]
    },
    {
      "cell_type": "code",
      "source": [
        "# Tenemos dos variables muy correlacionadas, surgical_lesion y surgery\n",
        "# Nos quedamos con surgical_lesion porque es la que está más correlacionada con la variable objetivo que es outcome\n",
        "dataset_cor = dataset.drop(['surgery'], axis=1)\n",
        "dataset_cor.info()"
      ],
      "metadata": {
        "colab": {
          "base_uri": "https://localhost:8080/"
        },
        "id": "4ed-SebynSBG",
        "outputId": "680f50ca-b398-4782-a848-dbdbe543ca12"
      },
      "execution_count": null,
      "outputs": [
        {
          "output_type": "stream",
          "name": "stdout",
          "text": [
            "<class 'pandas.core.frame.DataFrame'>\n",
            "RangeIndex: 299 entries, 0 to 298\n",
            "Data columns (total 21 columns):\n",
            " #   Column                 Non-Null Count  Dtype  \n",
            "---  ------                 --------------  -----  \n",
            " 0   age                    299 non-null    int64  \n",
            " 1   rectal_temp            299 non-null    float64\n",
            " 2   pulse                  299 non-null    float64\n",
            " 3   respiratory_rate       299 non-null    float64\n",
            " 4   temp_of_extremities    299 non-null    int8   \n",
            " 5   peripheral_pulse       299 non-null    int8   \n",
            " 6   mucous_membrane        299 non-null    int8   \n",
            " 7   capillary_refill_time  299 non-null    int8   \n",
            " 8   pain                   299 non-null    int8   \n",
            " 9   peristalsis            299 non-null    int8   \n",
            " 10  abdominal_distention   299 non-null    int8   \n",
            " 11  nasogastric_tube       299 non-null    int8   \n",
            " 12  nasogastric_reflux     299 non-null    int8   \n",
            " 13  rectal_exam_feces      299 non-null    int8   \n",
            " 14  abdomen                299 non-null    int8   \n",
            " 15  packed_cell_volume     299 non-null    float64\n",
            " 16  total_protein          299 non-null    float64\n",
            " 17  outcome                299 non-null    int8   \n",
            " 18  surgical_lesion        299 non-null    int64  \n",
            " 19  NH                     299 non-null    int64  \n",
            " 20  TL                     299 non-null    int64  \n",
            "dtypes: float64(5), int64(4), int8(12)\n",
            "memory usage: 24.7 KB\n"
          ]
        }
      ]
    },
    {
      "cell_type": "code",
      "source": [
        "correlaciones = abs(dataset_cor.corr()['outcome']).sort_values(ascending=False)\n",
        "print (correlaciones)\n"
      ],
      "metadata": {
        "colab": {
          "base_uri": "https://localhost:8080/"
        },
        "id": "jd7r1c09mbLj",
        "outputId": "66803041-7ca3-4140-994d-2305e4b6189e"
      },
      "execution_count": null,
      "outputs": [
        {
          "output_type": "stream",
          "name": "stdout",
          "text": [
            "outcome                  1.000000\n",
            "packed_cell_volume       0.401140\n",
            "pulse                    0.344670\n",
            "surgical_lesion          0.332933\n",
            "temp_of_extremities      0.290367\n",
            "TL                       0.271305\n",
            "capillary_refill_time    0.256294\n",
            "total_protein            0.245657\n",
            "abdomen                  0.214875\n",
            "rectal_exam_feces        0.193004\n",
            "nasogastric_reflux       0.181422\n",
            "peristalsis              0.165844\n",
            "peripheral_pulse         0.165719\n",
            "pain                     0.161964\n",
            "abdominal_distention     0.112309\n",
            "age                      0.101782\n",
            "NH                       0.098297\n",
            "respiratory_rate         0.079408\n",
            "mucous_membrane          0.056852\n",
            "nasogastric_tube         0.049156\n",
            "rectal_temp              0.001790\n",
            "Name: outcome, dtype: float64\n"
          ]
        }
      ]
    },
    {
      "cell_type": "code",
      "source": [
        "# En este caso eliminaremos aquellos atributos que tengan una correlación inferior a 0.1\n",
        "\n",
        "for col in range(len(correlaciones)):\n",
        "  if abs(correlaciones[col]) < 0.1:\n",
        "    dataset_cor = dataset_cor.drop([correlaciones.index[col]], axis=1)"
      ],
      "metadata": {
        "id": "w5K8PbK9nt_b"
      },
      "execution_count": null,
      "outputs": []
    },
    {
      "cell_type": "code",
      "source": [
        "dataset_cor.info()"
      ],
      "metadata": {
        "colab": {
          "base_uri": "https://localhost:8080/"
        },
        "id": "fhNc6OX8ve7p",
        "outputId": "b40e66df-f0c0-425a-884f-856d4dcba4e2"
      },
      "execution_count": null,
      "outputs": [
        {
          "output_type": "stream",
          "name": "stdout",
          "text": [
            "<class 'pandas.core.frame.DataFrame'>\n",
            "RangeIndex: 299 entries, 0 to 298\n",
            "Data columns (total 16 columns):\n",
            " #   Column                 Non-Null Count  Dtype  \n",
            "---  ------                 --------------  -----  \n",
            " 0   age                    299 non-null    int64  \n",
            " 1   pulse                  299 non-null    float64\n",
            " 2   temp_of_extremities    299 non-null    int8   \n",
            " 3   peripheral_pulse       299 non-null    int8   \n",
            " 4   capillary_refill_time  299 non-null    int8   \n",
            " 5   pain                   299 non-null    int8   \n",
            " 6   peristalsis            299 non-null    int8   \n",
            " 7   abdominal_distention   299 non-null    int8   \n",
            " 8   nasogastric_reflux     299 non-null    int8   \n",
            " 9   rectal_exam_feces      299 non-null    int8   \n",
            " 10  abdomen                299 non-null    int8   \n",
            " 11  packed_cell_volume     299 non-null    float64\n",
            " 12  total_protein          299 non-null    float64\n",
            " 13  outcome                299 non-null    int8   \n",
            " 14  surgical_lesion        299 non-null    int64  \n",
            " 15  TL                     299 non-null    int64  \n",
            "dtypes: float64(3), int64(3), int8(10)\n",
            "memory usage: 17.1 KB\n"
          ]
        }
      ]
    },
    {
      "cell_type": "markdown",
      "source": [
        "#**Backward elimination**"
      ],
      "metadata": {
        "id": "-rHY-xpt6k3i"
      }
    },
    {
      "cell_type": "code",
      "source": [
        "import statsmodels.api as sm\n",
        "\n",
        "X = dataset\n",
        "y = dataset[\"outcome\"]\n",
        "dataset.head()"
      ],
      "metadata": {
        "colab": {
          "base_uri": "https://localhost:8080/",
          "height": 261
        },
        "id": "PVurhpV-7hn4",
        "outputId": "a5d3cf30-784a-478d-a780-fd1304c7362b"
      },
      "execution_count": null,
      "outputs": [
        {
          "output_type": "stream",
          "name": "stderr",
          "text": [
            "/usr/local/lib/python3.7/dist-packages/statsmodels/tools/_testing.py:19: FutureWarning: pandas.util.testing is deprecated. Use the functions in the public API at pandas.testing instead.\n",
            "  import pandas.util.testing as tm\n"
          ]
        },
        {
          "output_type": "execute_result",
          "data": {
            "text/html": [
              "<div>\n",
              "<style scoped>\n",
              "    .dataframe tbody tr th:only-of-type {\n",
              "        vertical-align: middle;\n",
              "    }\n",
              "\n",
              "    .dataframe tbody tr th {\n",
              "        vertical-align: top;\n",
              "    }\n",
              "\n",
              "    .dataframe thead th {\n",
              "        text-align: right;\n",
              "    }\n",
              "</style>\n",
              "<table border=\"1\" class=\"dataframe\">\n",
              "  <thead>\n",
              "    <tr style=\"text-align: right;\">\n",
              "      <th></th>\n",
              "      <th>surgery</th>\n",
              "      <th>age</th>\n",
              "      <th>rectal_temp</th>\n",
              "      <th>pulse</th>\n",
              "      <th>respiratory_rate</th>\n",
              "      <th>temp_of_extremities</th>\n",
              "      <th>peripheral_pulse</th>\n",
              "      <th>mucous_membrane</th>\n",
              "      <th>capillary_refill_time</th>\n",
              "      <th>pain</th>\n",
              "      <th>peristalsis</th>\n",
              "      <th>abdominal_distention</th>\n",
              "      <th>nasogastric_tube</th>\n",
              "      <th>nasogastric_reflux</th>\n",
              "      <th>rectal_exam_feces</th>\n",
              "      <th>abdomen</th>\n",
              "      <th>packed_cell_volume</th>\n",
              "      <th>total_protein</th>\n",
              "      <th>outcome</th>\n",
              "      <th>surgical_lesion</th>\n",
              "      <th>NH</th>\n",
              "      <th>TL</th>\n",
              "    </tr>\n",
              "  </thead>\n",
              "  <tbody>\n",
              "    <tr>\n",
              "      <th>0</th>\n",
              "      <td>0</td>\n",
              "      <td>1</td>\n",
              "      <td>38.5</td>\n",
              "      <td>66.0</td>\n",
              "      <td>28.0</td>\n",
              "      <td>1</td>\n",
              "      <td>3</td>\n",
              "      <td>3</td>\n",
              "      <td>2</td>\n",
              "      <td>2</td>\n",
              "      <td>0</td>\n",
              "      <td>2</td>\n",
              "      <td>2</td>\n",
              "      <td>2</td>\n",
              "      <td>1</td>\n",
              "      <td>0</td>\n",
              "      <td>45.0</td>\n",
              "      <td>8.4</td>\n",
              "      <td>0</td>\n",
              "      <td>0</td>\n",
              "      <td>1</td>\n",
              "      <td>1</td>\n",
              "    </tr>\n",
              "    <tr>\n",
              "      <th>1</th>\n",
              "      <td>1</td>\n",
              "      <td>1</td>\n",
              "      <td>39.2</td>\n",
              "      <td>88.0</td>\n",
              "      <td>20.0</td>\n",
              "      <td>1</td>\n",
              "      <td>2</td>\n",
              "      <td>4</td>\n",
              "      <td>1</td>\n",
              "      <td>3</td>\n",
              "      <td>0</td>\n",
              "      <td>3</td>\n",
              "      <td>2</td>\n",
              "      <td>2</td>\n",
              "      <td>0</td>\n",
              "      <td>4</td>\n",
              "      <td>50.0</td>\n",
              "      <td>85.0</td>\n",
              "      <td>1</td>\n",
              "      <td>0</td>\n",
              "      <td>1</td>\n",
              "      <td>1</td>\n",
              "    </tr>\n",
              "    <tr>\n",
              "      <th>2</th>\n",
              "      <td>0</td>\n",
              "      <td>1</td>\n",
              "      <td>38.3</td>\n",
              "      <td>40.0</td>\n",
              "      <td>24.0</td>\n",
              "      <td>2</td>\n",
              "      <td>2</td>\n",
              "      <td>5</td>\n",
              "      <td>1</td>\n",
              "      <td>3</td>\n",
              "      <td>2</td>\n",
              "      <td>1</td>\n",
              "      <td>2</td>\n",
              "      <td>2</td>\n",
              "      <td>3</td>\n",
              "      <td>3</td>\n",
              "      <td>33.0</td>\n",
              "      <td>6.7</td>\n",
              "      <td>2</td>\n",
              "      <td>0</td>\n",
              "      <td>1</td>\n",
              "      <td>0</td>\n",
              "    </tr>\n",
              "    <tr>\n",
              "      <th>3</th>\n",
              "      <td>1</td>\n",
              "      <td>0</td>\n",
              "      <td>39.1</td>\n",
              "      <td>164.0</td>\n",
              "      <td>84.0</td>\n",
              "      <td>0</td>\n",
              "      <td>2</td>\n",
              "      <td>2</td>\n",
              "      <td>2</td>\n",
              "      <td>1</td>\n",
              "      <td>0</td>\n",
              "      <td>2</td>\n",
              "      <td>0</td>\n",
              "      <td>0</td>\n",
              "      <td>1</td>\n",
              "      <td>0</td>\n",
              "      <td>48.0</td>\n",
              "      <td>7.2</td>\n",
              "      <td>0</td>\n",
              "      <td>1</td>\n",
              "      <td>1</td>\n",
              "      <td>1</td>\n",
              "    </tr>\n",
              "    <tr>\n",
              "      <th>4</th>\n",
              "      <td>0</td>\n",
              "      <td>1</td>\n",
              "      <td>37.3</td>\n",
              "      <td>104.0</td>\n",
              "      <td>35.0</td>\n",
              "      <td>1</td>\n",
              "      <td>2</td>\n",
              "      <td>2</td>\n",
              "      <td>2</td>\n",
              "      <td>3</td>\n",
              "      <td>2</td>\n",
              "      <td>1</td>\n",
              "      <td>2</td>\n",
              "      <td>2</td>\n",
              "      <td>0</td>\n",
              "      <td>0</td>\n",
              "      <td>74.0</td>\n",
              "      <td>7.4</td>\n",
              "      <td>0</td>\n",
              "      <td>0</td>\n",
              "      <td>1</td>\n",
              "      <td>1</td>\n",
              "    </tr>\n",
              "  </tbody>\n",
              "</table>\n",
              "</div>"
            ],
            "text/plain": [
              "   surgery  age  rectal_temp  pulse  ...  outcome  surgical_lesion  NH  TL\n",
              "0        0    1         38.5   66.0  ...        0                0   1   1\n",
              "1        1    1         39.2   88.0  ...        1                0   1   1\n",
              "2        0    1         38.3   40.0  ...        2                0   1   0\n",
              "3        1    0         39.1  164.0  ...        0                1   1   1\n",
              "4        0    1         37.3  104.0  ...        0                0   1   1\n",
              "\n",
              "[5 rows x 22 columns]"
            ]
          },
          "metadata": {},
          "execution_count": 102
        }
      ]
    },
    {
      "cell_type": "code",
      "source": [
        "cols = list(X.columns)\n",
        "pmax = 1\n",
        "while (len(cols)>0):\n",
        "    p= []\n",
        "    X_1 = X[cols]\n",
        "    X_1 = sm.add_constant(X_1)\n",
        "    model = sm.OLS(y,X_1).fit()\n",
        "    p = pd.Series(model.pvalues.values[1:],index = cols)\n",
        "    pmax = max(p)\n",
        "    feature_with_p_max = p.idxmax()\n",
        "    if(pmax>0.05):\n",
        "        cols.remove(feature_with_p_max)\n",
        "    else:\n",
        "        break\n",
        "selected_features_BE = cols\n",
        "print(selected_features_BE)"
      ],
      "metadata": {
        "colab": {
          "base_uri": "https://localhost:8080/"
        },
        "id": "nGklgUrp6wW_",
        "outputId": "3366cc05-3585-4c91-d238-611efad5f4e3"
      },
      "execution_count": null,
      "outputs": [
        {
          "output_type": "stream",
          "name": "stdout",
          "text": [
            "['pulse', 'total_protein', 'outcome']\n"
          ]
        }
      ]
    },
    {
      "cell_type": "markdown",
      "source": [
        "#**PCA 1**"
      ],
      "metadata": {
        "id": "sAGLGVzrdOJj"
      }
    },
    {
      "cell_type": "code",
      "source": [
        "from sklearn.decomposition import PCA\n",
        "from sklearn.preprocessing import StandardScaler"
      ],
      "metadata": {
        "id": "q3Ve6tb8dr47"
      },
      "execution_count": null,
      "outputs": []
    },
    {
      "cell_type": "code",
      "source": [
        "# Normalizamos los datos\n",
        "scaler=StandardScaler()\n",
        "df = dataset.drop(['outcome'], axis=1) # quito la variable dependiente \"Y\"\n",
        "scaler.fit(df) # calculo la media para poder hacer la transformacion\n",
        "X_scaled=scaler.transform(df)# Ahora si, escalo los datos y los normalizo"
      ],
      "metadata": {
        "id": "43_-fj5WdY57"
      },
      "execution_count": null,
      "outputs": []
    },
    {
      "cell_type": "code",
      "source": [
        "# Instanciamos PCA\n",
        "pca=PCA(n_components=15) # Otra opción es instanciar pca sólo con dimensiones nuevas hasta obtener un mínimo \"explicado\" ej.: pca=PCA(.85)\n",
        "pca.fit(X_scaled) # obtener los componentes principales\n",
        "X_pca=pca.transform(X_scaled) # convertimos nuestros datos con las nuevas dimensiones de PCA"
      ],
      "metadata": {
        "id": "DDrGEpyGd06T"
      },
      "execution_count": null,
      "outputs": []
    },
    {
      "cell_type": "code",
      "source": [
        "print(\"shape of X_pca\", X_pca.shape)\n",
        "expl = pca.explained_variance_ratio_\n",
        "print(expl)\n",
        "print('suma:',sum(expl[0:14]))"
      ],
      "metadata": {
        "colab": {
          "base_uri": "https://localhost:8080/"
        },
        "id": "y5ea29DPeDh_",
        "outputId": "ad7f422e-8d1c-46e3-c599-bb575caa9351"
      },
      "execution_count": null,
      "outputs": [
        {
          "output_type": "stream",
          "name": "stdout",
          "text": [
            "shape of X_pca (299, 15)\n",
            "[0.17753306 0.08919417 0.0872422  0.06417696 0.05611848 0.05396562\n",
            " 0.05031584 0.0466552  0.04501595 0.04100125 0.03926609 0.03501438\n",
            " 0.03336274 0.03249227 0.02952479]\n",
            "suma: 0.8513542114733368\n"
          ]
        }
      ]
    },
    {
      "cell_type": "code",
      "source": [
        "plt.plot(np.cumsum(pca.explained_variance_ratio_))\n",
        "plt.xlabel('number of components')\n",
        "plt.ylabel('cumulative explained variance')\n",
        "plt.show()"
      ],
      "metadata": {
        "colab": {
          "base_uri": "https://localhost:8080/",
          "height": 279
        },
        "id": "F4h4_TmEeVtD",
        "outputId": "bb5ea996-97d8-4af1-fce7-8bf17a0f95a0"
      },
      "execution_count": null,
      "outputs": [
        {
          "output_type": "display_data",
          "data": {
            "image/png": "[encoded data removed]",
            "text/plain": [
              "<Figure size 432x288 with 1 Axes>"
            ]
          },
          "metadata": {
            "needs_background": "light"
          }
        }
      ]
    },
    {
      "cell_type": "markdown",
      "source": [],
      "metadata": {
        "id": "M643Df_YsShu"
      }
    },
    {
      "cell_type": "markdown",
      "source": [
        "#**PCA 2**"
      ],
      "metadata": {
        "id": "VThuCePT_xkp"
      }
    },
    {
      "cell_type": "code",
      "source": [
        "dataset.keys()"
      ],
      "metadata": {
        "colab": {
          "base_uri": "https://localhost:8080/"
        },
        "id": "56sMAs-XGeOp",
        "outputId": "e44d90ea-703b-42ce-aebf-55bf827e896d"
      },
      "execution_count": null,
      "outputs": [
        {
          "output_type": "execute_result",
          "data": {
            "text/plain": [
              "Index(['surgery', 'age', 'rectal_temp', 'pulse', 'respiratory_rate',\n",
              "       'temp_of_extremities', 'peripheral_pulse', 'mucous_membrane',\n",
              "       'capillary_refill_time', 'pain', 'peristalsis', 'abdominal_distention',\n",
              "       'nasogastric_tube', 'nasogastric_reflux', 'rectal_exam_feces',\n",
              "       'abdomen', 'packed_cell_volume', 'total_protein', 'outcome',\n",
              "       'surgical_lesion', 'NH', 'TL'],\n",
              "      dtype='object')"
            ]
          },
          "metadata": {},
          "execution_count": 320
        }
      ]
    },
    {
      "cell_type": "code",
      "source": [
        "from sklearn.preprocessing import MinMaxScaler\n",
        "from sklearn.preprocessing import StandardScaler\n",
        "\n",
        "scaler=StandardScaler()\n",
        "df = dataset.drop(['outcome'], axis=1) # quito la variable dependiente \"Y\"\n",
        "scaler.fit(df)\n",
        "scaled_data=scaler.transform(df)\n",
        "scaled_data\n"
      ],
      "metadata": {
        "colab": {
          "base_uri": "https://localhost:8080/"
        },
        "id": "eLOtyA6Z_-6q",
        "outputId": "06b67d46-1a16-48fb-fca9-f662bd4d04b7"
      },
      "execution_count": null,
      "outputs": [
        {
          "output_type": "execute_result",
          "data": {
            "text/plain": [
              "array([[-1.22988009,  0.29541958,  0.46158751, ..., -1.32027242,\n",
              "        -0.34619386,  0.36357377],\n",
              "       [ 0.81308739,  0.29541958,  1.48826409, ..., -1.32027242,\n",
              "        -0.34619386,  0.36357377],\n",
              "       [-1.22988009,  0.29541958,  0.16825135, ..., -1.32027242,\n",
              "        -0.34619386, -1.90118784],\n",
              "       ...,\n",
              "       [ 0.81308739,  0.29541958, -1.00509331, ...,  0.75741944,\n",
              "        -0.34619386,  0.36357377],\n",
              "       [ 0.81308739,  0.29541958, -2.47177413, ...,  0.75741944,\n",
              "        -0.34619386,  0.36357377],\n",
              "       [ 0.81308739,  0.29541958, -1.44509756, ..., -1.32027242,\n",
              "        -0.34619386,  0.36357377]])"
            ]
          },
          "metadata": {},
          "execution_count": 329
        }
      ]
    },
    {
      "cell_type": "code",
      "source": [
        "from sklearn.decomposition import PCA\n",
        "\n",
        "pca=PCA(n_components=2)\n",
        "pca.fit(scaled_data)\n",
        "x_pca=pca.transform(scaled_data)"
      ],
      "metadata": {
        "colab": {
          "base_uri": "https://localhost:8080/"
        },
        "id": "JFglZAeqAbos",
        "outputId": "84b8ea3a-5c0b-43be-939a-05d87a590fc7"
      },
      "execution_count": null,
      "outputs": [
        {
          "output_type": "execute_result",
          "data": {
            "text/plain": [
              "(299, 21)"
            ]
          },
          "metadata": {},
          "execution_count": 330
        }
      ]
    },
    {
      "cell_type": "code",
      "source": [
        "plt.figure(figsize=(8,6))\n",
        "plt.scatter(x_pca[:,0],x_pca[:,1],c=dataset['outcome'])\n",
        "plt.xlabel('First principle component')\n",
        "plt.ylabel('Second principle component')"
      ],
      "metadata": {
        "colab": {
          "base_uri": "https://localhost:8080/",
          "height": 405
        },
        "id": "OW0qB1ufBqFw",
        "outputId": "b79e885f-067d-43ca-fbbc-9480b0a12928"
      },
      "execution_count": null,
      "outputs": [
        {
          "output_type": "execute_result",
          "data": {
            "text/plain": [
              "Text(0, 0.5, 'Second principle component')"
            ]
          },
          "metadata": {},
          "execution_count": 327
        },
        {
          "output_type": "display_data",
          "data": {
            "image/png": "[encoded data removed]",
            "text/plain": [
              "<Figure size 576x432 with 1 Axes>"
            ]
          },
          "metadata": {
            "needs_background": "light"
          }
        }
      ]
    }
  ]
}